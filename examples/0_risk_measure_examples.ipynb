{
 "cells": [
  {
   "cell_type": "markdown",
   "source": [
    "# Risk Measures\n",
    "\n",
    "This file contains the examples in the docstrings as runnable code."
   ],
   "metadata": {}
  },
  {
   "outputs": [],
   "cell_type": "code",
   "source": [
    "using PortfolioOptimiser, HiGHS, Clarabel, Pajarito, JuMP, StatsBase\n",
    "\n",
    "# Randomly generated normally distributed returns.\n",
    "ret = [0.670643    1.94045   -0.0896267   0.851535    -0.268234\n",
    "       1.33575    -0.541003   2.28744    -0.157588    -1.45177\n",
    "       -1.91694    -0.167745   0.920495    0.00677243  -1.29112\n",
    "       0.123141    1.59841   -0.185076    2.58911     -0.250747\n",
    "       1.92782     1.01679    1.12107     1.09731     -0.99954\n",
    "       2.07114    -0.513216  -0.532891    0.917748    -0.0346682\n",
    "       -1.37424    -1.35272   -0.628216   -2.76234     -0.112378\n",
    "       1.3831      1.14021   -0.577472    0.224504     1.28137\n",
    "       -0.0577619  -0.10658   -0.637011    1.70933      1.84176\n",
    "       1.6319      2.05059   -0.21469    -0.640715     1.39879];\n",
    "\n",
    "# Instantiate portfolio instance.\n",
    "port = Portfolio(; ret = ret, assets = [:A, :B, :C, :D, :E],\n",
    "                 solvers = PortOptSolver(; name = :PClGL,\n",
    "                                         solver = optimizer_with_attributes(Pajarito.Optimizer,\n",
    "                                                                            \"verbose\" => false,\n",
    "                                                                            \"oa_solver\" => optimizer_with_attributes(HiGHS.Optimizer,\n",
    "                                                                                                                     MOI.Silent() => true),\n",
    "                                                                            \"conic_solver\" => optimizer_with_attributes(Clarabel.Optimizer,\n",
    "                                                                                                                        \"verbose\" => false,\n",
    "                                                                                                                        \"max_step_fraction\" => 0.75))));\n",
    "\n",
    "# Compute asset statistics.\n",
    "asset_statistics!(port)\n",
    "# Clusterise assets (for hierarchical optimisations).\n",
    "cluster_assets!(port)"
   ],
   "metadata": {},
   "execution_count": 1
  },
  {
   "cell_type": "markdown",
   "source": [
    "# Variance, `Variance`"
   ],
   "metadata": {}
  },
  {
   "outputs": [
    {
     "name": "stdout",
     "output_type": "stream",
     "text": [
      "AssertionError(\"Condition `size(sigma, 1) == size(sigma, 2)` failed due to:\\n\\t`size(sigma, 1)` evaluates to 2\\n\\t`size(sigma, 2)` evaluates to 3\")\n",
      "AssertionError(\"Condition `size(val, 1) == size(val, 2)` failed due to:\\n\\t`size(val, 1)` evaluates to 2\\n\\t`size(val, 2)` evaluates to 3\")\n",
      "┌ Warning: Model could not be optimised satisfactorily.\n",
      "│ Solvers: Dict{Any, Any}(:PClGL_NOC => Dict{Symbol, MathOptInterface.UnsupportedConstraint{MathOptInterface.ScalarQuadraticFunction{Float64}, MathOptInterface.LessThan{Float64}}}(:JuMP_error => MathOptInterface.UnsupportedConstraint{MathOptInterface.ScalarQuadraticFunction{Float64}, MathOptInterface.LessThan{Float64}}(\"Unable to transform a quadratic constraint into a second-order cone constraint because the quadratic constraint is not strongly convex.\\n\\nConvex constraints that are not strongly convex (that is, the matrix is positive semidefinite but not positive definite) are not supported yet.\\n\\nNote that a quadratic equality constraint is non-convex.\"))).\n",
      "└ @ PortfolioOptimiser D:\\Daniel Celis Garza\\dev\\PortfolioOptimiser.jl\\src\\Optimisation\\Functions\\PortfolioOptimisationFinalisation.jl:151\n",
      "┌ Warning: Model could not be optimised satisfactorily.\n",
      "│ Solvers: Dict{Any, Any}(:PClGL_NOC => Dict{Symbol, MathOptInterface.UnsupportedConstraint{MathOptInterface.ScalarQuadraticFunction{Float64}, MathOptInterface.LessThan{Float64}}}(:JuMP_error => MathOptInterface.UnsupportedConstraint{MathOptInterface.ScalarQuadraticFunction{Float64}, MathOptInterface.LessThan{Float64}}(\"Unable to transform a quadratic constraint into a second-order cone constraint because the quadratic constraint is not strongly convex.\\n\\nConvex constraints that are not strongly convex (that is, the matrix is positive semidefinite but not positive definite) are not supported yet.\\n\\nNote that a quadratic equality constraint is non-convex.\"))).\n",
      "└ @ PortfolioOptimiser D:\\Daniel Celis Garza\\dev\\PortfolioOptimiser.jl\\src\\Optimisation\\Functions\\PortfolioOptimisationFinalisation.jl:151\n",
      "┌ Warning: warm start is only partial so will be ignored\n",
      "└ @ Pajarito C:\\Users\\Daniel Celis Garza\\.julia\\packages\\Pajarito\\gSNvz\\src\\models.jl:121\n"
     ]
    },
    {
     "output_type": "execute_result",
     "data": {
      "text/plain": "\u001b[1m5×2 DataFrame\u001b[0m\n\u001b[1m Row \u001b[0m│\u001b[1m tickers \u001b[0m\u001b[1m weights  \u001b[0m\n     │\u001b[90m Symbol  \u001b[0m\u001b[90m Float64  \u001b[0m\n─────┼───────────────────\n   1 │ A        0.147974\n   2 │ B        0.203037\n   3 │ C        0.30094\n   4 │ D        0.136365\n   5 │ E        0.211684",
      "text/html": [
       "<div><div style = \"float: left;\"><span>5×2 DataFrame</span></div><div style = \"clear: both;\"></div></div><div class = \"data-frame\" style = \"overflow-x: scroll;\"><table class = \"data-frame\" style = \"margin-bottom: 6px;\"><thead><tr class = \"header\"><th class = \"rowNumber\" style = \"font-weight: bold; text-align: right;\">Row</th><th style = \"text-align: left;\">tickers</th><th style = \"text-align: left;\">weights</th></tr><tr class = \"subheader headerLastRow\"><th class = \"rowNumber\" style = \"font-weight: bold; text-align: right;\"></th><th title = \"Symbol\" style = \"text-align: left;\">Symbol</th><th title = \"Float64\" style = \"text-align: left;\">Float64</th></tr></thead><tbody><tr><td class = \"rowNumber\" style = \"font-weight: bold; text-align: right;\">1</td><td style = \"text-align: left;\">A</td><td style = \"text-align: right;\">0.147974</td></tr><tr><td class = \"rowNumber\" style = \"font-weight: bold; text-align: right;\">2</td><td style = \"text-align: left;\">B</td><td style = \"text-align: right;\">0.203037</td></tr><tr><td class = \"rowNumber\" style = \"font-weight: bold; text-align: right;\">3</td><td style = \"text-align: left;\">C</td><td style = \"text-align: right;\">0.30094</td></tr><tr><td class = \"rowNumber\" style = \"font-weight: bold; text-align: right;\">4</td><td style = \"text-align: left;\">D</td><td style = \"text-align: right;\">0.136365</td></tr><tr><td class = \"rowNumber\" style = \"font-weight: bold; text-align: right;\">5</td><td style = \"text-align: left;\">E</td><td style = \"text-align: right;\">0.211684</td></tr></tbody></table></div>"
      ]
     },
     "metadata": {},
     "execution_count": 2
    }
   ],
   "cell_type": "code",
   "source": [
    "# If `sigma` is not `nothing` it must be a square matrix. This works at instantiation and runtime.\n",
    "try\n",
    "    Variance(; sigma = [1 0 0;\n",
    "                        0 2 3])\n",
    "catch err\n",
    "    println(err)\n",
    "end\n",
    "\n",
    "try\n",
    "    rm = Variance(;)\n",
    "    rm.sigma = [1 0 0;\n",
    "                0 2 3]\n",
    "catch err\n",
    "    println(err)\n",
    "end\n",
    "\n",
    "# Default formulation.\n",
    "rm = Variance()\n",
    "w1 = optimise!(port, Trad(; rm = rm, str_names = true))\n",
    "r1 = calc_risk(port; rm = rm)\n",
    "# As a functor, we need to provide the covariance matrix to the risk measure directly.\n",
    "rm.sigma = port.cov\n",
    "isapprox(r1, rm(w1.weights))\n",
    "# The value of :variance_risk is consistent with the risk calculation.\n",
    "isapprox(r1, value(port.model[:variance_risk]))\n",
    "# The [`SecondOrderCone`](https://jump.dev/JuMP.jl/stable/tutorials/conic/tips_and_tricks/#Second-Order-Cone) constraint.\n",
    "port.model[:constr_dev_soc]\n",
    "# The variance risk.\n",
    "port.model[:variance_risk]\n",
    "# Variance risk is a [`QuadExpr`](https://jump.dev/JuMP.jl/stable/api/JuMP/#QuadExpr)\n",
    "typeof(port.model[:variance_risk])\n",
    "\n",
    "# Incompatible with `NOC`\n",
    "w2 = optimise!(port, NOC(; rm = rm, str_names = true))\n",
    "\n",
    "# Quadratic formulation.\n",
    "rm = Variance(; formulation = Quad())\n",
    "w3 = optimise!(port, Trad(; rm = rm, str_names = true))\n",
    "port.model[:constr_dev_soc]\n",
    "port.model[:variance_risk]\n",
    "# Variance risk is a [`QuadExpr`](https://jump.dev/JuMP.jl/stable/api/JuMP/#QuadExpr)\n",
    "typeof(port.model[:variance_risk])\n",
    "\n",
    "# Incompatible with `NOC`\n",
    "w4 = optimise!(port, NOC(; rm = rm, str_names = true))\n",
    "\n",
    "# If either `network_adj` or `cluster_adj` field of the `Portfolio` instance is `SDP`, the formulation has no effect because this constraint type requires a [`PSDCone`](https://jump.dev/JuMP.jl/stable/tutorials/conic/tips_and_tricks/#Positive-Semidefinite-Cone) formulation of the variance.\n",
    "\n",
    "A = connection_matrix(port)\n",
    "B = cluster_matrix(port)\n",
    "\n",
    "port.cluster_adj = SDP(; A = B)\n",
    "\n",
    "rm = Variance()\n",
    "w5 = optimise!(port, Trad(; rm = rm, str_names = true))\n",
    "r5 = calc_risk(port; rm = rm)\n",
    "port.model[:constr_M_PSD]\n",
    "port.model[:variance_risk]\n",
    "typeof(port.model[:variance_risk])\n",
    "\n",
    "# Compatible with `NOC`\n",
    "w6 = optimise!(port, NOC(; rm = rm, str_names = true))\n",
    "# The risk of the `NOC` optimisation is higher than the optimal value.\n",
    "r6 = calc_risk(port, :NOC; rm = rm)\n",
    "r5 <= r6\n",
    "\n",
    "# No adjacency constraints.\n",
    "port.cluster_adj = NoAdj()\n",
    "\n",
    "# Default formulation, with a variance upper bound of 10, standard deviaion of sqrt(10) = 3.1622776601683795.\n",
    "rm = Variance(; settings = RMSettings(; ub = 10))\n",
    "w7 = optimise!(port, Trad(; rm = rm, str_names = true))\n",
    "# dev <= sqrt(10)\n",
    "port.model[:dev_ub]\n",
    "\n",
    "# Quadratic formulation, with a variance upper bound of 10, standard deviaion of sqrt(10) = 3.1622776601683795.\n",
    "rm = Variance(; formulation = Quad(), settings = RMSettings(; ub = 10))\n",
    "w8 = optimise!(port, Trad(; rm = rm, str_names = true))\n",
    "# dev <= sqrt(10)\n",
    "port.model[:dev_ub]\n",
    "\n",
    "# We use an SDP constraint, this time on the network adjacency, to show that the formulation and risk upper bound change accordingly.\n",
    "port.network_adj = SDP(; A = A)\n",
    "rm = Variance(; formulation = Quad(), settings = RMSettings(; ub = 10))\n",
    "w9 = optimise!(port, Trad(; rm = rm, str_names = true))\n",
    "port.model[:constr_M_PSD]\n",
    "port.model[:variance_risk]\n",
    "typeof(port.model[:variance_risk])\n",
    "# variance_risk <= 10\n",
    "port.model[:variance_risk_ub]\n",
    "\n",
    "# No adjacency constraints.\n",
    "port.network_adj = NoAdj()\n",
    "\n",
    "# Optimisations which use `calc_risk` to compute the risk have no [`JuMP`](https://github.com/jump-dev/JuMP.jl) model, therefore the formulation has no effect.\n",
    "w10 = optimise!(port, HRP(; rm = rm))"
   ],
   "metadata": {},
   "execution_count": 2
  },
  {
   "cell_type": "markdown",
   "source": [
    "# Standard Deviation, `SD`"
   ],
   "metadata": {}
  },
  {
   "outputs": [
    {
     "name": "stdout",
     "output_type": "stream",
     "text": [
      "AssertionError(\"Condition `size(sigma, 1) == size(sigma, 2)` failed due to:\\n\\t`size(sigma, 1)` evaluates to 2\\n\\t`size(sigma, 2)` evaluates to 3\")\n",
      "AssertionError(\"Condition `size(val, 1) == size(val, 2)` failed due to:\\n\\t`size(val, 1)` evaluates to 2\\n\\t`size(val, 2)` evaluates to 3\")\n"
     ]
    },
    {
     "output_type": "execute_result",
     "data": {
      "text/plain": "\u001b[1m5×2 DataFrame\u001b[0m\n\u001b[1m Row \u001b[0m│\u001b[1m tickers \u001b[0m\u001b[1m weights  \u001b[0m\n     │\u001b[90m Symbol  \u001b[0m\u001b[90m Float64  \u001b[0m\n─────┼───────────────────\n   1 │ A        0.199755\n   2 │ B        0.229988\n   3 │ C        0.198033\n   4 │ D        0.133306\n   5 │ E        0.238918",
      "text/html": [
       "<div><div style = \"float: left;\"><span>5×2 DataFrame</span></div><div style = \"clear: both;\"></div></div><div class = \"data-frame\" style = \"overflow-x: scroll;\"><table class = \"data-frame\" style = \"margin-bottom: 6px;\"><thead><tr class = \"header\"><th class = \"rowNumber\" style = \"font-weight: bold; text-align: right;\">Row</th><th style = \"text-align: left;\">tickers</th><th style = \"text-align: left;\">weights</th></tr><tr class = \"subheader headerLastRow\"><th class = \"rowNumber\" style = \"font-weight: bold; text-align: right;\"></th><th title = \"Symbol\" style = \"text-align: left;\">Symbol</th><th title = \"Float64\" style = \"text-align: left;\">Float64</th></tr></thead><tbody><tr><td class = \"rowNumber\" style = \"font-weight: bold; text-align: right;\">1</td><td style = \"text-align: left;\">A</td><td style = \"text-align: right;\">0.199755</td></tr><tr><td class = \"rowNumber\" style = \"font-weight: bold; text-align: right;\">2</td><td style = \"text-align: left;\">B</td><td style = \"text-align: right;\">0.229988</td></tr><tr><td class = \"rowNumber\" style = \"font-weight: bold; text-align: right;\">3</td><td style = \"text-align: left;\">C</td><td style = \"text-align: right;\">0.198033</td></tr><tr><td class = \"rowNumber\" style = \"font-weight: bold; text-align: right;\">4</td><td style = \"text-align: left;\">D</td><td style = \"text-align: right;\">0.133306</td></tr><tr><td class = \"rowNumber\" style = \"font-weight: bold; text-align: right;\">5</td><td style = \"text-align: left;\">E</td><td style = \"text-align: right;\">0.238918</td></tr></tbody></table></div>"
      ]
     },
     "metadata": {},
     "execution_count": 3
    }
   ],
   "cell_type": "code",
   "source": [
    "# If `sigma` is not `nothing` it must be a square matrix. This works at instantiation and runtime.\n",
    "try\n",
    "    SD(; sigma = [1 0 0;\n",
    "                  0 2 3])\n",
    "catch err\n",
    "    println(err)\n",
    "end\n",
    "\n",
    "try\n",
    "    rm = SD(;)\n",
    "    rm.sigma = [1 0 0;\n",
    "                0 2 3]\n",
    "catch err\n",
    "    println(err)\n",
    "end\n",
    "\n",
    "# Setting the standard deviation upper bound to 10 (it's so high it has no effect on the optimisation).\n",
    "rm = SD(; settings = RMSettings(; ub = 10))\n",
    "w1 = optimise!(port, Trad(; rm = rm, str_names = true))\n",
    "r1 = calc_risk(port; rm = rm)\n",
    "# As a functor, we need to provide the covariance matrix to the risk measure directly.\n",
    "rm.sigma = port.cov\n",
    "isapprox(r1, rm(w1.weights))\n",
    "# The value of :sd_risk is consistent with the risk calculation.\n",
    "isapprox(r1, value(port.model[:sd_risk]))\n",
    "# The [`SecondOrderCone`](https://jump.dev/JuMP.jl/stable/tutorials/conic/tips_and_tricks/#Second-Order-Cone) constraint.\n",
    "port.model[:constr_sd_risk_soc]\n",
    "# The variance risk.\n",
    "port.model[:sd_risk]\n",
    "# Variance risk is a [`VariableRef`](https://jump.dev/JuMP.jl/stable/api/JuMP/#VariableRef)\n",
    "typeof(port.model[:sd_risk])\n",
    "# sd_risk <= 10\n",
    "port.model[:sd_risk_ub]\n",
    "\n",
    "# Optimisations which use `calc_risk` to compute the risk have no [`JuMP`](https://github.com/jump-dev/JuMP.jl) model.\n",
    "w2 = optimise!(port, HRP(; rm = rm))"
   ],
   "metadata": {},
   "execution_count": 3
  },
  {
   "cell_type": "markdown",
   "source": [
    "---\n",
    "\n",
    "*This notebook was generated using [Literate.jl](https://github.com/fredrikekre/Literate.jl).*"
   ],
   "metadata": {}
  }
 ],
 "nbformat_minor": 3,
 "metadata": {
  "language_info": {
   "file_extension": ".jl",
   "mimetype": "application/julia",
   "name": "julia",
   "version": "1.11.3"
  },
  "kernelspec": {
   "name": "julia-1.11",
   "display_name": "Julia 1.11.3",
   "language": "julia"
  }
 },
 "nbformat": 4
}
