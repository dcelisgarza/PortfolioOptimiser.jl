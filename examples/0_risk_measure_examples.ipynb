{
 "cells": [
  {
   "cell_type": "markdown",
   "source": [
    "# Risk Measures\n",
    "\n",
    "This file contains the examples in the docstrings as runnable code."
   ],
   "metadata": {}
  },
  {
   "outputs": [],
   "cell_type": "code",
   "source": [
    "using PortfolioOptimiser, Clarabel, JuMP, StatsBase\n",
    "\n",
    "# Randomly generated normally distributed returns.\n",
    "ret = [0.670643    1.94045   -0.0896267   0.851535    -0.268234\n",
    "       1.33575    -0.541003   2.28744    -0.157588    -1.45177\n",
    "       -1.91694    -0.167745   0.920495    0.00677243  -1.29112\n",
    "       0.123141    1.59841   -0.185076    2.58911     -0.250747\n",
    "       1.92782     1.01679    1.12107     1.09731     -0.99954\n",
    "       2.07114    -0.513216  -0.532891    0.917748    -0.0346682\n",
    "       -1.37424    -1.35272   -0.628216   -2.76234     -0.112378\n",
    "       1.3831      1.14021   -0.577472    0.224504     1.28137\n",
    "       -0.0577619  -0.10658   -0.637011    1.70933      1.84176\n",
    "       1.6319      2.05059   -0.21469    -0.640715     1.39879];\n",
    "\n",
    "# Instantiate portfolio instance.\n",
    "port = Portfolio(; ret = ret, assets = 1:size(ret, 2),\n",
    "                 solvers = Dict(:Clarabel => Dict(:solver => Clarabel.Optimizer,\n",
    "                                                  :check_sol => (allow_local = true,\n",
    "                                                                 allow_almost = true),\n",
    "                                                  :params => Dict(\"verbose\" => false))));\n",
    "# Compute asset statistics.\n",
    "asset_statistics!(port)\n",
    "# Clusterise assets (for hierarchical optimisations).\n",
    "cluster_assets!(port)"
   ],
   "metadata": {},
   "execution_count": 1
  },
  {
   "cell_type": "markdown",
   "source": [
    "## Standard Deviation, `SD`"
   ],
   "metadata": {}
  },
  {
   "cell_type": "markdown",
   "source": [
    "Standard deviation."
   ],
   "metadata": {}
  },
  {
   "outputs": [
    {
     "output_type": "execute_result",
     "data": {
      "text/plain": "SD(RMSettings{Float64, Float64}(true, 1.0, Inf), nothing)"
     },
     "metadata": {},
     "execution_count": 2
    }
   ],
   "cell_type": "code",
   "source": [
    "rm = SD()"
   ],
   "metadata": {},
   "execution_count": 2
  },
  {
   "cell_type": "markdown",
   "source": [
    "Optimise portfolio."
   ],
   "metadata": {}
  },
  {
   "outputs": [
    {
     "output_type": "execute_result",
     "data": {
      "text/plain": "\u001b[1m5×2 DataFrame\u001b[0m\n\u001b[1m Row \u001b[0m│\u001b[1m tickers \u001b[0m\u001b[1m weights     \u001b[0m\n     │\u001b[90m Int64   \u001b[0m\u001b[90m Float64     \u001b[0m\n─────┼──────────────────────\n   1 │       1  1.42346e-10\n   2 │       2  0.018383\n   3 │       3  0.520498\n   4 │       4  0.0340474\n   5 │       5  0.427072",
      "text/html": [
       "<div><div style = \"float: left;\"><span>5×2 DataFrame</span></div><div style = \"clear: both;\"></div></div><div class = \"data-frame\" style = \"overflow-x: scroll;\"><table class = \"data-frame\" style = \"margin-bottom: 6px;\"><thead><tr class = \"header\"><th class = \"rowNumber\" style = \"font-weight: bold; text-align: right;\">Row</th><th style = \"text-align: left;\">tickers</th><th style = \"text-align: left;\">weights</th></tr><tr class = \"subheader headerLastRow\"><th class = \"rowNumber\" style = \"font-weight: bold; text-align: right;\"></th><th title = \"Int64\" style = \"text-align: left;\">Int64</th><th title = \"Float64\" style = \"text-align: left;\">Float64</th></tr></thead><tbody><tr><td class = \"rowNumber\" style = \"font-weight: bold; text-align: right;\">1</td><td style = \"text-align: right;\">1</td><td style = \"text-align: right;\">1.42346e-10</td></tr><tr><td class = \"rowNumber\" style = \"font-weight: bold; text-align: right;\">2</td><td style = \"text-align: right;\">2</td><td style = \"text-align: right;\">0.018383</td></tr><tr><td class = \"rowNumber\" style = \"font-weight: bold; text-align: right;\">3</td><td style = \"text-align: right;\">3</td><td style = \"text-align: right;\">0.520498</td></tr><tr><td class = \"rowNumber\" style = \"font-weight: bold; text-align: right;\">4</td><td style = \"text-align: right;\">4</td><td style = \"text-align: right;\">0.0340474</td></tr><tr><td class = \"rowNumber\" style = \"font-weight: bold; text-align: right;\">5</td><td style = \"text-align: right;\">5</td><td style = \"text-align: right;\">0.427072</td></tr></tbody></table></div>"
      ]
     },
     "metadata": {},
     "execution_count": 3
    }
   ],
   "cell_type": "code",
   "source": [
    "w1 = optimise!(port, Trad(; rm = rm, str_names = true))"
   ],
   "metadata": {},
   "execution_count": 3
  },
  {
   "cell_type": "markdown",
   "source": [
    "Compute the standard deviation."
   ],
   "metadata": {}
  },
  {
   "outputs": [
    {
     "output_type": "execute_result",
     "data": {
      "text/plain": "0.3612722213729872"
     },
     "metadata": {},
     "execution_count": 4
    }
   ],
   "cell_type": "code",
   "source": [
    "r1 = calc_risk(port, :Trad; rm = rm)"
   ],
   "metadata": {},
   "execution_count": 4
  },
  {
   "cell_type": "markdown",
   "source": [
    "As a functor."
   ],
   "metadata": {}
  },
  {
   "outputs": [
    {
     "output_type": "execute_result",
     "data": {
      "text/plain": "true"
     },
     "metadata": {},
     "execution_count": 5
    }
   ],
   "cell_type": "code",
   "source": [
    "r1 == SD(; sigma = port.cov)(w1.weights)"
   ],
   "metadata": {},
   "execution_count": 5
  },
  {
   "cell_type": "markdown",
   "source": [
    "Check that the std risk exists as an SOC constraint."
   ],
   "metadata": {}
  },
  {
   "outputs": [
    {
     "output_type": "execute_result",
     "data": {
      "text/plain": "sd_risk",
      "text/latex": "$ sd\\_risk $"
     },
     "metadata": {},
     "execution_count": 6
    }
   ],
   "cell_type": "code",
   "source": [
    "port.model[:sd_risk]"
   ],
   "metadata": {},
   "execution_count": 6
  },
  {
   "outputs": [
    {
     "output_type": "execute_result",
     "data": {
      "text/plain": "constr_sd_risk_soc : [sd_risk, 1.3339817521328776 w[1] + 0.23752111354642388 w[2] + 0.08772311968949179 w[3] + 0.1933954630317334 w[4] + 0.11104990914089145 w[5], 0.23752111354642388 w[1] + 1.1172071395407432 w[2] - 0.05472328163488465 w[3] + 0.2914549020386699 w[4] + 0.14389651700778633 w[5], 0.08772311968949179 w[1] - 0.05472328163488465 w[2] + 0.8635663605757948 w[3] - 0.00013005161391315675 w[4] - 0.4497512686528594 w[5], 0.1933954630317334 w[1] + 0.2914549020386699 w[2] - 0.00013005161391315675 w[3] + 1.4117365158022712 w[4] + 0.020326110574790338 w[5], 0.11104990914089145 w[1] + 0.14389651700778633 w[2] - 0.4497512686528594 w[3] + 0.020326110574790338 w[4] + 1.0429726582846264 w[5]] in MathOptInterface.SecondOrderCone(6)",
      "text/latex": "$$ [sd\\_risk, 1.3339817521328776 w_{1} + 0.23752111354642388 w_{2} + 0.08772311968949179 w_{3} + 0.1933954630317334 w_{4} + 0.11104990914089145 w_{5}, 0.23752111354642388 w_{1} + 1.1172071395407432 w_{2} - 0.05472328163488465 w_{3} + 0.2914549020386699 w_{4} + 0.14389651700778633 w_{5}, 0.08772311968949179 w_{1} - 0.05472328163488465 w_{2} + 0.8635663605757948 w_{3} - 0.00013005161391315675 w_{4} - 0.4497512686528594 w_{5}, 0.1933954630317334 w_{1} + 0.2914549020386699 w_{2} - 0.00013005161391315675 w_{3} + 1.4117365158022712 w_{4} + 0.020326110574790338 w_{5}, 0.11104990914089145 w_{1} + 0.14389651700778633 w_{2} - 0.4497512686528594 w_{3} + 0.020326110574790338 w_{4} + 1.0429726582846264 w_{5}] \\in \\text{MathOptInterface.SecondOrderCone(6)} $$"
     },
     "metadata": {},
     "execution_count": 7
    }
   ],
   "cell_type": "code",
   "source": [
    "port.model[:constr_sd_risk_soc]"
   ],
   "metadata": {},
   "execution_count": 7
  },
  {
   "cell_type": "markdown",
   "source": [
    "Hierarchical risk parity optimisation, no JuMP model."
   ],
   "metadata": {}
  },
  {
   "outputs": [
    {
     "output_type": "execute_result",
     "data": {
      "text/plain": "\u001b[1m5×2 DataFrame\u001b[0m\n\u001b[1m Row \u001b[0m│\u001b[1m tickers \u001b[0m\u001b[1m weights  \u001b[0m\n     │\u001b[90m Int64   \u001b[0m\u001b[90m Float64  \u001b[0m\n─────┼───────────────────\n   1 │       1  0.199755\n   2 │       2  0.229988\n   3 │       3  0.198033\n   4 │       4  0.133306\n   5 │       5  0.238918",
      "text/html": [
       "<div><div style = \"float: left;\"><span>5×2 DataFrame</span></div><div style = \"clear: both;\"></div></div><div class = \"data-frame\" style = \"overflow-x: scroll;\"><table class = \"data-frame\" style = \"margin-bottom: 6px;\"><thead><tr class = \"header\"><th class = \"rowNumber\" style = \"font-weight: bold; text-align: right;\">Row</th><th style = \"text-align: left;\">tickers</th><th style = \"text-align: left;\">weights</th></tr><tr class = \"subheader headerLastRow\"><th class = \"rowNumber\" style = \"font-weight: bold; text-align: right;\"></th><th title = \"Int64\" style = \"text-align: left;\">Int64</th><th title = \"Float64\" style = \"text-align: left;\">Float64</th></tr></thead><tbody><tr><td class = \"rowNumber\" style = \"font-weight: bold; text-align: right;\">1</td><td style = \"text-align: right;\">1</td><td style = \"text-align: right;\">0.199755</td></tr><tr><td class = \"rowNumber\" style = \"font-weight: bold; text-align: right;\">2</td><td style = \"text-align: right;\">2</td><td style = \"text-align: right;\">0.229988</td></tr><tr><td class = \"rowNumber\" style = \"font-weight: bold; text-align: right;\">3</td><td style = \"text-align: right;\">3</td><td style = \"text-align: right;\">0.198033</td></tr><tr><td class = \"rowNumber\" style = \"font-weight: bold; text-align: right;\">4</td><td style = \"text-align: right;\">4</td><td style = \"text-align: right;\">0.133306</td></tr><tr><td class = \"rowNumber\" style = \"font-weight: bold; text-align: right;\">5</td><td style = \"text-align: right;\">5</td><td style = \"text-align: right;\">0.238918</td></tr></tbody></table></div>"
      ]
     },
     "metadata": {},
     "execution_count": 8
    }
   ],
   "cell_type": "code",
   "source": [
    "w2 = optimise!(port, HRP(; rm = rm))"
   ],
   "metadata": {},
   "execution_count": 8
  },
  {
   "cell_type": "markdown",
   "source": [
    "Compute the standard deviation."
   ],
   "metadata": {}
  },
  {
   "outputs": [
    {
     "output_type": "execute_result",
     "data": {
      "text/plain": "0.6547632732108616"
     },
     "metadata": {},
     "execution_count": 9
    }
   ],
   "cell_type": "code",
   "source": [
    "r2 = calc_risk(port, :HRP; rm = rm)"
   ],
   "metadata": {},
   "execution_count": 9
  },
  {
   "cell_type": "markdown",
   "source": [
    "Use SD as a functor."
   ],
   "metadata": {}
  },
  {
   "outputs": [
    {
     "output_type": "execute_result",
     "data": {
      "text/plain": "true"
     },
     "metadata": {},
     "execution_count": 10
    }
   ],
   "cell_type": "code",
   "source": [
    "r2 == SD(; sigma = port.cov)(w2.weights)"
   ],
   "metadata": {},
   "execution_count": 10
  },
  {
   "cell_type": "markdown",
   "source": [
    "## Mean Absolute Deviation, `MAD`"
   ],
   "metadata": {}
  },
  {
   "cell_type": "markdown",
   "source": [
    "Vanilla mean absolute deviation."
   ],
   "metadata": {}
  },
  {
   "outputs": [
    {
     "output_type": "execute_result",
     "data": {
      "text/plain": "MAD(RMSettings{Float64, Float64}(true, 1.0, Inf), nothing, nothing, nothing)"
     },
     "metadata": {},
     "execution_count": 11
    }
   ],
   "cell_type": "code",
   "source": [
    "rm = MAD()"
   ],
   "metadata": {},
   "execution_count": 11
  },
  {
   "cell_type": "markdown",
   "source": [
    "Optimise portfolio."
   ],
   "metadata": {}
  },
  {
   "outputs": [
    {
     "output_type": "execute_result",
     "data": {
      "text/plain": "\u001b[1m5×2 DataFrame\u001b[0m\n\u001b[1m Row \u001b[0m│\u001b[1m tickers \u001b[0m\u001b[1m weights     \u001b[0m\n     │\u001b[90m Int64   \u001b[0m\u001b[90m Float64     \u001b[0m\n─────┼──────────────────────\n   1 │       1  1.52867e-11\n   2 │       2  0.125902\n   3 │       3  0.558899\n   4 │       4  0.0528451\n   5 │       5  0.262353",
      "text/html": [
       "<div><div style = \"float: left;\"><span>5×2 DataFrame</span></div><div style = \"clear: both;\"></div></div><div class = \"data-frame\" style = \"overflow-x: scroll;\"><table class = \"data-frame\" style = \"margin-bottom: 6px;\"><thead><tr class = \"header\"><th class = \"rowNumber\" style = \"font-weight: bold; text-align: right;\">Row</th><th style = \"text-align: left;\">tickers</th><th style = \"text-align: left;\">weights</th></tr><tr class = \"subheader headerLastRow\"><th class = \"rowNumber\" style = \"font-weight: bold; text-align: right;\"></th><th title = \"Int64\" style = \"text-align: left;\">Int64</th><th title = \"Float64\" style = \"text-align: left;\">Float64</th></tr></thead><tbody><tr><td class = \"rowNumber\" style = \"font-weight: bold; text-align: right;\">1</td><td style = \"text-align: right;\">1</td><td style = \"text-align: right;\">1.52867e-11</td></tr><tr><td class = \"rowNumber\" style = \"font-weight: bold; text-align: right;\">2</td><td style = \"text-align: right;\">2</td><td style = \"text-align: right;\">0.125902</td></tr><tr><td class = \"rowNumber\" style = \"font-weight: bold; text-align: right;\">3</td><td style = \"text-align: right;\">3</td><td style = \"text-align: right;\">0.558899</td></tr><tr><td class = \"rowNumber\" style = \"font-weight: bold; text-align: right;\">4</td><td style = \"text-align: right;\">4</td><td style = \"text-align: right;\">0.0528451</td></tr><tr><td class = \"rowNumber\" style = \"font-weight: bold; text-align: right;\">5</td><td style = \"text-align: right;\">5</td><td style = \"text-align: right;\">0.262353</td></tr></tbody></table></div>"
      ]
     },
     "metadata": {},
     "execution_count": 12
    }
   ],
   "cell_type": "code",
   "source": [
    "w1 = optimise!(port, Trad(; rm = rm, str_names = true))"
   ],
   "metadata": {},
   "execution_count": 12
  },
  {
   "cell_type": "markdown",
   "source": [
    "Compute risk."
   ],
   "metadata": {}
  },
  {
   "outputs": [
    {
     "output_type": "execute_result",
     "data": {
      "text/plain": "0.2742955393862703"
     },
     "metadata": {},
     "execution_count": 13
    }
   ],
   "cell_type": "code",
   "source": [
    "r1 = calc_risk(port; rm = rm)"
   ],
   "metadata": {},
   "execution_count": 13
  },
  {
   "cell_type": "markdown",
   "source": [
    "Check values are similar."
   ],
   "metadata": {}
  },
  {
   "outputs": [
    {
     "output_type": "execute_result",
     "data": {
      "text/plain": "true"
     },
     "metadata": {},
     "execution_count": 14
    }
   ],
   "cell_type": "code",
   "source": [
    "isapprox(r1, value(port.model[:mad_risk]))"
   ],
   "metadata": {},
   "execution_count": 14
  },
  {
   "cell_type": "markdown",
   "source": [
    "Exponential weights."
   ],
   "metadata": {}
  },
  {
   "outputs": [],
   "cell_type": "code",
   "source": [
    "ew1 = eweights(1:size(ret, 1), 0.2; scale = true);\n",
    "ew2 = eweights(1:size(ret, 1), 0.3; scale = true);"
   ],
   "metadata": {},
   "execution_count": 15
  },
  {
   "cell_type": "markdown",
   "source": [
    "Compute asset statistics, use ew1 in the `Trad` optimisation. This makes it consistent with the risk measure."
   ],
   "metadata": {}
  },
  {
   "outputs": [],
   "cell_type": "code",
   "source": [
    "asset_statistics!(port; mu_type = MuSimple(; w = ew1))"
   ],
   "metadata": {},
   "execution_count": 16
  },
  {
   "cell_type": "markdown",
   "source": [
    "Mean absolute deviation with different weights. w1 has no effect in the following optimisation in [`JuMP`](https://github.com/jump-dev/JuMP.jl)-based optimisations, so we account for it in the computation of `port.mu` above."
   ],
   "metadata": {}
  },
  {
   "outputs": [
    {
     "output_type": "execute_result",
     "data": {
      "text/plain": "MAD(RMSettings{Float64, Float64}(true, 1.0, Inf), [0.13421772800000006, 0.1677721600000001, 0.20971520000000007, 0.2621440000000001, 0.3276800000000001, 0.4096000000000001, 0.5120000000000001, 0.6400000000000001, 0.8, 1.0], [0.04035360699999998, 0.05764800999999997, 0.08235429999999996, 0.11764899999999996, 0.16806999999999994, 0.24009999999999995, 0.3429999999999999, 0.48999999999999994, 0.7, 1.0], nothing)"
     },
     "metadata": {},
     "execution_count": 17
    }
   ],
   "cell_type": "code",
   "source": [
    "rm = MAD(; w1 = ew1, w2 = ew2)"
   ],
   "metadata": {},
   "execution_count": 17
  },
  {
   "cell_type": "markdown",
   "source": [
    "Use the custom weights in the optimisation."
   ],
   "metadata": {}
  },
  {
   "outputs": [
    {
     "output_type": "execute_result",
     "data": {
      "text/plain": "\u001b[1m5×2 DataFrame\u001b[0m\n\u001b[1m Row \u001b[0m│\u001b[1m tickers \u001b[0m\u001b[1m weights     \u001b[0m\n     │\u001b[90m Int64   \u001b[0m\u001b[90m Float64     \u001b[0m\n─────┼──────────────────────\n   1 │       1  0.0868265\n   2 │       2  1.62118e-10\n   3 │       3  0.623665\n   4 │       4  5.10551e-11\n   5 │       5  0.289508",
      "text/html": [
       "<div><div style = \"float: left;\"><span>5×2 DataFrame</span></div><div style = \"clear: both;\"></div></div><div class = \"data-frame\" style = \"overflow-x: scroll;\"><table class = \"data-frame\" style = \"margin-bottom: 6px;\"><thead><tr class = \"header\"><th class = \"rowNumber\" style = \"font-weight: bold; text-align: right;\">Row</th><th style = \"text-align: left;\">tickers</th><th style = \"text-align: left;\">weights</th></tr><tr class = \"subheader headerLastRow\"><th class = \"rowNumber\" style = \"font-weight: bold; text-align: right;\"></th><th title = \"Int64\" style = \"text-align: left;\">Int64</th><th title = \"Float64\" style = \"text-align: left;\">Float64</th></tr></thead><tbody><tr><td class = \"rowNumber\" style = \"font-weight: bold; text-align: right;\">1</td><td style = \"text-align: right;\">1</td><td style = \"text-align: right;\">0.0868265</td></tr><tr><td class = \"rowNumber\" style = \"font-weight: bold; text-align: right;\">2</td><td style = \"text-align: right;\">2</td><td style = \"text-align: right;\">1.62118e-10</td></tr><tr><td class = \"rowNumber\" style = \"font-weight: bold; text-align: right;\">3</td><td style = \"text-align: right;\">3</td><td style = \"text-align: right;\">0.623665</td></tr><tr><td class = \"rowNumber\" style = \"font-weight: bold; text-align: right;\">4</td><td style = \"text-align: right;\">4</td><td style = \"text-align: right;\">5.10551e-11</td></tr><tr><td class = \"rowNumber\" style = \"font-weight: bold; text-align: right;\">5</td><td style = \"text-align: right;\">5</td><td style = \"text-align: right;\">0.289508</td></tr></tbody></table></div>"
      ]
     },
     "metadata": {},
     "execution_count": 18
    }
   ],
   "cell_type": "code",
   "source": [
    "w2 = optimise!(port, Trad(; rm = rm, str_names = true))"
   ],
   "metadata": {},
   "execution_count": 18
  },
  {
   "cell_type": "markdown",
   "source": [
    "Using `w1` and `w2` may lead to inconsistent values between the functor and value in the model because the mean absolute deviation is formulated with slack constraints."
   ],
   "metadata": {}
  },
  {
   "outputs": [
    {
     "output_type": "execute_result",
     "data": {
      "text/plain": "0.23722684255394683"
     },
     "metadata": {},
     "execution_count": 19
    }
   ],
   "cell_type": "code",
   "source": [
    "r2_1 = calc_risk(port; rm = rm)"
   ],
   "metadata": {},
   "execution_count": 19
  },
  {
   "outputs": [
    {
     "output_type": "execute_result",
     "data": {
      "text/plain": "0.21882857231148417"
     },
     "metadata": {},
     "execution_count": 20
    }
   ],
   "cell_type": "code",
   "source": [
    "r2_2 = value(port.model[:mad_risk])"
   ],
   "metadata": {},
   "execution_count": 20
  },
  {
   "cell_type": "markdown",
   "source": [
    "Use a custom mu (added some random noise)."
   ],
   "metadata": {}
  },
  {
   "outputs": [
    {
     "output_type": "execute_result",
     "data": {
      "text/plain": "MAD(RMSettings{Float64, Float64}(true, 1.0, Inf), nothing, nothing, [0.7125701109145426, 0.5954846163775541, -0.15751039974810838, 0.21715419988378104, 0.5953722438974804])"
     },
     "metadata": {},
     "execution_count": 21
    }
   ],
   "cell_type": "code",
   "source": [
    "custom_mu = port.mu + [-0.0025545471368230766, -0.0047554044723918795, 0.010574122455999866,\n",
    "                       0.0021521845052968917, -0.004417767086053032]\n",
    "rm = MAD(; mu = custom_mu)"
   ],
   "metadata": {},
   "execution_count": 21
  },
  {
   "cell_type": "markdown",
   "source": [
    "Optimise with the custom mu."
   ],
   "metadata": {}
  },
  {
   "outputs": [
    {
     "output_type": "execute_result",
     "data": {
      "text/plain": "\u001b[1m5×2 DataFrame\u001b[0m\n\u001b[1m Row \u001b[0m│\u001b[1m tickers \u001b[0m\u001b[1m weights     \u001b[0m\n     │\u001b[90m Int64   \u001b[0m\u001b[90m Float64     \u001b[0m\n─────┼──────────────────────\n   1 │       1  0.129419\n   2 │       2  9.10067e-11\n   3 │       3  0.590633\n   4 │       4  0.13825\n   5 │       5  0.141698",
      "text/html": [
       "<div><div style = \"float: left;\"><span>5×2 DataFrame</span></div><div style = \"clear: both;\"></div></div><div class = \"data-frame\" style = \"overflow-x: scroll;\"><table class = \"data-frame\" style = \"margin-bottom: 6px;\"><thead><tr class = \"header\"><th class = \"rowNumber\" style = \"font-weight: bold; text-align: right;\">Row</th><th style = \"text-align: left;\">tickers</th><th style = \"text-align: left;\">weights</th></tr><tr class = \"subheader headerLastRow\"><th class = \"rowNumber\" style = \"font-weight: bold; text-align: right;\"></th><th title = \"Int64\" style = \"text-align: left;\">Int64</th><th title = \"Float64\" style = \"text-align: left;\">Float64</th></tr></thead><tbody><tr><td class = \"rowNumber\" style = \"font-weight: bold; text-align: right;\">1</td><td style = \"text-align: right;\">1</td><td style = \"text-align: right;\">0.129419</td></tr><tr><td class = \"rowNumber\" style = \"font-weight: bold; text-align: right;\">2</td><td style = \"text-align: right;\">2</td><td style = \"text-align: right;\">9.10067e-11</td></tr><tr><td class = \"rowNumber\" style = \"font-weight: bold; text-align: right;\">3</td><td style = \"text-align: right;\">3</td><td style = \"text-align: right;\">0.590633</td></tr><tr><td class = \"rowNumber\" style = \"font-weight: bold; text-align: right;\">4</td><td style = \"text-align: right;\">4</td><td style = \"text-align: right;\">0.13825</td></tr><tr><td class = \"rowNumber\" style = \"font-weight: bold; text-align: right;\">5</td><td style = \"text-align: right;\">5</td><td style = \"text-align: right;\">0.141698</td></tr></tbody></table></div>"
      ]
     },
     "metadata": {},
     "execution_count": 22
    }
   ],
   "cell_type": "code",
   "source": [
    "w3 = optimise!(port, Trad(; rm = rm, str_names = true))"
   ],
   "metadata": {},
   "execution_count": 22
  },
  {
   "cell_type": "markdown",
   "source": [
    "Values don't match."
   ],
   "metadata": {}
  },
  {
   "outputs": [
    {
     "output_type": "execute_result",
     "data": {
      "text/plain": "0.359772128074709"
     },
     "metadata": {},
     "execution_count": 23
    }
   ],
   "cell_type": "code",
   "source": [
    "r3_1 = calc_risk(port; rm = rm)"
   ],
   "metadata": {},
   "execution_count": 23
  },
  {
   "outputs": [
    {
     "output_type": "execute_result",
     "data": {
      "text/plain": "0.23232767711259888"
     },
     "metadata": {},
     "execution_count": 24
    }
   ],
   "cell_type": "code",
   "source": [
    "r3_2 = value(port.model[:mad_risk])"
   ],
   "metadata": {},
   "execution_count": 24
  },
  {
   "cell_type": "markdown",
   "source": [
    "Vanilla mean absolute deviation."
   ],
   "metadata": {}
  },
  {
   "outputs": [
    {
     "output_type": "execute_result",
     "data": {
      "text/plain": "MAD(RMSettings{Float64, Float64}(true, 1.0, Inf), nothing, nothing, nothing)"
     },
     "metadata": {},
     "execution_count": 25
    }
   ],
   "cell_type": "code",
   "source": [
    "rm = MAD()"
   ],
   "metadata": {},
   "execution_count": 25
  },
  {
   "cell_type": "markdown",
   "source": [
    "Hierarchical optimisation, no JuMP model."
   ],
   "metadata": {}
  },
  {
   "outputs": [
    {
     "output_type": "execute_result",
     "data": {
      "text/plain": "\u001b[1m5×2 DataFrame\u001b[0m\n\u001b[1m Row \u001b[0m│\u001b[1m tickers \u001b[0m\u001b[1m weights  \u001b[0m\n     │\u001b[90m Int64   \u001b[0m\u001b[90m Float64  \u001b[0m\n─────┼───────────────────\n   1 │       1  0.179264\n   2 │       2  0.222268\n   3 │       3  0.216523\n   4 │       4  0.160511\n   5 │       5  0.221434",
      "text/html": [
       "<div><div style = \"float: left;\"><span>5×2 DataFrame</span></div><div style = \"clear: both;\"></div></div><div class = \"data-frame\" style = \"overflow-x: scroll;\"><table class = \"data-frame\" style = \"margin-bottom: 6px;\"><thead><tr class = \"header\"><th class = \"rowNumber\" style = \"font-weight: bold; text-align: right;\">Row</th><th style = \"text-align: left;\">tickers</th><th style = \"text-align: left;\">weights</th></tr><tr class = \"subheader headerLastRow\"><th class = \"rowNumber\" style = \"font-weight: bold; text-align: right;\"></th><th title = \"Int64\" style = \"text-align: left;\">Int64</th><th title = \"Float64\" style = \"text-align: left;\">Float64</th></tr></thead><tbody><tr><td class = \"rowNumber\" style = \"font-weight: bold; text-align: right;\">1</td><td style = \"text-align: right;\">1</td><td style = \"text-align: right;\">0.179264</td></tr><tr><td class = \"rowNumber\" style = \"font-weight: bold; text-align: right;\">2</td><td style = \"text-align: right;\">2</td><td style = \"text-align: right;\">0.222268</td></tr><tr><td class = \"rowNumber\" style = \"font-weight: bold; text-align: right;\">3</td><td style = \"text-align: right;\">3</td><td style = \"text-align: right;\">0.216523</td></tr><tr><td class = \"rowNumber\" style = \"font-weight: bold; text-align: right;\">4</td><td style = \"text-align: right;\">4</td><td style = \"text-align: right;\">0.160511</td></tr><tr><td class = \"rowNumber\" style = \"font-weight: bold; text-align: right;\">5</td><td style = \"text-align: right;\">5</td><td style = \"text-align: right;\">0.221434</td></tr></tbody></table></div>"
      ]
     },
     "metadata": {},
     "execution_count": 26
    }
   ],
   "cell_type": "code",
   "source": [
    "w4 = optimise!(port, HRP(; rm = rm))"
   ],
   "metadata": {},
   "execution_count": 26
  },
  {
   "cell_type": "markdown",
   "source": [
    "Compute the mean absolute deviation."
   ],
   "metadata": {}
  },
  {
   "outputs": [
    {
     "output_type": "execute_result",
     "data": {
      "text/plain": "0.46350089072293715"
     },
     "metadata": {},
     "execution_count": 27
    }
   ],
   "cell_type": "code",
   "source": [
    "r4 = calc_risk(port, :HRP; rm = rm)"
   ],
   "metadata": {},
   "execution_count": 27
  },
  {
   "cell_type": "markdown",
   "source": [
    "Use the risk measure as a functor."
   ],
   "metadata": {}
  },
  {
   "outputs": [
    {
     "output_type": "execute_result",
     "data": {
      "text/plain": "true"
     },
     "metadata": {},
     "execution_count": 28
    }
   ],
   "cell_type": "code",
   "source": [
    "r4 == rm(port.returns * w4.weights)"
   ],
   "metadata": {},
   "execution_count": 28
  },
  {
   "cell_type": "markdown",
   "source": [
    "Custom mu has no effect in the following optimisation."
   ],
   "metadata": {}
  },
  {
   "outputs": [
    {
     "output_type": "execute_result",
     "data": {
      "text/plain": "MAD(RMSettings{Float64, Float64}(true, 1.0, Inf), nothing, nothing, [0.7125701109145426, 0.5954846163775541, -0.15751039974810838, 0.21715419988378104, 0.5953722438974804])"
     },
     "metadata": {},
     "execution_count": 29
    }
   ],
   "cell_type": "code",
   "source": [
    "rm = MAD(; mu = custom_mu)"
   ],
   "metadata": {},
   "execution_count": 29
  },
  {
   "cell_type": "markdown",
   "source": [
    "Hierarchical optimisation, no JuMP model."
   ],
   "metadata": {}
  },
  {
   "outputs": [
    {
     "output_type": "execute_result",
     "data": {
      "text/plain": "true"
     },
     "metadata": {},
     "execution_count": 30
    }
   ],
   "cell_type": "code",
   "source": [
    "w5 = optimise!(port, HRP(; rm = rm))\n",
    "w4.weights == w5.weights"
   ],
   "metadata": {},
   "execution_count": 30
  },
  {
   "cell_type": "markdown",
   "source": [
    "Compute the mean absolute deviation."
   ],
   "metadata": {}
  },
  {
   "outputs": [
    {
     "output_type": "execute_result",
     "data": {
      "text/plain": "0.46350089072293715"
     },
     "metadata": {},
     "execution_count": 31
    }
   ],
   "cell_type": "code",
   "source": [
    "r5 = calc_risk(port, :HRP; rm = rm)"
   ],
   "metadata": {},
   "execution_count": 31
  },
  {
   "cell_type": "markdown",
   "source": [
    "`w1` and `w2` both have effects."
   ],
   "metadata": {}
  },
  {
   "outputs": [
    {
     "output_type": "execute_result",
     "data": {
      "text/plain": "MAD(RMSettings{Float64, Float64}(true, 1.0, Inf), [0.13421772800000006, 0.1677721600000001, 0.20971520000000007, 0.2621440000000001, 0.3276800000000001, 0.4096000000000001, 0.5120000000000001, 0.6400000000000001, 0.8, 1.0], [0.04035360699999998, 0.05764800999999997, 0.08235429999999996, 0.11764899999999996, 0.16806999999999994, 0.24009999999999995, 0.3429999999999999, 0.48999999999999994, 0.7, 1.0], nothing)"
     },
     "metadata": {},
     "execution_count": 32
    }
   ],
   "cell_type": "code",
   "source": [
    "rm = MAD(; w1 = ew1, w2 = ew2)"
   ],
   "metadata": {},
   "execution_count": 32
  },
  {
   "cell_type": "markdown",
   "source": [
    "Hierarchical optimisation, no JuMP model."
   ],
   "metadata": {}
  },
  {
   "outputs": [
    {
     "output_type": "execute_result",
     "data": {
      "text/plain": "\u001b[1m5×2 DataFrame\u001b[0m\n\u001b[1m Row \u001b[0m│\u001b[1m tickers \u001b[0m\u001b[1m weights  \u001b[0m\n     │\u001b[90m Int64   \u001b[0m\u001b[90m Float64  \u001b[0m\n─────┼───────────────────\n   1 │       1  0.157301\n   2 │       2  0.179251\n   3 │       3  0.363034\n   4 │       4  0.128884\n   5 │       5  0.171529",
      "text/html": [
       "<div><div style = \"float: left;\"><span>5×2 DataFrame</span></div><div style = \"clear: both;\"></div></div><div class = \"data-frame\" style = \"overflow-x: scroll;\"><table class = \"data-frame\" style = \"margin-bottom: 6px;\"><thead><tr class = \"header\"><th class = \"rowNumber\" style = \"font-weight: bold; text-align: right;\">Row</th><th style = \"text-align: left;\">tickers</th><th style = \"text-align: left;\">weights</th></tr><tr class = \"subheader headerLastRow\"><th class = \"rowNumber\" style = \"font-weight: bold; text-align: right;\"></th><th title = \"Int64\" style = \"text-align: left;\">Int64</th><th title = \"Float64\" style = \"text-align: left;\">Float64</th></tr></thead><tbody><tr><td class = \"rowNumber\" style = \"font-weight: bold; text-align: right;\">1</td><td style = \"text-align: right;\">1</td><td style = \"text-align: right;\">0.157301</td></tr><tr><td class = \"rowNumber\" style = \"font-weight: bold; text-align: right;\">2</td><td style = \"text-align: right;\">2</td><td style = \"text-align: right;\">0.179251</td></tr><tr><td class = \"rowNumber\" style = \"font-weight: bold; text-align: right;\">3</td><td style = \"text-align: right;\">3</td><td style = \"text-align: right;\">0.363034</td></tr><tr><td class = \"rowNumber\" style = \"font-weight: bold; text-align: right;\">4</td><td style = \"text-align: right;\">4</td><td style = \"text-align: right;\">0.128884</td></tr><tr><td class = \"rowNumber\" style = \"font-weight: bold; text-align: right;\">5</td><td style = \"text-align: right;\">5</td><td style = \"text-align: right;\">0.171529</td></tr></tbody></table></div>"
      ]
     },
     "metadata": {},
     "execution_count": 33
    }
   ],
   "cell_type": "code",
   "source": [
    "w6 = optimise!(port, HRP(; rm = rm))"
   ],
   "metadata": {},
   "execution_count": 33
  },
  {
   "cell_type": "markdown",
   "source": [
    "Compute the mean absolute deviation."
   ],
   "metadata": {}
  },
  {
   "outputs": [
    {
     "output_type": "execute_result",
     "data": {
      "text/plain": "0.3704190560125852"
     },
     "metadata": {},
     "execution_count": 34
    }
   ],
   "cell_type": "code",
   "source": [
    "r6 = calc_risk(port, :HRP; rm = rm)"
   ],
   "metadata": {},
   "execution_count": 34
  },
  {
   "cell_type": "markdown",
   "source": [
    "## Semi Standard Deviation, `SSD`"
   ],
   "metadata": {}
  },
  {
   "cell_type": "markdown",
   "source": [
    "Recompute asset statistics."
   ],
   "metadata": {}
  },
  {
   "outputs": [],
   "cell_type": "code",
   "source": [
    "asset_statistics!(port)"
   ],
   "metadata": {},
   "execution_count": 35
  },
  {
   "cell_type": "markdown",
   "source": [
    "Vanilla semi standard deviation."
   ],
   "metadata": {}
  },
  {
   "outputs": [
    {
     "output_type": "execute_result",
     "data": {
      "text/plain": "SSD{Float64}(RMSettings{Float64, Float64}(true, 1.0, Inf), 0.0, nothing, nothing)"
     },
     "metadata": {},
     "execution_count": 36
    }
   ],
   "cell_type": "code",
   "source": [
    "rm = SSD()"
   ],
   "metadata": {},
   "execution_count": 36
  },
  {
   "cell_type": "markdown",
   "source": [
    "Optimise portfolio."
   ],
   "metadata": {}
  },
  {
   "outputs": [
    {
     "output_type": "execute_result",
     "data": {
      "text/plain": "\u001b[1m5×2 DataFrame\u001b[0m\n\u001b[1m Row \u001b[0m│\u001b[1m tickers \u001b[0m\u001b[1m weights     \u001b[0m\n     │\u001b[90m Int64   \u001b[0m\u001b[90m Float64     \u001b[0m\n─────┼──────────────────────\n   1 │       1  3.5044e-10\n   2 │       2  2.2773e-9\n   3 │       3  0.505148\n   4 │       4  0.000939296\n   5 │       5  0.493913",
      "text/html": [
       "<div><div style = \"float: left;\"><span>5×2 DataFrame</span></div><div style = \"clear: both;\"></div></div><div class = \"data-frame\" style = \"overflow-x: scroll;\"><table class = \"data-frame\" style = \"margin-bottom: 6px;\"><thead><tr class = \"header\"><th class = \"rowNumber\" style = \"font-weight: bold; text-align: right;\">Row</th><th style = \"text-align: left;\">tickers</th><th style = \"text-align: left;\">weights</th></tr><tr class = \"subheader headerLastRow\"><th class = \"rowNumber\" style = \"font-weight: bold; text-align: right;\"></th><th title = \"Int64\" style = \"text-align: left;\">Int64</th><th title = \"Float64\" style = \"text-align: left;\">Float64</th></tr></thead><tbody><tr><td class = \"rowNumber\" style = \"font-weight: bold; text-align: right;\">1</td><td style = \"text-align: right;\">1</td><td style = \"text-align: right;\">3.5044e-10</td></tr><tr><td class = \"rowNumber\" style = \"font-weight: bold; text-align: right;\">2</td><td style = \"text-align: right;\">2</td><td style = \"text-align: right;\">2.2773e-9</td></tr><tr><td class = \"rowNumber\" style = \"font-weight: bold; text-align: right;\">3</td><td style = \"text-align: right;\">3</td><td style = \"text-align: right;\">0.505148</td></tr><tr><td class = \"rowNumber\" style = \"font-weight: bold; text-align: right;\">4</td><td style = \"text-align: right;\">4</td><td style = \"text-align: right;\">0.000939296</td></tr><tr><td class = \"rowNumber\" style = \"font-weight: bold; text-align: right;\">5</td><td style = \"text-align: right;\">5</td><td style = \"text-align: right;\">0.493913</td></tr></tbody></table></div>"
      ]
     },
     "metadata": {},
     "execution_count": 37
    }
   ],
   "cell_type": "code",
   "source": [
    "w1 = optimise!(port, Trad(; rm = rm, str_names = true))"
   ],
   "metadata": {},
   "execution_count": 37
  },
  {
   "cell_type": "markdown",
   "source": [
    "Compute semi standard devation."
   ],
   "metadata": {}
  },
  {
   "outputs": [
    {
     "output_type": "execute_result",
     "data": {
      "text/plain": "0.2489122955044331"
     },
     "metadata": {},
     "execution_count": 38
    }
   ],
   "cell_type": "code",
   "source": [
    "r1 = calc_risk(port; rm = rm)"
   ],
   "metadata": {},
   "execution_count": 38
  },
  {
   "cell_type": "markdown",
   "source": [
    "Values are consistent."
   ],
   "metadata": {}
  },
  {
   "outputs": [
    {
     "output_type": "execute_result",
     "data": {
      "text/plain": "true"
     },
     "metadata": {},
     "execution_count": 39
    }
   ],
   "cell_type": "code",
   "source": [
    "isapprox(r1, value(port.model[:sdev_risk]))"
   ],
   "metadata": {},
   "execution_count": 39
  },
  {
   "cell_type": "markdown",
   "source": [
    "Semi standard deviation with a returns threshold equal to the maximum return, this should make it equivalent to using the standard deviation."
   ],
   "metadata": {}
  },
  {
   "outputs": [
    {
     "output_type": "execute_result",
     "data": {
      "text/plain": "SSD{Float64}(RMSettings{Float64, Float64}(true, 1.0, Inf), 2.58911, nothing, nothing)"
     },
     "metadata": {},
     "execution_count": 40
    }
   ],
   "cell_type": "code",
   "source": [
    "rm = SSD(; target = maximum(ret))"
   ],
   "metadata": {},
   "execution_count": 40
  },
  {
   "cell_type": "markdown",
   "source": [
    "Optimise portfolio using the semi standard deviation with a return threshold that includes all returns."
   ],
   "metadata": {}
  },
  {
   "outputs": [
    {
     "output_type": "execute_result",
     "data": {
      "text/plain": "\u001b[1m5×2 DataFrame\u001b[0m\n\u001b[1m Row \u001b[0m│\u001b[1m tickers \u001b[0m\u001b[1m weights    \u001b[0m\n     │\u001b[90m Int64   \u001b[0m\u001b[90m Float64    \u001b[0m\n─────┼─────────────────────\n   1 │       1  2.24485e-8\n   2 │       2  0.0183783\n   3 │       3  0.520501\n   4 │       4  0.0340455\n   5 │       5  0.427076",
      "text/html": [
       "<div><div style = \"float: left;\"><span>5×2 DataFrame</span></div><div style = \"clear: both;\"></div></div><div class = \"data-frame\" style = \"overflow-x: scroll;\"><table class = \"data-frame\" style = \"margin-bottom: 6px;\"><thead><tr class = \"header\"><th class = \"rowNumber\" style = \"font-weight: bold; text-align: right;\">Row</th><th style = \"text-align: left;\">tickers</th><th style = \"text-align: left;\">weights</th></tr><tr class = \"subheader headerLastRow\"><th class = \"rowNumber\" style = \"font-weight: bold; text-align: right;\"></th><th title = \"Int64\" style = \"text-align: left;\">Int64</th><th title = \"Float64\" style = \"text-align: left;\">Float64</th></tr></thead><tbody><tr><td class = \"rowNumber\" style = \"font-weight: bold; text-align: right;\">1</td><td style = \"text-align: right;\">1</td><td style = \"text-align: right;\">2.24485e-8</td></tr><tr><td class = \"rowNumber\" style = \"font-weight: bold; text-align: right;\">2</td><td style = \"text-align: right;\">2</td><td style = \"text-align: right;\">0.0183783</td></tr><tr><td class = \"rowNumber\" style = \"font-weight: bold; text-align: right;\">3</td><td style = \"text-align: right;\">3</td><td style = \"text-align: right;\">0.520501</td></tr><tr><td class = \"rowNumber\" style = \"font-weight: bold; text-align: right;\">4</td><td style = \"text-align: right;\">4</td><td style = \"text-align: right;\">0.0340455</td></tr><tr><td class = \"rowNumber\" style = \"font-weight: bold; text-align: right;\">5</td><td style = \"text-align: right;\">5</td><td style = \"text-align: right;\">0.427076</td></tr></tbody></table></div>"
      ]
     },
     "metadata": {},
     "execution_count": 41
    }
   ],
   "cell_type": "code",
   "source": [
    "w2 = optimise!(port, Trad(; obj = MinRisk(), rm = rm, str_names = true))"
   ],
   "metadata": {},
   "execution_count": 41
  },
  {
   "cell_type": "markdown",
   "source": [
    "Optimise portfolio using the standard devation."
   ],
   "metadata": {}
  },
  {
   "outputs": [
    {
     "output_type": "execute_result",
     "data": {
      "text/plain": "\u001b[1m5×2 DataFrame\u001b[0m\n\u001b[1m Row \u001b[0m│\u001b[1m tickers \u001b[0m\u001b[1m weights     \u001b[0m\n     │\u001b[90m Int64   \u001b[0m\u001b[90m Float64     \u001b[0m\n─────┼──────────────────────\n   1 │       1  1.42346e-10\n   2 │       2  0.018383\n   3 │       3  0.520498\n   4 │       4  0.0340474\n   5 │       5  0.427072",
      "text/html": [
       "<div><div style = \"float: left;\"><span>5×2 DataFrame</span></div><div style = \"clear: both;\"></div></div><div class = \"data-frame\" style = \"overflow-x: scroll;\"><table class = \"data-frame\" style = \"margin-bottom: 6px;\"><thead><tr class = \"header\"><th class = \"rowNumber\" style = \"font-weight: bold; text-align: right;\">Row</th><th style = \"text-align: left;\">tickers</th><th style = \"text-align: left;\">weights</th></tr><tr class = \"subheader headerLastRow\"><th class = \"rowNumber\" style = \"font-weight: bold; text-align: right;\"></th><th title = \"Int64\" style = \"text-align: left;\">Int64</th><th title = \"Float64\" style = \"text-align: left;\">Float64</th></tr></thead><tbody><tr><td class = \"rowNumber\" style = \"font-weight: bold; text-align: right;\">1</td><td style = \"text-align: right;\">1</td><td style = \"text-align: right;\">1.42346e-10</td></tr><tr><td class = \"rowNumber\" style = \"font-weight: bold; text-align: right;\">2</td><td style = \"text-align: right;\">2</td><td style = \"text-align: right;\">0.018383</td></tr><tr><td class = \"rowNumber\" style = \"font-weight: bold; text-align: right;\">3</td><td style = \"text-align: right;\">3</td><td style = \"text-align: right;\">0.520498</td></tr><tr><td class = \"rowNumber\" style = \"font-weight: bold; text-align: right;\">4</td><td style = \"text-align: right;\">4</td><td style = \"text-align: right;\">0.0340474</td></tr><tr><td class = \"rowNumber\" style = \"font-weight: bold; text-align: right;\">5</td><td style = \"text-align: right;\">5</td><td style = \"text-align: right;\">0.427072</td></tr></tbody></table></div>"
      ]
     },
     "metadata": {},
     "execution_count": 42
    }
   ],
   "cell_type": "code",
   "source": [
    "w3 = optimise!(port, Trad(; rm = SD(), str_names = true))"
   ],
   "metadata": {},
   "execution_count": 42
  },
  {
   "cell_type": "markdown",
   "source": [
    "Value are approximately equal."
   ],
   "metadata": {}
  },
  {
   "outputs": [
    {
     "output_type": "execute_result",
     "data": {
      "text/plain": "true"
     },
     "metadata": {},
     "execution_count": 43
    }
   ],
   "cell_type": "code",
   "source": [
    "isapprox(w2.weights, w3.weights; rtol = 5e-5)"
   ],
   "metadata": {},
   "execution_count": 43
  },
  {
   "cell_type": "markdown",
   "source": [
    "Exponential weights."
   ],
   "metadata": {}
  },
  {
   "outputs": [
    {
     "output_type": "execute_result",
     "data": {
      "text/plain": "10-element Weights{Float64, Float64, Vector{Float64}}:\n 0.13421772800000006\n 0.1677721600000001\n 0.20971520000000007\n 0.2621440000000001\n 0.3276800000000001\n 0.4096000000000001\n 0.5120000000000001\n 0.6400000000000001\n 0.8\n 1.0"
     },
     "metadata": {},
     "execution_count": 44
    }
   ],
   "cell_type": "code",
   "source": [
    "ew = eweights(1:size(ret, 1), 0.2; scale = true)"
   ],
   "metadata": {},
   "execution_count": 44
  },
  {
   "cell_type": "markdown",
   "source": [
    "Compute asset statistics, use `ew` in the `Trad` optimisation. This makes it consistent with the risk measure."
   ],
   "metadata": {}
  },
  {
   "outputs": [],
   "cell_type": "code",
   "source": [
    "asset_statistics!(port; mu_type = MuSimple(; w = ew))"
   ],
   "metadata": {},
   "execution_count": 45
  },
  {
   "cell_type": "markdown",
   "source": [
    "Semi standard deviation with exponential weights. `w` has no effect in the following optimisation, so we account for it in the computation of `port.mu` above."
   ],
   "metadata": {}
  },
  {
   "outputs": [
    {
     "output_type": "execute_result",
     "data": {
      "text/plain": "SSD{Float64}(RMSettings{Float64, Float64}(true, 1.0, Inf), 0.0, [0.13421772800000006, 0.1677721600000001, 0.20971520000000007, 0.2621440000000001, 0.3276800000000001, 0.4096000000000001, 0.5120000000000001, 0.6400000000000001, 0.8, 1.0], nothing)"
     },
     "metadata": {},
     "execution_count": 46
    }
   ],
   "cell_type": "code",
   "source": [
    "rm = SSD(; w = ew)"
   ],
   "metadata": {},
   "execution_count": 46
  },
  {
   "cell_type": "markdown",
   "source": [
    "Optimise using the exponential weight."
   ],
   "metadata": {}
  },
  {
   "outputs": [
    {
     "output_type": "execute_result",
     "data": {
      "text/plain": "\u001b[1m5×2 DataFrame\u001b[0m\n\u001b[1m Row \u001b[0m│\u001b[1m tickers \u001b[0m\u001b[1m weights     \u001b[0m\n     │\u001b[90m Int64   \u001b[0m\u001b[90m Float64     \u001b[0m\n─────┼──────────────────────\n   1 │       1  9.71355e-9\n   2 │       2  2.22374e-10\n   3 │       3  0.812157\n   4 │       4  0.000746068\n   5 │       5  0.187097",
      "text/html": [
       "<div><div style = \"float: left;\"><span>5×2 DataFrame</span></div><div style = \"clear: both;\"></div></div><div class = \"data-frame\" style = \"overflow-x: scroll;\"><table class = \"data-frame\" style = \"margin-bottom: 6px;\"><thead><tr class = \"header\"><th class = \"rowNumber\" style = \"font-weight: bold; text-align: right;\">Row</th><th style = \"text-align: left;\">tickers</th><th style = \"text-align: left;\">weights</th></tr><tr class = \"subheader headerLastRow\"><th class = \"rowNumber\" style = \"font-weight: bold; text-align: right;\"></th><th title = \"Int64\" style = \"text-align: left;\">Int64</th><th title = \"Float64\" style = \"text-align: left;\">Float64</th></tr></thead><tbody><tr><td class = \"rowNumber\" style = \"font-weight: bold; text-align: right;\">1</td><td style = \"text-align: right;\">1</td><td style = \"text-align: right;\">9.71355e-9</td></tr><tr><td class = \"rowNumber\" style = \"font-weight: bold; text-align: right;\">2</td><td style = \"text-align: right;\">2</td><td style = \"text-align: right;\">2.22374e-10</td></tr><tr><td class = \"rowNumber\" style = \"font-weight: bold; text-align: right;\">3</td><td style = \"text-align: right;\">3</td><td style = \"text-align: right;\">0.812157</td></tr><tr><td class = \"rowNumber\" style = \"font-weight: bold; text-align: right;\">4</td><td style = \"text-align: right;\">4</td><td style = \"text-align: right;\">0.000746068</td></tr><tr><td class = \"rowNumber\" style = \"font-weight: bold; text-align: right;\">5</td><td style = \"text-align: right;\">5</td><td style = \"text-align: right;\">0.187097</td></tr></tbody></table></div>"
      ]
     },
     "metadata": {},
     "execution_count": 47
    }
   ],
   "cell_type": "code",
   "source": [
    "w4 = optimise!(port, Trad(; rm = rm, str_names = true))"
   ],
   "metadata": {},
   "execution_count": 47
  },
  {
   "cell_type": "markdown",
   "source": [
    "Since we used the same exponential weights to compute `port.mu` and passed it on to the functor, the risk computed by `calc_risk` will be consistent with the value in the `JuMP` model."
   ],
   "metadata": {}
  },
  {
   "outputs": [
    {
     "output_type": "execute_result",
     "data": {
      "text/plain": "0.24351372267149982"
     },
     "metadata": {},
     "execution_count": 48
    }
   ],
   "cell_type": "code",
   "source": [
    "r4 = calc_risk(port; rm = rm)"
   ],
   "metadata": {},
   "execution_count": 48
  },
  {
   "cell_type": "markdown",
   "source": [
    "Check they are approximately equal."
   ],
   "metadata": {}
  },
  {
   "outputs": [
    {
     "output_type": "execute_result",
     "data": {
      "text/plain": "true"
     },
     "metadata": {},
     "execution_count": 49
    }
   ],
   "cell_type": "code",
   "source": [
    "isapprox(r4, value(port.model[:sdev_risk]))"
   ],
   "metadata": {},
   "execution_count": 49
  },
  {
   "cell_type": "markdown",
   "source": [
    "Custom mu (added some random noise)."
   ],
   "metadata": {}
  },
  {
   "outputs": [
    {
     "output_type": "execute_result",
     "data": {
      "text/plain": "SSD{Float64}(RMSettings{Float64, Float64}(true, 1.0, Inf), 0.0, nothing, [0.7125701109145426, 0.5954846163775541, -0.15751039974810838, 0.21715419988378104, 0.5953722438974804])"
     },
     "metadata": {},
     "execution_count": 50
    }
   ],
   "cell_type": "code",
   "source": [
    "custom_mu = port.mu + [-0.0025545471368230766, -0.0047554044723918795, 0.010574122455999866,\n",
    "                       0.0021521845052968917, -0.004417767086053032]\n",
    "rm = SSD(; mu = custom_mu)"
   ],
   "metadata": {},
   "execution_count": 50
  },
  {
   "cell_type": "markdown",
   "source": [
    "Optimise portfolio using this custom mu."
   ],
   "metadata": {}
  },
  {
   "outputs": [
    {
     "output_type": "execute_result",
     "data": {
      "text/plain": "\u001b[1m5×2 DataFrame\u001b[0m\n\u001b[1m Row \u001b[0m│\u001b[1m tickers \u001b[0m\u001b[1m weights     \u001b[0m\n     │\u001b[90m Int64   \u001b[0m\u001b[90m Float64     \u001b[0m\n─────┼──────────────────────\n   1 │       1  1.69283e-8\n   2 │       2  3.85731e-10\n   3 │       3  0.805951\n   4 │       4  0.00282056\n   5 │       5  0.191229",
      "text/html": [
       "<div><div style = \"float: left;\"><span>5×2 DataFrame</span></div><div style = \"clear: both;\"></div></div><div class = \"data-frame\" style = \"overflow-x: scroll;\"><table class = \"data-frame\" style = \"margin-bottom: 6px;\"><thead><tr class = \"header\"><th class = \"rowNumber\" style = \"font-weight: bold; text-align: right;\">Row</th><th style = \"text-align: left;\">tickers</th><th style = \"text-align: left;\">weights</th></tr><tr class = \"subheader headerLastRow\"><th class = \"rowNumber\" style = \"font-weight: bold; text-align: right;\"></th><th title = \"Int64\" style = \"text-align: left;\">Int64</th><th title = \"Float64\" style = \"text-align: left;\">Float64</th></tr></thead><tbody><tr><td class = \"rowNumber\" style = \"font-weight: bold; text-align: right;\">1</td><td style = \"text-align: right;\">1</td><td style = \"text-align: right;\">1.69283e-8</td></tr><tr><td class = \"rowNumber\" style = \"font-weight: bold; text-align: right;\">2</td><td style = \"text-align: right;\">2</td><td style = \"text-align: right;\">3.85731e-10</td></tr><tr><td class = \"rowNumber\" style = \"font-weight: bold; text-align: right;\">3</td><td style = \"text-align: right;\">3</td><td style = \"text-align: right;\">0.805951</td></tr><tr><td class = \"rowNumber\" style = \"font-weight: bold; text-align: right;\">4</td><td style = \"text-align: right;\">4</td><td style = \"text-align: right;\">0.00282056</td></tr><tr><td class = \"rowNumber\" style = \"font-weight: bold; text-align: right;\">5</td><td style = \"text-align: right;\">5</td><td style = \"text-align: right;\">0.191229</td></tr></tbody></table></div>"
      ]
     },
     "metadata": {},
     "execution_count": 51
    }
   ],
   "cell_type": "code",
   "source": [
    "w5 = optimise!(port, Trad(; rm = rm, str_names = true))"
   ],
   "metadata": {},
   "execution_count": 51
  },
  {
   "cell_type": "markdown",
   "source": [
    "Values don't match because the mean return is computed from the portfolio weights and returns matrix."
   ],
   "metadata": {}
  },
  {
   "outputs": [
    {
     "output_type": "execute_result",
     "data": {
      "text/plain": "0.34782982196502943"
     },
     "metadata": {},
     "execution_count": 52
    }
   ],
   "cell_type": "code",
   "source": [
    "r5_1 = calc_risk(port; rm = rm)"
   ],
   "metadata": {},
   "execution_count": 52
  },
  {
   "outputs": [
    {
     "output_type": "execute_result",
     "data": {
      "text/plain": "0.24896211021424786"
     },
     "metadata": {},
     "execution_count": 53
    }
   ],
   "cell_type": "code",
   "source": [
    "r5_2 = value(port.model[:sdev_risk])"
   ],
   "metadata": {},
   "execution_count": 53
  },
  {
   "cell_type": "markdown",
   "source": [
    "Vanilla semi standard deviation."
   ],
   "metadata": {}
  },
  {
   "outputs": [
    {
     "output_type": "execute_result",
     "data": {
      "text/plain": "SSD{Float64}(RMSettings{Float64, Float64}(true, 1.0, Inf), 0.0, nothing, nothing)"
     },
     "metadata": {},
     "execution_count": 54
    }
   ],
   "cell_type": "code",
   "source": [
    "rm = SSD()"
   ],
   "metadata": {},
   "execution_count": 54
  },
  {
   "cell_type": "markdown",
   "source": [
    "Hierarchical optimisation, no JuMP model."
   ],
   "metadata": {}
  },
  {
   "outputs": [
    {
     "output_type": "execute_result",
     "data": {
      "text/plain": "\u001b[1m5×2 DataFrame\u001b[0m\n\u001b[1m Row \u001b[0m│\u001b[1m tickers \u001b[0m\u001b[1m weights  \u001b[0m\n     │\u001b[90m Int64   \u001b[0m\u001b[90m Float64  \u001b[0m\n─────┼───────────────────\n   1 │       1  0.184329\n   2 │       2  0.223478\n   3 │       3  0.220501\n   4 │       4  0.103132\n   5 │       5  0.268561",
      "text/html": [
       "<div><div style = \"float: left;\"><span>5×2 DataFrame</span></div><div style = \"clear: both;\"></div></div><div class = \"data-frame\" style = \"overflow-x: scroll;\"><table class = \"data-frame\" style = \"margin-bottom: 6px;\"><thead><tr class = \"header\"><th class = \"rowNumber\" style = \"font-weight: bold; text-align: right;\">Row</th><th style = \"text-align: left;\">tickers</th><th style = \"text-align: left;\">weights</th></tr><tr class = \"subheader headerLastRow\"><th class = \"rowNumber\" style = \"font-weight: bold; text-align: right;\"></th><th title = \"Int64\" style = \"text-align: left;\">Int64</th><th title = \"Float64\" style = \"text-align: left;\">Float64</th></tr></thead><tbody><tr><td class = \"rowNumber\" style = \"font-weight: bold; text-align: right;\">1</td><td style = \"text-align: right;\">1</td><td style = \"text-align: right;\">0.184329</td></tr><tr><td class = \"rowNumber\" style = \"font-weight: bold; text-align: right;\">2</td><td style = \"text-align: right;\">2</td><td style = \"text-align: right;\">0.223478</td></tr><tr><td class = \"rowNumber\" style = \"font-weight: bold; text-align: right;\">3</td><td style = \"text-align: right;\">3</td><td style = \"text-align: right;\">0.220501</td></tr><tr><td class = \"rowNumber\" style = \"font-weight: bold; text-align: right;\">4</td><td style = \"text-align: right;\">4</td><td style = \"text-align: right;\">0.103132</td></tr><tr><td class = \"rowNumber\" style = \"font-weight: bold; text-align: right;\">5</td><td style = \"text-align: right;\">5</td><td style = \"text-align: right;\">0.268561</td></tr></tbody></table></div>"
      ]
     },
     "metadata": {},
     "execution_count": 55
    }
   ],
   "cell_type": "code",
   "source": [
    "w6 = optimise!(port, HRP(; rm = rm))"
   ],
   "metadata": {},
   "execution_count": 55
  },
  {
   "cell_type": "markdown",
   "source": [
    "Compute the semi standard deviation."
   ],
   "metadata": {}
  },
  {
   "outputs": [
    {
     "output_type": "execute_result",
     "data": {
      "text/plain": "0.5159961592965934"
     },
     "metadata": {},
     "execution_count": 56
    }
   ],
   "cell_type": "code",
   "source": [
    "r6 = calc_risk(port, :HRP; rm = rm)"
   ],
   "metadata": {},
   "execution_count": 56
  },
  {
   "cell_type": "markdown",
   "source": [
    "As a functor."
   ],
   "metadata": {}
  },
  {
   "outputs": [
    {
     "output_type": "execute_result",
     "data": {
      "text/plain": "true"
     },
     "metadata": {},
     "execution_count": 57
    }
   ],
   "cell_type": "code",
   "source": [
    "r6 == rm(port.returns * w6.weights)"
   ],
   "metadata": {},
   "execution_count": 57
  },
  {
   "cell_type": "markdown",
   "source": [
    "Custom mu has no effect in the following optimisation."
   ],
   "metadata": {}
  },
  {
   "outputs": [
    {
     "output_type": "execute_result",
     "data": {
      "text/plain": "SSD{Float64}(RMSettings{Float64, Float64}(true, 1.0, Inf), 0.0, nothing, [0.7125701109145426, 0.5954846163775541, -0.15751039974810838, 0.21715419988378104, 0.5953722438974804])"
     },
     "metadata": {},
     "execution_count": 58
    }
   ],
   "cell_type": "code",
   "source": [
    "rm = SSD(; mu = custom_mu)"
   ],
   "metadata": {},
   "execution_count": 58
  },
  {
   "cell_type": "markdown",
   "source": [
    "Hierarchical optimisation, no JuMP model."
   ],
   "metadata": {}
  },
  {
   "outputs": [
    {
     "output_type": "execute_result",
     "data": {
      "text/plain": "true"
     },
     "metadata": {},
     "execution_count": 59
    }
   ],
   "cell_type": "code",
   "source": [
    "w7 = optimise!(port, HRP(; rm = rm))\n",
    "w6.weights == w7.weights # true"
   ],
   "metadata": {},
   "execution_count": 59
  },
  {
   "cell_type": "markdown",
   "source": [
    "Compute the semi standard deviation."
   ],
   "metadata": {}
  },
  {
   "outputs": [
    {
     "output_type": "execute_result",
     "data": {
      "text/plain": "0.5159961592965934"
     },
     "metadata": {},
     "execution_count": 60
    }
   ],
   "cell_type": "code",
   "source": [
    "r7 = calc_risk(port, :HRP; rm = rm)"
   ],
   "metadata": {},
   "execution_count": 60
  },
  {
   "cell_type": "markdown",
   "source": [
    "`w` has an effect in the following optimisation."
   ],
   "metadata": {}
  },
  {
   "outputs": [
    {
     "output_type": "execute_result",
     "data": {
      "text/plain": "SSD{Float64}(RMSettings{Float64, Float64}(true, 1.0, Inf), 0.0, [0.13421772800000006, 0.1677721600000001, 0.20971520000000007, 0.2621440000000001, 0.3276800000000001, 0.4096000000000001, 0.5120000000000001, 0.6400000000000001, 0.8, 1.0], nothing)"
     },
     "metadata": {},
     "execution_count": 61
    }
   ],
   "cell_type": "code",
   "source": [
    "rm = SSD(; w = ew)"
   ],
   "metadata": {},
   "execution_count": 61
  },
  {
   "cell_type": "markdown",
   "source": [
    "Hierarchical optimisation, no JuMP model."
   ],
   "metadata": {}
  },
  {
   "outputs": [
    {
     "output_type": "execute_result",
     "data": {
      "text/plain": "\u001b[1m5×2 DataFrame\u001b[0m\n\u001b[1m Row \u001b[0m│\u001b[1m tickers \u001b[0m\u001b[1m weights  \u001b[0m\n     │\u001b[90m Int64   \u001b[0m\u001b[90m Float64  \u001b[0m\n─────┼───────────────────\n   1 │       1  0.152888\n   2 │       2  0.198178\n   3 │       3  0.391641\n   4 │       4  0.107353\n   5 │       5  0.149941",
      "text/html": [
       "<div><div style = \"float: left;\"><span>5×2 DataFrame</span></div><div style = \"clear: both;\"></div></div><div class = \"data-frame\" style = \"overflow-x: scroll;\"><table class = \"data-frame\" style = \"margin-bottom: 6px;\"><thead><tr class = \"header\"><th class = \"rowNumber\" style = \"font-weight: bold; text-align: right;\">Row</th><th style = \"text-align: left;\">tickers</th><th style = \"text-align: left;\">weights</th></tr><tr class = \"subheader headerLastRow\"><th class = \"rowNumber\" style = \"font-weight: bold; text-align: right;\"></th><th title = \"Int64\" style = \"text-align: left;\">Int64</th><th title = \"Float64\" style = \"text-align: left;\">Float64</th></tr></thead><tbody><tr><td class = \"rowNumber\" style = \"font-weight: bold; text-align: right;\">1</td><td style = \"text-align: right;\">1</td><td style = \"text-align: right;\">0.152888</td></tr><tr><td class = \"rowNumber\" style = \"font-weight: bold; text-align: right;\">2</td><td style = \"text-align: right;\">2</td><td style = \"text-align: right;\">0.198178</td></tr><tr><td class = \"rowNumber\" style = \"font-weight: bold; text-align: right;\">3</td><td style = \"text-align: right;\">3</td><td style = \"text-align: right;\">0.391641</td></tr><tr><td class = \"rowNumber\" style = \"font-weight: bold; text-align: right;\">4</td><td style = \"text-align: right;\">4</td><td style = \"text-align: right;\">0.107353</td></tr><tr><td class = \"rowNumber\" style = \"font-weight: bold; text-align: right;\">5</td><td style = \"text-align: right;\">5</td><td style = \"text-align: right;\">0.149941</td></tr></tbody></table></div>"
      ]
     },
     "metadata": {},
     "execution_count": 62
    }
   ],
   "cell_type": "code",
   "source": [
    "w8 = optimise!(port, HRP(; rm = rm))"
   ],
   "metadata": {},
   "execution_count": 62
  },
  {
   "cell_type": "markdown",
   "source": [
    "Compute the semi standard deviation."
   ],
   "metadata": {}
  },
  {
   "outputs": [
    {
     "output_type": "execute_result",
     "data": {
      "text/plain": "0.46579700495675935"
     },
     "metadata": {},
     "execution_count": 63
    }
   ],
   "cell_type": "code",
   "source": [
    "r8 = calc_risk(port, :HRP; rm = rm)"
   ],
   "metadata": {},
   "execution_count": 63
  },
  {
   "cell_type": "markdown",
   "source": [
    "# First Lower Partial Moment, `FLPM`"
   ],
   "metadata": {}
  },
  {
   "cell_type": "markdown",
   "source": [
    "Recompute asset statistics."
   ],
   "metadata": {}
  },
  {
   "outputs": [],
   "cell_type": "code",
   "source": [
    "asset_statistics!(port)"
   ],
   "metadata": {},
   "execution_count": 64
  },
  {
   "cell_type": "markdown",
   "source": [
    "Vanilla first lower partial moment."
   ],
   "metadata": {}
  },
  {
   "outputs": [
    {
     "output_type": "execute_result",
     "data": {
      "text/plain": "FLPM{Float64}(RMSettings{Float64, Float64}(true, 1.0, Inf), 0.0, nothing, 0.0)"
     },
     "metadata": {},
     "execution_count": 65
    }
   ],
   "cell_type": "code",
   "source": [
    "rm = FLPM()"
   ],
   "metadata": {},
   "execution_count": 65
  },
  {
   "cell_type": "markdown",
   "source": [
    "Optimise portfolio."
   ],
   "metadata": {}
  },
  {
   "outputs": [
    {
     "output_type": "execute_result",
     "data": {
      "text/plain": "\u001b[1m5×2 DataFrame\u001b[0m\n\u001b[1m Row \u001b[0m│\u001b[1m tickers \u001b[0m\u001b[1m weights     \u001b[0m\n     │\u001b[90m Int64   \u001b[0m\u001b[90m Float64     \u001b[0m\n─────┼──────────────────────\n   1 │       1  0.129097\n   2 │       2  7.13509e-10\n   3 │       3  0.586438\n   4 │       4  0.0577378\n   5 │       5  0.226727",
      "text/html": [
       "<div><div style = \"float: left;\"><span>5×2 DataFrame</span></div><div style = \"clear: both;\"></div></div><div class = \"data-frame\" style = \"overflow-x: scroll;\"><table class = \"data-frame\" style = \"margin-bottom: 6px;\"><thead><tr class = \"header\"><th class = \"rowNumber\" style = \"font-weight: bold; text-align: right;\">Row</th><th style = \"text-align: left;\">tickers</th><th style = \"text-align: left;\">weights</th></tr><tr class = \"subheader headerLastRow\"><th class = \"rowNumber\" style = \"font-weight: bold; text-align: right;\"></th><th title = \"Int64\" style = \"text-align: left;\">Int64</th><th title = \"Float64\" style = \"text-align: left;\">Float64</th></tr></thead><tbody><tr><td class = \"rowNumber\" style = \"font-weight: bold; text-align: right;\">1</td><td style = \"text-align: right;\">1</td><td style = \"text-align: right;\">0.129097</td></tr><tr><td class = \"rowNumber\" style = \"font-weight: bold; text-align: right;\">2</td><td style = \"text-align: right;\">2</td><td style = \"text-align: right;\">7.13509e-10</td></tr><tr><td class = \"rowNumber\" style = \"font-weight: bold; text-align: right;\">3</td><td style = \"text-align: right;\">3</td><td style = \"text-align: right;\">0.586438</td></tr><tr><td class = \"rowNumber\" style = \"font-weight: bold; text-align: right;\">4</td><td style = \"text-align: right;\">4</td><td style = \"text-align: right;\">0.0577378</td></tr><tr><td class = \"rowNumber\" style = \"font-weight: bold; text-align: right;\">5</td><td style = \"text-align: right;\">5</td><td style = \"text-align: right;\">0.226727</td></tr></tbody></table></div>"
      ]
     },
     "metadata": {},
     "execution_count": 66
    }
   ],
   "cell_type": "code",
   "source": [
    "w1 = optimise!(port, Trad(; rm = rm, str_names = true))"
   ],
   "metadata": {},
   "execution_count": 66
  },
  {
   "cell_type": "markdown",
   "source": [
    "Compute first lower partial moment."
   ],
   "metadata": {}
  },
  {
   "outputs": [
    {
     "output_type": "execute_result",
     "data": {
      "text/plain": "0.07307909070642135"
     },
     "metadata": {},
     "execution_count": 67
    }
   ],
   "cell_type": "code",
   "source": [
    "r1 = calc_risk(port; rm = rm)"
   ],
   "metadata": {},
   "execution_count": 67
  },
  {
   "cell_type": "markdown",
   "source": [
    "Values are consistent."
   ],
   "metadata": {}
  },
  {
   "outputs": [
    {
     "output_type": "execute_result",
     "data": {
      "text/plain": "true"
     },
     "metadata": {},
     "execution_count": 68
    }
   ],
   "cell_type": "code",
   "source": [
    "isapprox(r1, value(port.model[:flpm_risk]))"
   ],
   "metadata": {},
   "execution_count": 68
  },
  {
   "cell_type": "markdown",
   "source": [
    "First lower partial moment with a returns threshold equal to `Inf` will use `rm.mu` (which in this case is zero) in optimisations using [`JuMP`](https://github.com/jump-dev/JuMP.jl) models, and compute the mean of the returns vector when used in the functor."
   ],
   "metadata": {}
  },
  {
   "outputs": [
    {
     "output_type": "execute_result",
     "data": {
      "text/plain": "FLPM{Float64}(RMSettings{Float64, Float64}(true, 1.0, Inf), Inf, nothing, 0.0)"
     },
     "metadata": {},
     "execution_count": 69
    }
   ],
   "cell_type": "code",
   "source": [
    "rm = FLPM(; target = Inf)"
   ],
   "metadata": {},
   "execution_count": 69
  },
  {
   "cell_type": "markdown",
   "source": [
    "Optimise portfolio using the first lower partial moment with a return threshold that includes all returns."
   ],
   "metadata": {}
  },
  {
   "outputs": [
    {
     "output_type": "execute_result",
     "data": {
      "text/plain": "\u001b[1m5×2 DataFrame\u001b[0m\n\u001b[1m Row \u001b[0m│\u001b[1m tickers \u001b[0m\u001b[1m weights     \u001b[0m\n     │\u001b[90m Int64   \u001b[0m\u001b[90m Float64     \u001b[0m\n─────┼──────────────────────\n   1 │       1  0.129097\n   2 │       2  7.13509e-10\n   3 │       3  0.586438\n   4 │       4  0.0577378\n   5 │       5  0.226727",
      "text/html": [
       "<div><div style = \"float: left;\"><span>5×2 DataFrame</span></div><div style = \"clear: both;\"></div></div><div class = \"data-frame\" style = \"overflow-x: scroll;\"><table class = \"data-frame\" style = \"margin-bottom: 6px;\"><thead><tr class = \"header\"><th class = \"rowNumber\" style = \"font-weight: bold; text-align: right;\">Row</th><th style = \"text-align: left;\">tickers</th><th style = \"text-align: left;\">weights</th></tr><tr class = \"subheader headerLastRow\"><th class = \"rowNumber\" style = \"font-weight: bold; text-align: right;\"></th><th title = \"Int64\" style = \"text-align: left;\">Int64</th><th title = \"Float64\" style = \"text-align: left;\">Float64</th></tr></thead><tbody><tr><td class = \"rowNumber\" style = \"font-weight: bold; text-align: right;\">1</td><td style = \"text-align: right;\">1</td><td style = \"text-align: right;\">0.129097</td></tr><tr><td class = \"rowNumber\" style = \"font-weight: bold; text-align: right;\">2</td><td style = \"text-align: right;\">2</td><td style = \"text-align: right;\">7.13509e-10</td></tr><tr><td class = \"rowNumber\" style = \"font-weight: bold; text-align: right;\">3</td><td style = \"text-align: right;\">3</td><td style = \"text-align: right;\">0.586438</td></tr><tr><td class = \"rowNumber\" style = \"font-weight: bold; text-align: right;\">4</td><td style = \"text-align: right;\">4</td><td style = \"text-align: right;\">0.0577378</td></tr><tr><td class = \"rowNumber\" style = \"font-weight: bold; text-align: right;\">5</td><td style = \"text-align: right;\">5</td><td style = \"text-align: right;\">0.226727</td></tr></tbody></table></div>"
      ]
     },
     "metadata": {},
     "execution_count": 70
    }
   ],
   "cell_type": "code",
   "source": [
    "w2 = optimise!(port, Trad(; obj = MinRisk(), rm = rm, str_names = true))"
   ],
   "metadata": {},
   "execution_count": 70
  },
  {
   "cell_type": "markdown",
   "source": [
    "The risks do not match. This is because when using the functor, `mu` has no effect, and if `isinf(target)`, it will be set to the expected value of the returns vector. Whereas `PortfolioOptimiser.set_rm` took the value to be `target = range(; start = mu, stop = mu, length = N)`, where `N` is the number of assets, and `mu == 0` in this case."
   ],
   "metadata": {}
  },
  {
   "outputs": [
    {
     "output_type": "execute_result",
     "data": {
      "text/plain": "0.1727455718397823"
     },
     "metadata": {},
     "execution_count": 71
    }
   ],
   "cell_type": "code",
   "source": [
    "r2_1 = calc_risk(port; rm = rm)"
   ],
   "metadata": {},
   "execution_count": 71
  },
  {
   "outputs": [
    {
     "output_type": "execute_result",
     "data": {
      "text/plain": "0.07307909079327962"
     },
     "metadata": {},
     "execution_count": 72
    }
   ],
   "cell_type": "code",
   "source": [
    "r2_2 = value(port.model[:flpm_risk])"
   ],
   "metadata": {},
   "execution_count": 72
  },
  {
   "cell_type": "markdown",
   "source": [
    "If we set `rm.target = 0`, then `calc_risk` will compute the correct risk."
   ],
   "metadata": {}
  },
  {
   "outputs": [
    {
     "output_type": "execute_result",
     "data": {
      "text/plain": "true"
     },
     "metadata": {},
     "execution_count": 73
    }
   ],
   "cell_type": "code",
   "source": [
    "rm.target = 0\n",
    "isapprox(r2_2, calc_risk(port; rm = rm))"
   ],
   "metadata": {},
   "execution_count": 73
  },
  {
   "cell_type": "markdown",
   "source": [
    "First lower partial moment with a returns threshold equal to `Inf`, will use `port.mu`in optimisations using [`JuMP`](https://github.com/jump-dev/JuMP.jl) models, and compute the mean of the returns vector when used in the functor."
   ],
   "metadata": {}
  },
  {
   "outputs": [
    {
     "output_type": "execute_result",
     "data": {
      "text/plain": "FLPM{Float64}(RMSettings{Float64, Float64}(true, 1.0, Inf), Inf, nothing, Inf)"
     },
     "metadata": {},
     "execution_count": 74
    }
   ],
   "cell_type": "code",
   "source": [
    "rm = FLPM(; target = Inf, mu = Inf)"
   ],
   "metadata": {},
   "execution_count": 74
  },
  {
   "cell_type": "markdown",
   "source": [
    "Value are approximately equal."
   ],
   "metadata": {}
  },
  {
   "outputs": [
    {
     "output_type": "execute_result",
     "data": {
      "text/plain": "\u001b[1m5×2 DataFrame\u001b[0m\n\u001b[1m Row \u001b[0m│\u001b[1m tickers \u001b[0m\u001b[1m weights     \u001b[0m\n     │\u001b[90m Int64   \u001b[0m\u001b[90m Float64     \u001b[0m\n─────┼──────────────────────\n   1 │       1  1.8061e-11\n   2 │       2  5.26329e-10\n   3 │       3  0.591219\n   4 │       4  5.03171e-9\n   5 │       5  0.408781",
      "text/html": [
       "<div><div style = \"float: left;\"><span>5×2 DataFrame</span></div><div style = \"clear: both;\"></div></div><div class = \"data-frame\" style = \"overflow-x: scroll;\"><table class = \"data-frame\" style = \"margin-bottom: 6px;\"><thead><tr class = \"header\"><th class = \"rowNumber\" style = \"font-weight: bold; text-align: right;\">Row</th><th style = \"text-align: left;\">tickers</th><th style = \"text-align: left;\">weights</th></tr><tr class = \"subheader headerLastRow\"><th class = \"rowNumber\" style = \"font-weight: bold; text-align: right;\"></th><th title = \"Int64\" style = \"text-align: left;\">Int64</th><th title = \"Float64\" style = \"text-align: left;\">Float64</th></tr></thead><tbody><tr><td class = \"rowNumber\" style = \"font-weight: bold; text-align: right;\">1</td><td style = \"text-align: right;\">1</td><td style = \"text-align: right;\">1.8061e-11</td></tr><tr><td class = \"rowNumber\" style = \"font-weight: bold; text-align: right;\">2</td><td style = \"text-align: right;\">2</td><td style = \"text-align: right;\">5.26329e-10</td></tr><tr><td class = \"rowNumber\" style = \"font-weight: bold; text-align: right;\">3</td><td style = \"text-align: right;\">3</td><td style = \"text-align: right;\">0.591219</td></tr><tr><td class = \"rowNumber\" style = \"font-weight: bold; text-align: right;\">4</td><td style = \"text-align: right;\">4</td><td style = \"text-align: right;\">5.03171e-9</td></tr><tr><td class = \"rowNumber\" style = \"font-weight: bold; text-align: right;\">5</td><td style = \"text-align: right;\">5</td><td style = \"text-align: right;\">0.408781</td></tr></tbody></table></div>"
      ]
     },
     "metadata": {},
     "execution_count": 75
    }
   ],
   "cell_type": "code",
   "source": [
    "w3 = optimise!(port, Trad(; obj = MinRisk(), rm = rm, str_names = true))"
   ],
   "metadata": {},
   "execution_count": 75
  },
  {
   "cell_type": "markdown",
   "source": [
    "Exponential weights."
   ],
   "metadata": {}
  },
  {
   "outputs": [
    {
     "output_type": "execute_result",
     "data": {
      "text/plain": "10-element Weights{Float64, Float64, Vector{Float64}}:\n 0.13421772800000006\n 0.1677721600000001\n 0.20971520000000007\n 0.2621440000000001\n 0.3276800000000001\n 0.4096000000000001\n 0.5120000000000001\n 0.6400000000000001\n 0.8\n 1.0"
     },
     "metadata": {},
     "execution_count": 76
    }
   ],
   "cell_type": "code",
   "source": [
    "ew = eweights(1:size(ret, 1), 0.2; scale = true)"
   ],
   "metadata": {},
   "execution_count": 76
  },
  {
   "cell_type": "markdown",
   "source": [
    "Compute asset statistics, use `ew` in the `Trad` optimisation. This makes it consistent with the risk measure."
   ],
   "metadata": {}
  },
  {
   "outputs": [],
   "cell_type": "code",
   "source": [
    "asset_statistics!(port; mu_type = MuSimple(; w = ew))"
   ],
   "metadata": {},
   "execution_count": 77
  },
  {
   "cell_type": "markdown",
   "source": [
    "First lower partial moment with exponential weights. `w` has no effect in the following optimisation, so we account for it in the computation of `port.mu` above."
   ],
   "metadata": {}
  },
  {
   "outputs": [
    {
     "output_type": "execute_result",
     "data": {
      "text/plain": "FLPM{Float64}(RMSettings{Float64, Float64}(true, 1.0, Inf), 0.0, [0.13421772800000006, 0.1677721600000001, 0.20971520000000007, 0.2621440000000001, 0.3276800000000001, 0.4096000000000001, 0.5120000000000001, 0.6400000000000001, 0.8, 1.0], 0.0)"
     },
     "metadata": {},
     "execution_count": 78
    }
   ],
   "cell_type": "code",
   "source": [
    "rm = FLPM(; w = ew)"
   ],
   "metadata": {},
   "execution_count": 78
  },
  {
   "cell_type": "markdown",
   "source": [
    "Optimise using the exponential weight."
   ],
   "metadata": {}
  },
  {
   "outputs": [
    {
     "output_type": "execute_result",
     "data": {
      "text/plain": "\u001b[1m5×2 DataFrame\u001b[0m\n\u001b[1m Row \u001b[0m│\u001b[1m tickers \u001b[0m\u001b[1m weights     \u001b[0m\n     │\u001b[90m Int64   \u001b[0m\u001b[90m Float64     \u001b[0m\n─────┼──────────────────────\n   1 │       1  0.129097\n   2 │       2  7.13509e-10\n   3 │       3  0.586438\n   4 │       4  0.0577378\n   5 │       5  0.226727",
      "text/html": [
       "<div><div style = \"float: left;\"><span>5×2 DataFrame</span></div><div style = \"clear: both;\"></div></div><div class = \"data-frame\" style = \"overflow-x: scroll;\"><table class = \"data-frame\" style = \"margin-bottom: 6px;\"><thead><tr class = \"header\"><th class = \"rowNumber\" style = \"font-weight: bold; text-align: right;\">Row</th><th style = \"text-align: left;\">tickers</th><th style = \"text-align: left;\">weights</th></tr><tr class = \"subheader headerLastRow\"><th class = \"rowNumber\" style = \"font-weight: bold; text-align: right;\"></th><th title = \"Int64\" style = \"text-align: left;\">Int64</th><th title = \"Float64\" style = \"text-align: left;\">Float64</th></tr></thead><tbody><tr><td class = \"rowNumber\" style = \"font-weight: bold; text-align: right;\">1</td><td style = \"text-align: right;\">1</td><td style = \"text-align: right;\">0.129097</td></tr><tr><td class = \"rowNumber\" style = \"font-weight: bold; text-align: right;\">2</td><td style = \"text-align: right;\">2</td><td style = \"text-align: right;\">7.13509e-10</td></tr><tr><td class = \"rowNumber\" style = \"font-weight: bold; text-align: right;\">3</td><td style = \"text-align: right;\">3</td><td style = \"text-align: right;\">0.586438</td></tr><tr><td class = \"rowNumber\" style = \"font-weight: bold; text-align: right;\">4</td><td style = \"text-align: right;\">4</td><td style = \"text-align: right;\">0.0577378</td></tr><tr><td class = \"rowNumber\" style = \"font-weight: bold; text-align: right;\">5</td><td style = \"text-align: right;\">5</td><td style = \"text-align: right;\">0.226727</td></tr></tbody></table></div>"
      ]
     },
     "metadata": {},
     "execution_count": 79
    }
   ],
   "cell_type": "code",
   "source": [
    "w4 = optimise!(port, Trad(; rm = rm, str_names = true))"
   ],
   "metadata": {},
   "execution_count": 79
  },
  {
   "cell_type": "markdown",
   "source": [
    "Since we used the same exponential weights to compute `port.mu` and passed it on to the functor, the risk computed by `calc_risk` will be consistent with the value in the `JuMP` model."
   ],
   "metadata": {}
  },
  {
   "outputs": [
    {
     "output_type": "execute_result",
     "data": {
      "text/plain": "0.07307909070642135"
     },
     "metadata": {},
     "execution_count": 80
    }
   ],
   "cell_type": "code",
   "source": [
    "r4 = calc_risk(port; rm = rm)"
   ],
   "metadata": {},
   "execution_count": 80
  },
  {
   "cell_type": "markdown",
   "source": [
    "Check they are approximately equal."
   ],
   "metadata": {}
  },
  {
   "outputs": [
    {
     "output_type": "execute_result",
     "data": {
      "text/plain": "true"
     },
     "metadata": {},
     "execution_count": 81
    }
   ],
   "cell_type": "code",
   "source": [
    "isapprox(r4, value(port.model[:flpm_risk]))"
   ],
   "metadata": {},
   "execution_count": 81
  },
  {
   "cell_type": "markdown",
   "source": [
    "Custom mu (added some random noise)."
   ],
   "metadata": {}
  },
  {
   "outputs": [
    {
     "output_type": "execute_result",
     "data": {
      "text/plain": "FLPM{Float64}(RMSettings{Float64, Float64}(true, 1.0, Inf), 0.0, nothing, [0.7125701109145426, 0.5954846163775541, -0.15751039974810838, 0.21715419988378104, 0.5953722438974804])"
     },
     "metadata": {},
     "execution_count": 82
    }
   ],
   "cell_type": "code",
   "source": [
    "custom_mu = port.mu + [-0.0025545471368230766, -0.0047554044723918795, 0.010574122455999866,\n",
    "                       0.0021521845052968917, -0.004417767086053032]\n",
    "rm = FLPM(; mu = custom_mu)"
   ],
   "metadata": {},
   "execution_count": 82
  },
  {
   "cell_type": "markdown",
   "source": [
    "Optimise portfolio using this custom mu."
   ],
   "metadata": {}
  },
  {
   "outputs": [
    {
     "output_type": "execute_result",
     "data": {
      "text/plain": "\u001b[1m5×2 DataFrame\u001b[0m\n\u001b[1m Row \u001b[0m│\u001b[1m tickers \u001b[0m\u001b[1m weights    \u001b[0m\n     │\u001b[90m Int64   \u001b[0m\u001b[90m Float64    \u001b[0m\n─────┼─────────────────────\n   1 │       1  0.129419\n   2 │       2  4.3467e-10\n   3 │       3  0.590633\n   4 │       4  0.13825\n   5 │       5  0.141698",
      "text/html": [
       "<div><div style = \"float: left;\"><span>5×2 DataFrame</span></div><div style = \"clear: both;\"></div></div><div class = \"data-frame\" style = \"overflow-x: scroll;\"><table class = \"data-frame\" style = \"margin-bottom: 6px;\"><thead><tr class = \"header\"><th class = \"rowNumber\" style = \"font-weight: bold; text-align: right;\">Row</th><th style = \"text-align: left;\">tickers</th><th style = \"text-align: left;\">weights</th></tr><tr class = \"subheader headerLastRow\"><th class = \"rowNumber\" style = \"font-weight: bold; text-align: right;\"></th><th title = \"Int64\" style = \"text-align: left;\">Int64</th><th title = \"Float64\" style = \"text-align: left;\">Float64</th></tr></thead><tbody><tr><td class = \"rowNumber\" style = \"font-weight: bold; text-align: right;\">1</td><td style = \"text-align: right;\">1</td><td style = \"text-align: right;\">0.129419</td></tr><tr><td class = \"rowNumber\" style = \"font-weight: bold; text-align: right;\">2</td><td style = \"text-align: right;\">2</td><td style = \"text-align: right;\">4.3467e-10</td></tr><tr><td class = \"rowNumber\" style = \"font-weight: bold; text-align: right;\">3</td><td style = \"text-align: right;\">3</td><td style = \"text-align: right;\">0.590633</td></tr><tr><td class = \"rowNumber\" style = \"font-weight: bold; text-align: right;\">4</td><td style = \"text-align: right;\">4</td><td style = \"text-align: right;\">0.13825</td></tr><tr><td class = \"rowNumber\" style = \"font-weight: bold; text-align: right;\">5</td><td style = \"text-align: right;\">5</td><td style = \"text-align: right;\">0.141698</td></tr></tbody></table></div>"
      ]
     },
     "metadata": {},
     "execution_count": 83
    }
   ],
   "cell_type": "code",
   "source": [
    "w5 = optimise!(port, Trad(; rm = rm, str_names = true))"
   ],
   "metadata": {},
   "execution_count": 83
  },
  {
   "cell_type": "markdown",
   "source": [
    "Values don't match because the mean return is computed from the portfolio weights and returns matrix."
   ],
   "metadata": {}
  },
  {
   "outputs": [
    {
     "output_type": "execute_result",
     "data": {
      "text/plain": "0.09467150228915336"
     },
     "metadata": {},
     "execution_count": 84
    }
   ],
   "cell_type": "code",
   "source": [
    "r5_1 = calc_risk(port; rm = rm)"
   ],
   "metadata": {},
   "execution_count": 84
  },
  {
   "outputs": [
    {
     "output_type": "execute_result",
     "data": {
      "text/plain": "0.1161638387813645"
     },
     "metadata": {},
     "execution_count": 85
    }
   ],
   "cell_type": "code",
   "source": [
    "r5_2 = value(port.model[:flpm_risk])"
   ],
   "metadata": {},
   "execution_count": 85
  },
  {
   "cell_type": "markdown",
   "source": [
    "Vanilla first lower partial moment."
   ],
   "metadata": {}
  },
  {
   "outputs": [
    {
     "output_type": "execute_result",
     "data": {
      "text/plain": "FLPM{Float64}(RMSettings{Float64, Float64}(true, 1.0, Inf), 0.0, nothing, 0.0)"
     },
     "metadata": {},
     "execution_count": 86
    }
   ],
   "cell_type": "code",
   "source": [
    "rm = FLPM()"
   ],
   "metadata": {},
   "execution_count": 86
  },
  {
   "cell_type": "markdown",
   "source": [
    "Hierarchical optimisation, no JuMP model."
   ],
   "metadata": {}
  },
  {
   "outputs": [
    {
     "output_type": "execute_result",
     "data": {
      "text/plain": "\u001b[1m5×2 DataFrame\u001b[0m\n\u001b[1m Row \u001b[0m│\u001b[1m tickers \u001b[0m\u001b[1m weights  \u001b[0m\n     │\u001b[90m Int64   \u001b[0m\u001b[90m Float64  \u001b[0m\n─────┼───────────────────\n   1 │       1  0.222221\n   2 │       2  0.274757\n   3 │       3  0.185196\n   4 │       4  0.149013\n   5 │       5  0.168813",
      "text/html": [
       "<div><div style = \"float: left;\"><span>5×2 DataFrame</span></div><div style = \"clear: both;\"></div></div><div class = \"data-frame\" style = \"overflow-x: scroll;\"><table class = \"data-frame\" style = \"margin-bottom: 6px;\"><thead><tr class = \"header\"><th class = \"rowNumber\" style = \"font-weight: bold; text-align: right;\">Row</th><th style = \"text-align: left;\">tickers</th><th style = \"text-align: left;\">weights</th></tr><tr class = \"subheader headerLastRow\"><th class = \"rowNumber\" style = \"font-weight: bold; text-align: right;\"></th><th title = \"Int64\" style = \"text-align: left;\">Int64</th><th title = \"Float64\" style = \"text-align: left;\">Float64</th></tr></thead><tbody><tr><td class = \"rowNumber\" style = \"font-weight: bold; text-align: right;\">1</td><td style = \"text-align: right;\">1</td><td style = \"text-align: right;\">0.222221</td></tr><tr><td class = \"rowNumber\" style = \"font-weight: bold; text-align: right;\">2</td><td style = \"text-align: right;\">2</td><td style = \"text-align: right;\">0.274757</td></tr><tr><td class = \"rowNumber\" style = \"font-weight: bold; text-align: right;\">3</td><td style = \"text-align: right;\">3</td><td style = \"text-align: right;\">0.185196</td></tr><tr><td class = \"rowNumber\" style = \"font-weight: bold; text-align: right;\">4</td><td style = \"text-align: right;\">4</td><td style = \"text-align: right;\">0.149013</td></tr><tr><td class = \"rowNumber\" style = \"font-weight: bold; text-align: right;\">5</td><td style = \"text-align: right;\">5</td><td style = \"text-align: right;\">0.168813</td></tr></tbody></table></div>"
      ]
     },
     "metadata": {},
     "execution_count": 87
    }
   ],
   "cell_type": "code",
   "source": [
    "w6 = optimise!(port, HRP(; rm = rm))"
   ],
   "metadata": {},
   "execution_count": 87
  },
  {
   "cell_type": "markdown",
   "source": [
    "Compute the first lower partial moment."
   ],
   "metadata": {}
  },
  {
   "outputs": [
    {
     "output_type": "execute_result",
     "data": {
      "text/plain": "0.17425430923284418"
     },
     "metadata": {},
     "execution_count": 88
    }
   ],
   "cell_type": "code",
   "source": [
    "r6 = calc_risk(port, :HRP; rm = rm)"
   ],
   "metadata": {},
   "execution_count": 88
  },
  {
   "cell_type": "markdown",
   "source": [
    "As a functor."
   ],
   "metadata": {}
  },
  {
   "outputs": [
    {
     "output_type": "execute_result",
     "data": {
      "text/plain": "true"
     },
     "metadata": {},
     "execution_count": 89
    }
   ],
   "cell_type": "code",
   "source": [
    "r6 == rm(port.returns * w6.weights)"
   ],
   "metadata": {},
   "execution_count": 89
  },
  {
   "cell_type": "markdown",
   "source": [
    "Custom mu has no effect in the following optimisation."
   ],
   "metadata": {}
  },
  {
   "outputs": [
    {
     "output_type": "execute_result",
     "data": {
      "text/plain": "FLPM{Float64}(RMSettings{Float64, Float64}(true, 1.0, Inf), 0.0, nothing, [0.7125701109145426, 0.5954846163775541, -0.15751039974810838, 0.21715419988378104, 0.5953722438974804])"
     },
     "metadata": {},
     "execution_count": 90
    }
   ],
   "cell_type": "code",
   "source": [
    "rm = FLPM(; mu = custom_mu)"
   ],
   "metadata": {},
   "execution_count": 90
  },
  {
   "cell_type": "markdown",
   "source": [
    "Hierarchical optimisation, no JuMP model."
   ],
   "metadata": {}
  },
  {
   "outputs": [
    {
     "output_type": "execute_result",
     "data": {
      "text/plain": "true"
     },
     "metadata": {},
     "execution_count": 91
    }
   ],
   "cell_type": "code",
   "source": [
    "w7 = optimise!(port, HRP(; rm = rm))\n",
    "w6.weights == w7.weights # true"
   ],
   "metadata": {},
   "execution_count": 91
  },
  {
   "cell_type": "markdown",
   "source": [
    "If we set `target = Inf`, the target will be the return vector's expected value computed with the weights."
   ],
   "metadata": {}
  },
  {
   "outputs": [
    {
     "output_type": "execute_result",
     "data": {
      "text/plain": "FLPM{Float64}(RMSettings{Float64, Float64}(true, 1.0, Inf), Inf, [0.13421772800000006, 0.1677721600000001, 0.20971520000000007, 0.2621440000000001, 0.3276800000000001, 0.4096000000000001, 0.5120000000000001, 0.6400000000000001, 0.8, 1.0], 0.0)"
     },
     "metadata": {},
     "execution_count": 92
    }
   ],
   "cell_type": "code",
   "source": [
    "rm = FLPM(; target = Inf, w = ew)"
   ],
   "metadata": {},
   "execution_count": 92
  },
  {
   "cell_type": "markdown",
   "source": [
    "Hierarchical optimisation, no JuMP model."
   ],
   "metadata": {}
  },
  {
   "outputs": [
    {
     "output_type": "execute_result",
     "data": {
      "text/plain": "\u001b[1m5×2 DataFrame\u001b[0m\n\u001b[1m Row \u001b[0m│\u001b[1m tickers \u001b[0m\u001b[1m weights  \u001b[0m\n     │\u001b[90m Int64   \u001b[0m\u001b[90m Float64  \u001b[0m\n─────┼───────────────────\n   1 │       1  0.143391\n   2 │       2  0.182024\n   3 │       3  0.408805\n   4 │       4  0.163642\n   5 │       5  0.102138",
      "text/html": [
       "<div><div style = \"float: left;\"><span>5×2 DataFrame</span></div><div style = \"clear: both;\"></div></div><div class = \"data-frame\" style = \"overflow-x: scroll;\"><table class = \"data-frame\" style = \"margin-bottom: 6px;\"><thead><tr class = \"header\"><th class = \"rowNumber\" style = \"font-weight: bold; text-align: right;\">Row</th><th style = \"text-align: left;\">tickers</th><th style = \"text-align: left;\">weights</th></tr><tr class = \"subheader headerLastRow\"><th class = \"rowNumber\" style = \"font-weight: bold; text-align: right;\"></th><th title = \"Int64\" style = \"text-align: left;\">Int64</th><th title = \"Float64\" style = \"text-align: left;\">Float64</th></tr></thead><tbody><tr><td class = \"rowNumber\" style = \"font-weight: bold; text-align: right;\">1</td><td style = \"text-align: right;\">1</td><td style = \"text-align: right;\">0.143391</td></tr><tr><td class = \"rowNumber\" style = \"font-weight: bold; text-align: right;\">2</td><td style = \"text-align: right;\">2</td><td style = \"text-align: right;\">0.182024</td></tr><tr><td class = \"rowNumber\" style = \"font-weight: bold; text-align: right;\">3</td><td style = \"text-align: right;\">3</td><td style = \"text-align: right;\">0.408805</td></tr><tr><td class = \"rowNumber\" style = \"font-weight: bold; text-align: right;\">4</td><td style = \"text-align: right;\">4</td><td style = \"text-align: right;\">0.163642</td></tr><tr><td class = \"rowNumber\" style = \"font-weight: bold; text-align: right;\">5</td><td style = \"text-align: right;\">5</td><td style = \"text-align: right;\">0.102138</td></tr></tbody></table></div>"
      ]
     },
     "metadata": {},
     "execution_count": 93
    }
   ],
   "cell_type": "code",
   "source": [
    "w8 = optimise!(port, HRP(; rm = rm))"
   ],
   "metadata": {},
   "execution_count": 93
  },
  {
   "cell_type": "markdown",
   "source": [
    "Compute the first lower partial moment."
   ],
   "metadata": {}
  },
  {
   "outputs": [
    {
     "output_type": "execute_result",
     "data": {
      "text/plain": "0.18695122450749355"
     },
     "metadata": {},
     "execution_count": 94
    }
   ],
   "cell_type": "code",
   "source": [
    "r8 = calc_risk(port, :HRP; rm = rm)"
   ],
   "metadata": {},
   "execution_count": 94
  },
  {
   "cell_type": "markdown",
   "source": [
    "# Second Lower Partial Moment, `SLPM`"
   ],
   "metadata": {}
  },
  {
   "cell_type": "markdown",
   "source": [
    "Recompute asset statistics."
   ],
   "metadata": {}
  },
  {
   "outputs": [],
   "cell_type": "code",
   "source": [
    "asset_statistics!(port)"
   ],
   "metadata": {},
   "execution_count": 95
  },
  {
   "cell_type": "markdown",
   "source": [
    "Vanilla second lower partial moment."
   ],
   "metadata": {}
  },
  {
   "outputs": [
    {
     "output_type": "execute_result",
     "data": {
      "text/plain": "SLPM{Float64}(RMSettings{Float64, Float64}(true, 1.0, Inf), 0.0, nothing, 0.0)"
     },
     "metadata": {},
     "execution_count": 96
    }
   ],
   "cell_type": "code",
   "source": [
    "rm = SLPM()"
   ],
   "metadata": {},
   "execution_count": 96
  },
  {
   "cell_type": "markdown",
   "source": [
    "Optimise portfolio."
   ],
   "metadata": {}
  },
  {
   "outputs": [
    {
     "output_type": "execute_result",
     "data": {
      "text/plain": "\u001b[1m5×2 DataFrame\u001b[0m\n\u001b[1m Row \u001b[0m│\u001b[1m tickers \u001b[0m\u001b[1m weights   \u001b[0m\n     │\u001b[90m Int64   \u001b[0m\u001b[90m Float64   \u001b[0m\n─────┼────────────────────\n   1 │       1  0.029713\n   2 │       2  0.0247062\n   3 │       3  0.513805\n   4 │       4  2.2412e-9\n   5 │       5  0.431776",
      "text/html": [
       "<div><div style = \"float: left;\"><span>5×2 DataFrame</span></div><div style = \"clear: both;\"></div></div><div class = \"data-frame\" style = \"overflow-x: scroll;\"><table class = \"data-frame\" style = \"margin-bottom: 6px;\"><thead><tr class = \"header\"><th class = \"rowNumber\" style = \"font-weight: bold; text-align: right;\">Row</th><th style = \"text-align: left;\">tickers</th><th style = \"text-align: left;\">weights</th></tr><tr class = \"subheader headerLastRow\"><th class = \"rowNumber\" style = \"font-weight: bold; text-align: right;\"></th><th title = \"Int64\" style = \"text-align: left;\">Int64</th><th title = \"Float64\" style = \"text-align: left;\">Float64</th></tr></thead><tbody><tr><td class = \"rowNumber\" style = \"font-weight: bold; text-align: right;\">1</td><td style = \"text-align: right;\">1</td><td style = \"text-align: right;\">0.029713</td></tr><tr><td class = \"rowNumber\" style = \"font-weight: bold; text-align: right;\">2</td><td style = \"text-align: right;\">2</td><td style = \"text-align: right;\">0.0247062</td></tr><tr><td class = \"rowNumber\" style = \"font-weight: bold; text-align: right;\">3</td><td style = \"text-align: right;\">3</td><td style = \"text-align: right;\">0.513805</td></tr><tr><td class = \"rowNumber\" style = \"font-weight: bold; text-align: right;\">4</td><td style = \"text-align: right;\">4</td><td style = \"text-align: right;\">2.2412e-9</td></tr><tr><td class = \"rowNumber\" style = \"font-weight: bold; text-align: right;\">5</td><td style = \"text-align: right;\">5</td><td style = \"text-align: right;\">0.431776</td></tr></tbody></table></div>"
      ]
     },
     "metadata": {},
     "execution_count": 97
    }
   ],
   "cell_type": "code",
   "source": [
    "w1 = optimise!(port, Trad(; rm = rm, str_names = true))"
   ],
   "metadata": {},
   "execution_count": 97
  },
  {
   "cell_type": "markdown",
   "source": [
    "Compute second lower partial moment."
   ],
   "metadata": {}
  },
  {
   "outputs": [
    {
     "output_type": "execute_result",
     "data": {
      "text/plain": "0.18612605973579038"
     },
     "metadata": {},
     "execution_count": 98
    }
   ],
   "cell_type": "code",
   "source": [
    "r1 = calc_risk(port; rm = rm)"
   ],
   "metadata": {},
   "execution_count": 98
  },
  {
   "cell_type": "markdown",
   "source": [
    "Values are consistent."
   ],
   "metadata": {}
  },
  {
   "outputs": [
    {
     "output_type": "execute_result",
     "data": {
      "text/plain": "true"
     },
     "metadata": {},
     "execution_count": 99
    }
   ],
   "cell_type": "code",
   "source": [
    "isapprox(r1, value(port.model[:slpm_risk]))"
   ],
   "metadata": {},
   "execution_count": 99
  },
  {
   "cell_type": "markdown",
   "source": [
    "Second lower partial moment with a returns threshold equal to `Inf` will use `rm.mu` (which in this case is zero) in optimisations using [`JuMP`](https://github.com/jump-dev/JuMP.jl) models, and compute the mean of the returns vector when used in the functor."
   ],
   "metadata": {}
  },
  {
   "outputs": [
    {
     "output_type": "execute_result",
     "data": {
      "text/plain": "SLPM{Float64}(RMSettings{Float64, Float64}(true, 1.0, Inf), Inf, nothing, 0.0)"
     },
     "metadata": {},
     "execution_count": 100
    }
   ],
   "cell_type": "code",
   "source": [
    "rm = SLPM(; target = Inf)"
   ],
   "metadata": {},
   "execution_count": 100
  },
  {
   "cell_type": "markdown",
   "source": [
    "Optimise portfolio using the second lower partial moment with a return threshold that includes all returns."
   ],
   "metadata": {}
  },
  {
   "outputs": [
    {
     "output_type": "execute_result",
     "data": {
      "text/plain": "\u001b[1m5×2 DataFrame\u001b[0m\n\u001b[1m Row \u001b[0m│\u001b[1m tickers \u001b[0m\u001b[1m weights   \u001b[0m\n     │\u001b[90m Int64   \u001b[0m\u001b[90m Float64   \u001b[0m\n─────┼────────────────────\n   1 │       1  0.029713\n   2 │       2  0.0247062\n   3 │       3  0.513805\n   4 │       4  2.2412e-9\n   5 │       5  0.431776",
      "text/html": [
       "<div><div style = \"float: left;\"><span>5×2 DataFrame</span></div><div style = \"clear: both;\"></div></div><div class = \"data-frame\" style = \"overflow-x: scroll;\"><table class = \"data-frame\" style = \"margin-bottom: 6px;\"><thead><tr class = \"header\"><th class = \"rowNumber\" style = \"font-weight: bold; text-align: right;\">Row</th><th style = \"text-align: left;\">tickers</th><th style = \"text-align: left;\">weights</th></tr><tr class = \"subheader headerLastRow\"><th class = \"rowNumber\" style = \"font-weight: bold; text-align: right;\"></th><th title = \"Int64\" style = \"text-align: left;\">Int64</th><th title = \"Float64\" style = \"text-align: left;\">Float64</th></tr></thead><tbody><tr><td class = \"rowNumber\" style = \"font-weight: bold; text-align: right;\">1</td><td style = \"text-align: right;\">1</td><td style = \"text-align: right;\">0.029713</td></tr><tr><td class = \"rowNumber\" style = \"font-weight: bold; text-align: right;\">2</td><td style = \"text-align: right;\">2</td><td style = \"text-align: right;\">0.0247062</td></tr><tr><td class = \"rowNumber\" style = \"font-weight: bold; text-align: right;\">3</td><td style = \"text-align: right;\">3</td><td style = \"text-align: right;\">0.513805</td></tr><tr><td class = \"rowNumber\" style = \"font-weight: bold; text-align: right;\">4</td><td style = \"text-align: right;\">4</td><td style = \"text-align: right;\">2.2412e-9</td></tr><tr><td class = \"rowNumber\" style = \"font-weight: bold; text-align: right;\">5</td><td style = \"text-align: right;\">5</td><td style = \"text-align: right;\">0.431776</td></tr></tbody></table></div>"
      ]
     },
     "metadata": {},
     "execution_count": 101
    }
   ],
   "cell_type": "code",
   "source": [
    "w2 = optimise!(port, Trad(; obj = MinRisk(), rm = rm, str_names = true))"
   ],
   "metadata": {},
   "execution_count": 101
  },
  {
   "cell_type": "markdown",
   "source": [
    "The risks do not match. This is because when using the functor, `mu` has no effect, and if `isinf(target)`, it will be set to the expected value of the returns vector. Whereas `PortfolioOptimiser.set_rm` took the value to be `target = range(; start = mu, stop = mu, length = N)`, where `N` is the number of assets, and `mu == 0` in this case."
   ],
   "metadata": {}
  },
  {
   "outputs": [
    {
     "output_type": "execute_result",
     "data": {
      "text/plain": "0.26046332250133397"
     },
     "metadata": {},
     "execution_count": 102
    }
   ],
   "cell_type": "code",
   "source": [
    "r2_1 = calc_risk(port; rm = rm)"
   ],
   "metadata": {},
   "execution_count": 102
  },
  {
   "outputs": [
    {
     "output_type": "execute_result",
     "data": {
      "text/plain": "0.18612606036834833"
     },
     "metadata": {},
     "execution_count": 103
    }
   ],
   "cell_type": "code",
   "source": [
    "r2_2 = value(port.model[:slpm_risk])"
   ],
   "metadata": {},
   "execution_count": 103
  },
  {
   "cell_type": "markdown",
   "source": [
    "If we set `rm.target = 0`, then `calc_risk` will compute the correct risk."
   ],
   "metadata": {}
  },
  {
   "outputs": [
    {
     "output_type": "execute_result",
     "data": {
      "text/plain": "true"
     },
     "metadata": {},
     "execution_count": 104
    }
   ],
   "cell_type": "code",
   "source": [
    "rm.target = 0\n",
    "isapprox(r2_2, calc_risk(port; rm = rm))"
   ],
   "metadata": {},
   "execution_count": 104
  },
  {
   "cell_type": "markdown",
   "source": [
    "Second lower partial moment with a returns threshold equal to `Inf`, will use `port.mu`in optimisations using [`JuMP`](https://github.com/jump-dev/JuMP.jl) models, and compute the mean of the returns vector when used in the functor."
   ],
   "metadata": {}
  },
  {
   "outputs": [
    {
     "output_type": "execute_result",
     "data": {
      "text/plain": "SLPM{Float64}(RMSettings{Float64, Float64}(true, 1.0, Inf), Inf, nothing, Inf)"
     },
     "metadata": {},
     "execution_count": 105
    }
   ],
   "cell_type": "code",
   "source": [
    "rm = SLPM(; target = Inf, mu = Inf)"
   ],
   "metadata": {},
   "execution_count": 105
  },
  {
   "cell_type": "markdown",
   "source": [
    "Value are approximately equal."
   ],
   "metadata": {}
  },
  {
   "outputs": [
    {
     "output_type": "execute_result",
     "data": {
      "text/plain": "\u001b[1m5×2 DataFrame\u001b[0m\n\u001b[1m Row \u001b[0m│\u001b[1m tickers \u001b[0m\u001b[1m weights     \u001b[0m\n     │\u001b[90m Int64   \u001b[0m\u001b[90m Float64     \u001b[0m\n─────┼──────────────────────\n   1 │       1  3.98611e-11\n   2 │       2  9.51975e-11\n   3 │       3  0.498067\n   4 │       4  8.01089e-10\n   5 │       5  0.501933",
      "text/html": [
       "<div><div style = \"float: left;\"><span>5×2 DataFrame</span></div><div style = \"clear: both;\"></div></div><div class = \"data-frame\" style = \"overflow-x: scroll;\"><table class = \"data-frame\" style = \"margin-bottom: 6px;\"><thead><tr class = \"header\"><th class = \"rowNumber\" style = \"font-weight: bold; text-align: right;\">Row</th><th style = \"text-align: left;\">tickers</th><th style = \"text-align: left;\">weights</th></tr><tr class = \"subheader headerLastRow\"><th class = \"rowNumber\" style = \"font-weight: bold; text-align: right;\"></th><th title = \"Int64\" style = \"text-align: left;\">Int64</th><th title = \"Float64\" style = \"text-align: left;\">Float64</th></tr></thead><tbody><tr><td class = \"rowNumber\" style = \"font-weight: bold; text-align: right;\">1</td><td style = \"text-align: right;\">1</td><td style = \"text-align: right;\">3.98611e-11</td></tr><tr><td class = \"rowNumber\" style = \"font-weight: bold; text-align: right;\">2</td><td style = \"text-align: right;\">2</td><td style = \"text-align: right;\">9.51975e-11</td></tr><tr><td class = \"rowNumber\" style = \"font-weight: bold; text-align: right;\">3</td><td style = \"text-align: right;\">3</td><td style = \"text-align: right;\">0.498067</td></tr><tr><td class = \"rowNumber\" style = \"font-weight: bold; text-align: right;\">4</td><td style = \"text-align: right;\">4</td><td style = \"text-align: right;\">8.01089e-10</td></tr><tr><td class = \"rowNumber\" style = \"font-weight: bold; text-align: right;\">5</td><td style = \"text-align: right;\">5</td><td style = \"text-align: right;\">0.501933</td></tr></tbody></table></div>"
      ]
     },
     "metadata": {},
     "execution_count": 106
    }
   ],
   "cell_type": "code",
   "source": [
    "w3 = optimise!(port, Trad(; obj = MinRisk(), rm = rm, str_names = true))"
   ],
   "metadata": {},
   "execution_count": 106
  },
  {
   "cell_type": "markdown",
   "source": [
    "Exponential weights."
   ],
   "metadata": {}
  },
  {
   "outputs": [
    {
     "output_type": "execute_result",
     "data": {
      "text/plain": "10-element Weights{Float64, Float64, Vector{Float64}}:\n 0.13421772800000006\n 0.1677721600000001\n 0.20971520000000007\n 0.2621440000000001\n 0.3276800000000001\n 0.4096000000000001\n 0.5120000000000001\n 0.6400000000000001\n 0.8\n 1.0"
     },
     "metadata": {},
     "execution_count": 107
    }
   ],
   "cell_type": "code",
   "source": [
    "ew = eweights(1:size(ret, 1), 0.2; scale = true)"
   ],
   "metadata": {},
   "execution_count": 107
  },
  {
   "cell_type": "markdown",
   "source": [
    "Compute asset statistics, use `ew` in the `Trad` optimisation. This makes it consistent with the risk measure."
   ],
   "metadata": {}
  },
  {
   "outputs": [],
   "cell_type": "code",
   "source": [
    "asset_statistics!(port; mu_type = MuSimple(; w = ew))"
   ],
   "metadata": {},
   "execution_count": 108
  },
  {
   "cell_type": "markdown",
   "source": [
    "Second lower partial moment with exponential weights. `w` has no effect in the following optimisation, so we account for it in the computation of `port.mu` above."
   ],
   "metadata": {}
  },
  {
   "outputs": [
    {
     "output_type": "execute_result",
     "data": {
      "text/plain": "SLPM{Float64}(RMSettings{Float64, Float64}(true, 1.0, Inf), 0.0, [0.13421772800000006, 0.1677721600000001, 0.20971520000000007, 0.2621440000000001, 0.3276800000000001, 0.4096000000000001, 0.5120000000000001, 0.6400000000000001, 0.8, 1.0], 0.0)"
     },
     "metadata": {},
     "execution_count": 109
    }
   ],
   "cell_type": "code",
   "source": [
    "rm = SLPM(; w = ew)"
   ],
   "metadata": {},
   "execution_count": 109
  },
  {
   "cell_type": "markdown",
   "source": [
    "Optimise using the exponential weight."
   ],
   "metadata": {}
  },
  {
   "outputs": [
    {
     "output_type": "execute_result",
     "data": {
      "text/plain": "\u001b[1m5×2 DataFrame\u001b[0m\n\u001b[1m Row \u001b[0m│\u001b[1m tickers \u001b[0m\u001b[1m weights   \u001b[0m\n     │\u001b[90m Int64   \u001b[0m\u001b[90m Float64   \u001b[0m\n─────┼────────────────────\n   1 │       1  0.029713\n   2 │       2  0.0247062\n   3 │       3  0.513805\n   4 │       4  2.2412e-9\n   5 │       5  0.431776",
      "text/html": [
       "<div><div style = \"float: left;\"><span>5×2 DataFrame</span></div><div style = \"clear: both;\"></div></div><div class = \"data-frame\" style = \"overflow-x: scroll;\"><table class = \"data-frame\" style = \"margin-bottom: 6px;\"><thead><tr class = \"header\"><th class = \"rowNumber\" style = \"font-weight: bold; text-align: right;\">Row</th><th style = \"text-align: left;\">tickers</th><th style = \"text-align: left;\">weights</th></tr><tr class = \"subheader headerLastRow\"><th class = \"rowNumber\" style = \"font-weight: bold; text-align: right;\"></th><th title = \"Int64\" style = \"text-align: left;\">Int64</th><th title = \"Float64\" style = \"text-align: left;\">Float64</th></tr></thead><tbody><tr><td class = \"rowNumber\" style = \"font-weight: bold; text-align: right;\">1</td><td style = \"text-align: right;\">1</td><td style = \"text-align: right;\">0.029713</td></tr><tr><td class = \"rowNumber\" style = \"font-weight: bold; text-align: right;\">2</td><td style = \"text-align: right;\">2</td><td style = \"text-align: right;\">0.0247062</td></tr><tr><td class = \"rowNumber\" style = \"font-weight: bold; text-align: right;\">3</td><td style = \"text-align: right;\">3</td><td style = \"text-align: right;\">0.513805</td></tr><tr><td class = \"rowNumber\" style = \"font-weight: bold; text-align: right;\">4</td><td style = \"text-align: right;\">4</td><td style = \"text-align: right;\">2.2412e-9</td></tr><tr><td class = \"rowNumber\" style = \"font-weight: bold; text-align: right;\">5</td><td style = \"text-align: right;\">5</td><td style = \"text-align: right;\">0.431776</td></tr></tbody></table></div>"
      ]
     },
     "metadata": {},
     "execution_count": 110
    }
   ],
   "cell_type": "code",
   "source": [
    "w4 = optimise!(port, Trad(; rm = rm, str_names = true))"
   ],
   "metadata": {},
   "execution_count": 110
  },
  {
   "cell_type": "markdown",
   "source": [
    "Since we used the same exponential weights to compute `port.mu` and passed it on to the functor, the risk computed by `calc_risk` will be consistent with the value in the `JuMP` model."
   ],
   "metadata": {}
  },
  {
   "outputs": [
    {
     "output_type": "execute_result",
     "data": {
      "text/plain": "0.18612605973579038"
     },
     "metadata": {},
     "execution_count": 111
    }
   ],
   "cell_type": "code",
   "source": [
    "r4 = calc_risk(port; rm = rm)"
   ],
   "metadata": {},
   "execution_count": 111
  },
  {
   "cell_type": "markdown",
   "source": [
    "Check they are approximately equal."
   ],
   "metadata": {}
  },
  {
   "outputs": [
    {
     "output_type": "execute_result",
     "data": {
      "text/plain": "true"
     },
     "metadata": {},
     "execution_count": 112
    }
   ],
   "cell_type": "code",
   "source": [
    "isapprox(r4, value(port.model[:slpm_risk]))"
   ],
   "metadata": {},
   "execution_count": 112
  },
  {
   "cell_type": "markdown",
   "source": [
    "Custom mu (added some random noise)."
   ],
   "metadata": {}
  },
  {
   "outputs": [
    {
     "output_type": "execute_result",
     "data": {
      "text/plain": "SLPM{Float64}(RMSettings{Float64, Float64}(true, 1.0, Inf), 0.0, nothing, [0.7125701109145426, 0.5954846163775541, -0.15751039974810838, 0.21715419988378104, 0.5953722438974804])"
     },
     "metadata": {},
     "execution_count": 113
    }
   ],
   "cell_type": "code",
   "source": [
    "custom_mu = port.mu + [-0.0025545471368230766, -0.0047554044723918795, 0.010574122455999866,\n",
    "                       0.0021521845052968917, -0.004417767086053032]\n",
    "rm = SLPM(; mu = custom_mu)"
   ],
   "metadata": {},
   "execution_count": 113
  },
  {
   "cell_type": "markdown",
   "source": [
    "Optimise portfolio using this custom mu."
   ],
   "metadata": {}
  },
  {
   "outputs": [
    {
     "output_type": "execute_result",
     "data": {
      "text/plain": "\u001b[1m5×2 DataFrame\u001b[0m\n\u001b[1m Row \u001b[0m│\u001b[1m tickers \u001b[0m\u001b[1m weights     \u001b[0m\n     │\u001b[90m Int64   \u001b[0m\u001b[90m Float64     \u001b[0m\n─────┼──────────────────────\n   1 │       1  1.69283e-8\n   2 │       2  3.85731e-10\n   3 │       3  0.805951\n   4 │       4  0.00282056\n   5 │       5  0.191229",
      "text/html": [
       "<div><div style = \"float: left;\"><span>5×2 DataFrame</span></div><div style = \"clear: both;\"></div></div><div class = \"data-frame\" style = \"overflow-x: scroll;\"><table class = \"data-frame\" style = \"margin-bottom: 6px;\"><thead><tr class = \"header\"><th class = \"rowNumber\" style = \"font-weight: bold; text-align: right;\">Row</th><th style = \"text-align: left;\">tickers</th><th style = \"text-align: left;\">weights</th></tr><tr class = \"subheader headerLastRow\"><th class = \"rowNumber\" style = \"font-weight: bold; text-align: right;\"></th><th title = \"Int64\" style = \"text-align: left;\">Int64</th><th title = \"Float64\" style = \"text-align: left;\">Float64</th></tr></thead><tbody><tr><td class = \"rowNumber\" style = \"font-weight: bold; text-align: right;\">1</td><td style = \"text-align: right;\">1</td><td style = \"text-align: right;\">1.69283e-8</td></tr><tr><td class = \"rowNumber\" style = \"font-weight: bold; text-align: right;\">2</td><td style = \"text-align: right;\">2</td><td style = \"text-align: right;\">3.85731e-10</td></tr><tr><td class = \"rowNumber\" style = \"font-weight: bold; text-align: right;\">3</td><td style = \"text-align: right;\">3</td><td style = \"text-align: right;\">0.805951</td></tr><tr><td class = \"rowNumber\" style = \"font-weight: bold; text-align: right;\">4</td><td style = \"text-align: right;\">4</td><td style = \"text-align: right;\">0.00282056</td></tr><tr><td class = \"rowNumber\" style = \"font-weight: bold; text-align: right;\">5</td><td style = \"text-align: right;\">5</td><td style = \"text-align: right;\">0.191229</td></tr></tbody></table></div>"
      ]
     },
     "metadata": {},
     "execution_count": 114
    }
   ],
   "cell_type": "code",
   "source": [
    "w5 = optimise!(port, Trad(; rm = rm, str_names = true))"
   ],
   "metadata": {},
   "execution_count": 114
  },
  {
   "cell_type": "markdown",
   "source": [
    "Values don't match because the mean return is computed from the portfolio weights and returns matrix."
   ],
   "metadata": {}
  },
  {
   "outputs": [
    {
     "output_type": "execute_result",
     "data": {
      "text/plain": "0.2578210994835851"
     },
     "metadata": {},
     "execution_count": 115
    }
   ],
   "cell_type": "code",
   "source": [
    "r5_1 = calc_risk(port; rm = rm)"
   ],
   "metadata": {},
   "execution_count": 115
  },
  {
   "outputs": [
    {
     "output_type": "execute_result",
     "data": {
      "text/plain": "0.24896211021424786"
     },
     "metadata": {},
     "execution_count": 116
    }
   ],
   "cell_type": "code",
   "source": [
    "r5_2 = value(port.model[:slpm_risk])"
   ],
   "metadata": {},
   "execution_count": 116
  },
  {
   "cell_type": "markdown",
   "source": [
    "Vanilla second lower partial moment."
   ],
   "metadata": {}
  },
  {
   "outputs": [
    {
     "output_type": "execute_result",
     "data": {
      "text/plain": "SLPM{Float64}(RMSettings{Float64, Float64}(true, 1.0, Inf), 0.0, nothing, 0.0)"
     },
     "metadata": {},
     "execution_count": 117
    }
   ],
   "cell_type": "code",
   "source": [
    "rm = SLPM()"
   ],
   "metadata": {},
   "execution_count": 117
  },
  {
   "cell_type": "markdown",
   "source": [
    "Hierarchical optimisation, no JuMP model."
   ],
   "metadata": {}
  },
  {
   "outputs": [
    {
     "output_type": "execute_result",
     "data": {
      "text/plain": "\u001b[1m5×2 DataFrame\u001b[0m\n\u001b[1m Row \u001b[0m│\u001b[1m tickers \u001b[0m\u001b[1m weights   \u001b[0m\n     │\u001b[90m Int64   \u001b[0m\u001b[90m Float64   \u001b[0m\n─────┼────────────────────\n   1 │       1  0.208317\n   2 │       2  0.266106\n   3 │       3  0.212304\n   4 │       4  0.0917449\n   5 │       5  0.221529",
      "text/html": [
       "<div><div style = \"float: left;\"><span>5×2 DataFrame</span></div><div style = \"clear: both;\"></div></div><div class = \"data-frame\" style = \"overflow-x: scroll;\"><table class = \"data-frame\" style = \"margin-bottom: 6px;\"><thead><tr class = \"header\"><th class = \"rowNumber\" style = \"font-weight: bold; text-align: right;\">Row</th><th style = \"text-align: left;\">tickers</th><th style = \"text-align: left;\">weights</th></tr><tr class = \"subheader headerLastRow\"><th class = \"rowNumber\" style = \"font-weight: bold; text-align: right;\"></th><th title = \"Int64\" style = \"text-align: left;\">Int64</th><th title = \"Float64\" style = \"text-align: left;\">Float64</th></tr></thead><tbody><tr><td class = \"rowNumber\" style = \"font-weight: bold; text-align: right;\">1</td><td style = \"text-align: right;\">1</td><td style = \"text-align: right;\">0.208317</td></tr><tr><td class = \"rowNumber\" style = \"font-weight: bold; text-align: right;\">2</td><td style = \"text-align: right;\">2</td><td style = \"text-align: right;\">0.266106</td></tr><tr><td class = \"rowNumber\" style = \"font-weight: bold; text-align: right;\">3</td><td style = \"text-align: right;\">3</td><td style = \"text-align: right;\">0.212304</td></tr><tr><td class = \"rowNumber\" style = \"font-weight: bold; text-align: right;\">4</td><td style = \"text-align: right;\">4</td><td style = \"text-align: right;\">0.0917449</td></tr><tr><td class = \"rowNumber\" style = \"font-weight: bold; text-align: right;\">5</td><td style = \"text-align: right;\">5</td><td style = \"text-align: right;\">0.221529</td></tr></tbody></table></div>"
      ]
     },
     "metadata": {},
     "execution_count": 118
    }
   ],
   "cell_type": "code",
   "source": [
    "w6 = optimise!(port, HRP(; rm = rm))"
   ],
   "metadata": {},
   "execution_count": 118
  },
  {
   "cell_type": "markdown",
   "source": [
    "Compute the second lower partial moment."
   ],
   "metadata": {}
  },
  {
   "outputs": [
    {
     "output_type": "execute_result",
     "data": {
      "text/plain": "0.39501582076391084"
     },
     "metadata": {},
     "execution_count": 119
    }
   ],
   "cell_type": "code",
   "source": [
    "r6 = calc_risk(port, :HRP; rm = rm)"
   ],
   "metadata": {},
   "execution_count": 119
  },
  {
   "cell_type": "markdown",
   "source": [
    "As a functor."
   ],
   "metadata": {}
  },
  {
   "outputs": [
    {
     "output_type": "execute_result",
     "data": {
      "text/plain": "true"
     },
     "metadata": {},
     "execution_count": 120
    }
   ],
   "cell_type": "code",
   "source": [
    "r6 == rm(port.returns * w6.weights)"
   ],
   "metadata": {},
   "execution_count": 120
  },
  {
   "cell_type": "markdown",
   "source": [
    "Custom mu has no effect in the following optimisation."
   ],
   "metadata": {}
  },
  {
   "outputs": [
    {
     "output_type": "execute_result",
     "data": {
      "text/plain": "SLPM{Float64}(RMSettings{Float64, Float64}(true, 1.0, Inf), 0.0, nothing, [0.7125701109145426, 0.5954846163775541, -0.15751039974810838, 0.21715419988378104, 0.5953722438974804])"
     },
     "metadata": {},
     "execution_count": 121
    }
   ],
   "cell_type": "code",
   "source": [
    "rm = SLPM(; mu = custom_mu)"
   ],
   "metadata": {},
   "execution_count": 121
  },
  {
   "cell_type": "markdown",
   "source": [
    "Hierarchical optimisation, no JuMP model."
   ],
   "metadata": {}
  },
  {
   "outputs": [
    {
     "output_type": "execute_result",
     "data": {
      "text/plain": "true"
     },
     "metadata": {},
     "execution_count": 122
    }
   ],
   "cell_type": "code",
   "source": [
    "w7 = optimise!(port, HRP(; rm = rm))\n",
    "w6.weights == w7.weights # true"
   ],
   "metadata": {},
   "execution_count": 122
  },
  {
   "cell_type": "markdown",
   "source": [
    "If we set `target = Inf`, the target will be the return vector's expected value computed with the weights."
   ],
   "metadata": {}
  },
  {
   "outputs": [
    {
     "output_type": "execute_result",
     "data": {
      "text/plain": "SLPM{Float64}(RMSettings{Float64, Float64}(true, 1.0, Inf), Inf, [0.13421772800000006, 0.1677721600000001, 0.20971520000000007, 0.2621440000000001, 0.3276800000000001, 0.4096000000000001, 0.5120000000000001, 0.6400000000000001, 0.8, 1.0], 0.0)"
     },
     "metadata": {},
     "execution_count": 123
    }
   ],
   "cell_type": "code",
   "source": [
    "rm = SLPM(; target = Inf, w = ew)"
   ],
   "metadata": {},
   "execution_count": 123
  },
  {
   "cell_type": "markdown",
   "source": [
    "Hierarchical optimisation, no JuMP model."
   ],
   "metadata": {}
  },
  {
   "outputs": [
    {
     "output_type": "execute_result",
     "data": {
      "text/plain": "\u001b[1m5×2 DataFrame\u001b[0m\n\u001b[1m Row \u001b[0m│\u001b[1m tickers \u001b[0m\u001b[1m weights  \u001b[0m\n     │\u001b[90m Int64   \u001b[0m\u001b[90m Float64  \u001b[0m\n─────┼───────────────────\n   1 │       1  0.152888\n   2 │       2  0.198178\n   3 │       3  0.391641\n   4 │       4  0.107353\n   5 │       5  0.149941",
      "text/html": [
       "<div><div style = \"float: left;\"><span>5×2 DataFrame</span></div><div style = \"clear: both;\"></div></div><div class = \"data-frame\" style = \"overflow-x: scroll;\"><table class = \"data-frame\" style = \"margin-bottom: 6px;\"><thead><tr class = \"header\"><th class = \"rowNumber\" style = \"font-weight: bold; text-align: right;\">Row</th><th style = \"text-align: left;\">tickers</th><th style = \"text-align: left;\">weights</th></tr><tr class = \"subheader headerLastRow\"><th class = \"rowNumber\" style = \"font-weight: bold; text-align: right;\"></th><th title = \"Int64\" style = \"text-align: left;\">Int64</th><th title = \"Float64\" style = \"text-align: left;\">Float64</th></tr></thead><tbody><tr><td class = \"rowNumber\" style = \"font-weight: bold; text-align: right;\">1</td><td style = \"text-align: right;\">1</td><td style = \"text-align: right;\">0.152888</td></tr><tr><td class = \"rowNumber\" style = \"font-weight: bold; text-align: right;\">2</td><td style = \"text-align: right;\">2</td><td style = \"text-align: right;\">0.198178</td></tr><tr><td class = \"rowNumber\" style = \"font-weight: bold; text-align: right;\">3</td><td style = \"text-align: right;\">3</td><td style = \"text-align: right;\">0.391641</td></tr><tr><td class = \"rowNumber\" style = \"font-weight: bold; text-align: right;\">4</td><td style = \"text-align: right;\">4</td><td style = \"text-align: right;\">0.107353</td></tr><tr><td class = \"rowNumber\" style = \"font-weight: bold; text-align: right;\">5</td><td style = \"text-align: right;\">5</td><td style = \"text-align: right;\">0.149941</td></tr></tbody></table></div>"
      ]
     },
     "metadata": {},
     "execution_count": 124
    }
   ],
   "cell_type": "code",
   "source": [
    "w8 = optimise!(port, HRP(; rm = rm))"
   ],
   "metadata": {},
   "execution_count": 124
  },
  {
   "cell_type": "markdown",
   "source": [
    "Compute the second lower partial moment."
   ],
   "metadata": {}
  },
  {
   "outputs": [
    {
     "output_type": "execute_result",
     "data": {
      "text/plain": "0.46579700495675935"
     },
     "metadata": {},
     "execution_count": 125
    }
   ],
   "cell_type": "code",
   "source": [
    "r8 = calc_risk(port, :HRP; rm = rm)"
   ],
   "metadata": {},
   "execution_count": 125
  },
  {
   "cell_type": "markdown",
   "source": [
    "# Worst Realisation, `WR`"
   ],
   "metadata": {}
  },
  {
   "cell_type": "markdown",
   "source": [
    "Recompute asset statistics."
   ],
   "metadata": {}
  },
  {
   "outputs": [],
   "cell_type": "code",
   "source": [
    "asset_statistics!(port)"
   ],
   "metadata": {},
   "execution_count": 126
  },
  {
   "cell_type": "markdown",
   "source": [
    "Worst Realisation."
   ],
   "metadata": {}
  },
  {
   "outputs": [
    {
     "output_type": "execute_result",
     "data": {
      "text/plain": "WR(RMSettings{Float64, Float64}(true, 1.0, Inf))"
     },
     "metadata": {},
     "execution_count": 127
    }
   ],
   "cell_type": "code",
   "source": [
    "rm = WR()"
   ],
   "metadata": {},
   "execution_count": 127
  },
  {
   "cell_type": "markdown",
   "source": [
    "Optimise portfolio."
   ],
   "metadata": {}
  },
  {
   "outputs": [
    {
     "output_type": "execute_result",
     "data": {
      "text/plain": "\u001b[1m5×2 DataFrame\u001b[0m\n\u001b[1m Row \u001b[0m│\u001b[1m tickers \u001b[0m\u001b[1m weights     \u001b[0m\n     │\u001b[90m Int64   \u001b[0m\u001b[90m Float64     \u001b[0m\n─────┼──────────────────────\n   1 │       1  1.01823e-11\n   2 │       2  5.08671e-11\n   3 │       3  0.432177\n   4 │       4  1.88254e-11\n   5 │       5  0.567823",
      "text/html": [
       "<div><div style = \"float: left;\"><span>5×2 DataFrame</span></div><div style = \"clear: both;\"></div></div><div class = \"data-frame\" style = \"overflow-x: scroll;\"><table class = \"data-frame\" style = \"margin-bottom: 6px;\"><thead><tr class = \"header\"><th class = \"rowNumber\" style = \"font-weight: bold; text-align: right;\">Row</th><th style = \"text-align: left;\">tickers</th><th style = \"text-align: left;\">weights</th></tr><tr class = \"subheader headerLastRow\"><th class = \"rowNumber\" style = \"font-weight: bold; text-align: right;\"></th><th title = \"Int64\" style = \"text-align: left;\">Int64</th><th title = \"Float64\" style = \"text-align: left;\">Float64</th></tr></thead><tbody><tr><td class = \"rowNumber\" style = \"font-weight: bold; text-align: right;\">1</td><td style = \"text-align: right;\">1</td><td style = \"text-align: right;\">1.01823e-11</td></tr><tr><td class = \"rowNumber\" style = \"font-weight: bold; text-align: right;\">2</td><td style = \"text-align: right;\">2</td><td style = \"text-align: right;\">5.08671e-11</td></tr><tr><td class = \"rowNumber\" style = \"font-weight: bold; text-align: right;\">3</td><td style = \"text-align: right;\">3</td><td style = \"text-align: right;\">0.432177</td></tr><tr><td class = \"rowNumber\" style = \"font-weight: bold; text-align: right;\">4</td><td style = \"text-align: right;\">4</td><td style = \"text-align: right;\">1.88254e-11</td></tr><tr><td class = \"rowNumber\" style = \"font-weight: bold; text-align: right;\">5</td><td style = \"text-align: right;\">5</td><td style = \"text-align: right;\">0.567823</td></tr></tbody></table></div>"
      ]
     },
     "metadata": {},
     "execution_count": 128
    }
   ],
   "cell_type": "code",
   "source": [
    "w1 = optimise!(port, Trad(; rm = rm, str_names = true))"
   ],
   "metadata": {},
   "execution_count": 128
  },
  {
   "cell_type": "markdown",
   "source": [
    "Compute the worst realisation."
   ],
   "metadata": {}
  },
  {
   "outputs": [
    {
     "output_type": "execute_result",
     "data": {
      "text/plain": "0.3353112333705662"
     },
     "metadata": {},
     "execution_count": 129
    }
   ],
   "cell_type": "code",
   "source": [
    "r1 = calc_risk(port; rm = rm)"
   ],
   "metadata": {},
   "execution_count": 129
  },
  {
   "cell_type": "markdown",
   "source": [
    "Values are consistent."
   ],
   "metadata": {}
  },
  {
   "outputs": [
    {
     "output_type": "execute_result",
     "data": {
      "text/plain": "true"
     },
     "metadata": {},
     "execution_count": 130
    }
   ],
   "cell_type": "code",
   "source": [
    "isapprox(r1, value(port.model[:wr_risk]))"
   ],
   "metadata": {},
   "execution_count": 130
  },
  {
   "cell_type": "markdown",
   "source": [
    "Hierarchical optimisation, no JuMP model."
   ],
   "metadata": {}
  },
  {
   "outputs": [
    {
     "output_type": "execute_result",
     "data": {
      "text/plain": "\u001b[1m5×2 DataFrame\u001b[0m\n\u001b[1m Row \u001b[0m│\u001b[1m tickers \u001b[0m\u001b[1m weights   \u001b[0m\n     │\u001b[90m Int64   \u001b[0m\u001b[90m Float64   \u001b[0m\n─────┼────────────────────\n   1 │       1  0.179856\n   2 │       2  0.251612\n   3 │       3  0.269012\n   4 │       4  0.0620356\n   5 │       5  0.237484",
      "text/html": [
       "<div><div style = \"float: left;\"><span>5×2 DataFrame</span></div><div style = \"clear: both;\"></div></div><div class = \"data-frame\" style = \"overflow-x: scroll;\"><table class = \"data-frame\" style = \"margin-bottom: 6px;\"><thead><tr class = \"header\"><th class = \"rowNumber\" style = \"font-weight: bold; text-align: right;\">Row</th><th style = \"text-align: left;\">tickers</th><th style = \"text-align: left;\">weights</th></tr><tr class = \"subheader headerLastRow\"><th class = \"rowNumber\" style = \"font-weight: bold; text-align: right;\"></th><th title = \"Int64\" style = \"text-align: left;\">Int64</th><th title = \"Float64\" style = \"text-align: left;\">Float64</th></tr></thead><tbody><tr><td class = \"rowNumber\" style = \"font-weight: bold; text-align: right;\">1</td><td style = \"text-align: right;\">1</td><td style = \"text-align: right;\">0.179856</td></tr><tr><td class = \"rowNumber\" style = \"font-weight: bold; text-align: right;\">2</td><td style = \"text-align: right;\">2</td><td style = \"text-align: right;\">0.251612</td></tr><tr><td class = \"rowNumber\" style = \"font-weight: bold; text-align: right;\">3</td><td style = \"text-align: right;\">3</td><td style = \"text-align: right;\">0.269012</td></tr><tr><td class = \"rowNumber\" style = \"font-weight: bold; text-align: right;\">4</td><td style = \"text-align: right;\">4</td><td style = \"text-align: right;\">0.0620356</td></tr><tr><td class = \"rowNumber\" style = \"font-weight: bold; text-align: right;\">5</td><td style = \"text-align: right;\">5</td><td style = \"text-align: right;\">0.237484</td></tr></tbody></table></div>"
      ]
     },
     "metadata": {},
     "execution_count": 131
    }
   ],
   "cell_type": "code",
   "source": [
    "w2 = optimise!(port, HRP(; rm = rm))"
   ],
   "metadata": {},
   "execution_count": 131
  },
  {
   "cell_type": "markdown",
   "source": [
    "Compute the worst realisation."
   ],
   "metadata": {}
  },
  {
   "outputs": [
    {
     "output_type": "execute_result",
     "data": {
      "text/plain": "0.9545750658848196"
     },
     "metadata": {},
     "execution_count": 132
    }
   ],
   "cell_type": "code",
   "source": [
    "r2 = calc_risk(port, :HRP; rm = rm)"
   ],
   "metadata": {},
   "execution_count": 132
  },
  {
   "cell_type": "markdown",
   "source": [
    "Use it in conjunction with another, less conservative risk measure."
   ],
   "metadata": {}
  },
  {
   "outputs": [
    {
     "output_type": "execute_result",
     "data": {
      "text/plain": "\u001b[1m5×2 DataFrame\u001b[0m\n\u001b[1m Row \u001b[0m│\u001b[1m tickers \u001b[0m\u001b[1m weights     \u001b[0m\n     │\u001b[90m Int64   \u001b[0m\u001b[90m Float64     \u001b[0m\n─────┼──────────────────────\n   1 │       1  3.20319e-10\n   2 │       2  5.48753e-9\n   3 │       3  0.535975\n   4 │       4  6.62746e-10\n   5 │       5  0.464025",
      "text/html": [
       "<div><div style = \"float: left;\"><span>5×2 DataFrame</span></div><div style = \"clear: both;\"></div></div><div class = \"data-frame\" style = \"overflow-x: scroll;\"><table class = \"data-frame\" style = \"margin-bottom: 6px;\"><thead><tr class = \"header\"><th class = \"rowNumber\" style = \"font-weight: bold; text-align: right;\">Row</th><th style = \"text-align: left;\">tickers</th><th style = \"text-align: left;\">weights</th></tr><tr class = \"subheader headerLastRow\"><th class = \"rowNumber\" style = \"font-weight: bold; text-align: right;\"></th><th title = \"Int64\" style = \"text-align: left;\">Int64</th><th title = \"Float64\" style = \"text-align: left;\">Float64</th></tr></thead><tbody><tr><td class = \"rowNumber\" style = \"font-weight: bold; text-align: right;\">1</td><td style = \"text-align: right;\">1</td><td style = \"text-align: right;\">3.20319e-10</td></tr><tr><td class = \"rowNumber\" style = \"font-weight: bold; text-align: right;\">2</td><td style = \"text-align: right;\">2</td><td style = \"text-align: right;\">5.48753e-9</td></tr><tr><td class = \"rowNumber\" style = \"font-weight: bold; text-align: right;\">3</td><td style = \"text-align: right;\">3</td><td style = \"text-align: right;\">0.535975</td></tr><tr><td class = \"rowNumber\" style = \"font-weight: bold; text-align: right;\">4</td><td style = \"text-align: right;\">4</td><td style = \"text-align: right;\">6.62746e-10</td></tr><tr><td class = \"rowNumber\" style = \"font-weight: bold; text-align: right;\">5</td><td style = \"text-align: right;\">5</td><td style = \"text-align: right;\">0.464025</td></tr></tbody></table></div>"
      ]
     },
     "metadata": {},
     "execution_count": 133
    }
   ],
   "cell_type": "code",
   "source": [
    "rm = [WR(; settings = RMSettings(; scale = 0.15)), Variance()]\n",
    "w3 = optimise!(port, Trad(; rm = rm, str_names = true))"
   ],
   "metadata": {},
   "execution_count": 133
  },
  {
   "cell_type": "markdown",
   "source": [
    "WR."
   ],
   "metadata": {}
  },
  {
   "outputs": [
    {
     "output_type": "execute_result",
     "data": {
      "text/plain": "0.3888545340695951"
     },
     "metadata": {},
     "execution_count": 134
    }
   ],
   "cell_type": "code",
   "source": [
    "r3_1 = calc_risk(port; rm = WR())"
   ],
   "metadata": {},
   "execution_count": 134
  },
  {
   "cell_type": "markdown",
   "source": [
    "Variance."
   ],
   "metadata": {}
  },
  {
   "outputs": [
    {
     "output_type": "execute_result",
     "data": {
      "text/plain": "0.1348006113596908"
     },
     "metadata": {},
     "execution_count": 135
    }
   ],
   "cell_type": "code",
   "source": [
    "r3_2 = calc_risk(port; rm = Variance())"
   ],
   "metadata": {},
   "execution_count": 135
  },
  {
   "cell_type": "markdown",
   "source": [
    "This portfolio is not optimal in either risk measure, but mixes their characteristics."
   ],
   "metadata": {}
  },
  {
   "outputs": [
    {
     "output_type": "execute_result",
     "data": {
      "text/plain": "\u001b[1m5×2 DataFrame\u001b[0m\n\u001b[1m Row \u001b[0m│\u001b[1m tickers \u001b[0m\u001b[1m weights    \u001b[0m\n     │\u001b[90m Int64   \u001b[0m\u001b[90m Float64    \u001b[0m\n─────┼─────────────────────\n   1 │       1  2.14218e-9\n   2 │       2  0.0183819\n   3 │       3  0.520499\n   4 │       4  0.0340462\n   5 │       5  0.427073",
      "text/html": [
       "<div><div style = \"float: left;\"><span>5×2 DataFrame</span></div><div style = \"clear: both;\"></div></div><div class = \"data-frame\" style = \"overflow-x: scroll;\"><table class = \"data-frame\" style = \"margin-bottom: 6px;\"><thead><tr class = \"header\"><th class = \"rowNumber\" style = \"font-weight: bold; text-align: right;\">Row</th><th style = \"text-align: left;\">tickers</th><th style = \"text-align: left;\">weights</th></tr><tr class = \"subheader headerLastRow\"><th class = \"rowNumber\" style = \"font-weight: bold; text-align: right;\"></th><th title = \"Int64\" style = \"text-align: left;\">Int64</th><th title = \"Float64\" style = \"text-align: left;\">Float64</th></tr></thead><tbody><tr><td class = \"rowNumber\" style = \"font-weight: bold; text-align: right;\">1</td><td style = \"text-align: right;\">1</td><td style = \"text-align: right;\">2.14218e-9</td></tr><tr><td class = \"rowNumber\" style = \"font-weight: bold; text-align: right;\">2</td><td style = \"text-align: right;\">2</td><td style = \"text-align: right;\">0.0183819</td></tr><tr><td class = \"rowNumber\" style = \"font-weight: bold; text-align: right;\">3</td><td style = \"text-align: right;\">3</td><td style = \"text-align: right;\">0.520499</td></tr><tr><td class = \"rowNumber\" style = \"font-weight: bold; text-align: right;\">4</td><td style = \"text-align: right;\">4</td><td style = \"text-align: right;\">0.0340462</td></tr><tr><td class = \"rowNumber\" style = \"font-weight: bold; text-align: right;\">5</td><td style = \"text-align: right;\">5</td><td style = \"text-align: right;\">0.427073</td></tr></tbody></table></div>"
      ]
     },
     "metadata": {},
     "execution_count": 136
    }
   ],
   "cell_type": "code",
   "source": [
    "w4 = optimise!(port, Trad(; rm = Variance(), str_names = true))"
   ],
   "metadata": {},
   "execution_count": 136
  },
  {
   "cell_type": "markdown",
   "source": [
    "Minimum variance portfolio."
   ],
   "metadata": {}
  },
  {
   "outputs": [
    {
     "output_type": "execute_result",
     "data": {
      "text/plain": "0.13051761827097458"
     },
     "metadata": {},
     "execution_count": 137
    }
   ],
   "cell_type": "code",
   "source": [
    "r4 = calc_risk(port; rm = Variance())"
   ],
   "metadata": {},
   "execution_count": 137
  },
  {
   "cell_type": "markdown",
   "source": [
    "WR of mixed portfolio is higher than the minimal worst realisation."
   ],
   "metadata": {}
  },
  {
   "outputs": [
    {
     "output_type": "execute_result",
     "data": {
      "text/plain": "true"
     },
     "metadata": {},
     "execution_count": 138
    }
   ],
   "cell_type": "code",
   "source": [
    "r3_1 > r1"
   ],
   "metadata": {},
   "execution_count": 138
  },
  {
   "cell_type": "markdown",
   "source": [
    "Variance of mixed portfolio is higher than the minimal worst realisation."
   ],
   "metadata": {}
  },
  {
   "outputs": [
    {
     "output_type": "execute_result",
     "data": {
      "text/plain": "true"
     },
     "metadata": {},
     "execution_count": 139
    }
   ],
   "cell_type": "code",
   "source": [
    "r3_2 > r4"
   ],
   "metadata": {},
   "execution_count": 139
  },
  {
   "cell_type": "markdown",
   "source": [
    "# Conditional Value at Risk, `CVaR`"
   ],
   "metadata": {}
  },
  {
   "cell_type": "markdown",
   "source": [
    "Recompute asset statistics."
   ],
   "metadata": {}
  },
  {
   "outputs": [],
   "cell_type": "code",
   "source": [
    "asset_statistics!(port)"
   ],
   "metadata": {},
   "execution_count": 140
  },
  {
   "cell_type": "markdown",
   "source": [
    "CVaR with default values."
   ],
   "metadata": {}
  },
  {
   "outputs": [
    {
     "output_type": "execute_result",
     "data": {
      "text/plain": "CVaR{Float64}(RMSettings{Float64, Float64}(true, 1.0, Inf), 0.05)"
     },
     "metadata": {},
     "execution_count": 141
    }
   ],
   "cell_type": "code",
   "source": [
    "rm = CVaR()"
   ],
   "metadata": {},
   "execution_count": 141
  },
  {
   "cell_type": "markdown",
   "source": [
    "Optimise portfolio."
   ],
   "metadata": {}
  },
  {
   "outputs": [
    {
     "output_type": "execute_result",
     "data": {
      "text/plain": "\u001b[1m5×2 DataFrame\u001b[0m\n\u001b[1m Row \u001b[0m│\u001b[1m tickers \u001b[0m\u001b[1m weights     \u001b[0m\n     │\u001b[90m Int64   \u001b[0m\u001b[90m Float64     \u001b[0m\n─────┼──────────────────────\n   1 │       1  3.42814e-10\n   2 │       2  1.79365e-9\n   3 │       3  0.432177\n   4 │       4  7.48868e-11\n   5 │       5  0.567823",
      "text/html": [
       "<div><div style = \"float: left;\"><span>5×2 DataFrame</span></div><div style = \"clear: both;\"></div></div><div class = \"data-frame\" style = \"overflow-x: scroll;\"><table class = \"data-frame\" style = \"margin-bottom: 6px;\"><thead><tr class = \"header\"><th class = \"rowNumber\" style = \"font-weight: bold; text-align: right;\">Row</th><th style = \"text-align: left;\">tickers</th><th style = \"text-align: left;\">weights</th></tr><tr class = \"subheader headerLastRow\"><th class = \"rowNumber\" style = \"font-weight: bold; text-align: right;\"></th><th title = \"Int64\" style = \"text-align: left;\">Int64</th><th title = \"Float64\" style = \"text-align: left;\">Float64</th></tr></thead><tbody><tr><td class = \"rowNumber\" style = \"font-weight: bold; text-align: right;\">1</td><td style = \"text-align: right;\">1</td><td style = \"text-align: right;\">3.42814e-10</td></tr><tr><td class = \"rowNumber\" style = \"font-weight: bold; text-align: right;\">2</td><td style = \"text-align: right;\">2</td><td style = \"text-align: right;\">1.79365e-9</td></tr><tr><td class = \"rowNumber\" style = \"font-weight: bold; text-align: right;\">3</td><td style = \"text-align: right;\">3</td><td style = \"text-align: right;\">0.432177</td></tr><tr><td class = \"rowNumber\" style = \"font-weight: bold; text-align: right;\">4</td><td style = \"text-align: right;\">4</td><td style = \"text-align: right;\">7.48868e-11</td></tr><tr><td class = \"rowNumber\" style = \"font-weight: bold; text-align: right;\">5</td><td style = \"text-align: right;\">5</td><td style = \"text-align: right;\">0.567823</td></tr></tbody></table></div>"
      ]
     },
     "metadata": {},
     "execution_count": 142
    }
   ],
   "cell_type": "code",
   "source": [
    "w1 = optimise!(port, Trad(; rm = rm, str_names = true))"
   ],
   "metadata": {},
   "execution_count": 142
  },
  {
   "cell_type": "markdown",
   "source": [
    "Compute CVaR for `alpha  = 0.05`."
   ],
   "metadata": {}
  },
  {
   "outputs": [
    {
     "output_type": "execute_result",
     "data": {
      "text/plain": "0.3353112360331464"
     },
     "metadata": {},
     "execution_count": 143
    }
   ],
   "cell_type": "code",
   "source": [
    "r1 = calc_risk(port; rm = rm)"
   ],
   "metadata": {},
   "execution_count": 143
  },
  {
   "cell_type": "markdown",
   "source": [
    "Risk is consistent."
   ],
   "metadata": {}
  },
  {
   "outputs": [
    {
     "output_type": "execute_result",
     "data": {
      "text/plain": "true"
     },
     "metadata": {},
     "execution_count": 144
    }
   ],
   "cell_type": "code",
   "source": [
    "isapprox(r1, value(port.model[:cvar_risk]); rtol = 5e-8)"
   ],
   "metadata": {},
   "execution_count": 144
  },
  {
   "cell_type": "markdown",
   "source": [
    "CVaR of the worst 50 % of cases."
   ],
   "metadata": {}
  },
  {
   "outputs": [
    {
     "output_type": "execute_result",
     "data": {
      "text/plain": "CVaR{Float64}(RMSettings{Float64, Float64}(true, 1.0, Inf), 0.5)"
     },
     "metadata": {},
     "execution_count": 145
    }
   ],
   "cell_type": "code",
   "source": [
    "rm = CVaR(; alpha = 0.5)"
   ],
   "metadata": {},
   "execution_count": 145
  },
  {
   "cell_type": "markdown",
   "source": [
    "Optimise portfolio."
   ],
   "metadata": {}
  },
  {
   "outputs": [
    {
     "output_type": "execute_result",
     "data": {
      "text/plain": "\u001b[1m5×2 DataFrame\u001b[0m\n\u001b[1m Row \u001b[0m│\u001b[1m tickers \u001b[0m\u001b[1m weights  \u001b[0m\n     │\u001b[90m Int64   \u001b[0m\u001b[90m Float64  \u001b[0m\n─────┼───────────────────\n   1 │       1  0.234514\n   2 │       2  0.111534\n   3 │       3  0.237635\n   4 │       4  0.278882\n   5 │       5  0.137435",
      "text/html": [
       "<div><div style = \"float: left;\"><span>5×2 DataFrame</span></div><div style = \"clear: both;\"></div></div><div class = \"data-frame\" style = \"overflow-x: scroll;\"><table class = \"data-frame\" style = \"margin-bottom: 6px;\"><thead><tr class = \"header\"><th class = \"rowNumber\" style = \"font-weight: bold; text-align: right;\">Row</th><th style = \"text-align: left;\">tickers</th><th style = \"text-align: left;\">weights</th></tr><tr class = \"subheader headerLastRow\"><th class = \"rowNumber\" style = \"font-weight: bold; text-align: right;\"></th><th title = \"Int64\" style = \"text-align: left;\">Int64</th><th title = \"Float64\" style = \"text-align: left;\">Float64</th></tr></thead><tbody><tr><td class = \"rowNumber\" style = \"font-weight: bold; text-align: right;\">1</td><td style = \"text-align: right;\">1</td><td style = \"text-align: right;\">0.234514</td></tr><tr><td class = \"rowNumber\" style = \"font-weight: bold; text-align: right;\">2</td><td style = \"text-align: right;\">2</td><td style = \"text-align: right;\">0.111534</td></tr><tr><td class = \"rowNumber\" style = \"font-weight: bold; text-align: right;\">3</td><td style = \"text-align: right;\">3</td><td style = \"text-align: right;\">0.237635</td></tr><tr><td class = \"rowNumber\" style = \"font-weight: bold; text-align: right;\">4</td><td style = \"text-align: right;\">4</td><td style = \"text-align: right;\">0.278882</td></tr><tr><td class = \"rowNumber\" style = \"font-weight: bold; text-align: right;\">5</td><td style = \"text-align: right;\">5</td><td style = \"text-align: right;\">0.137435</td></tr></tbody></table></div>"
      ]
     },
     "metadata": {},
     "execution_count": 146
    }
   ],
   "cell_type": "code",
   "source": [
    "w2 = optimise!(port, Trad(; rm = rm, str_names = true))"
   ],
   "metadata": {},
   "execution_count": 146
  },
  {
   "cell_type": "markdown",
   "source": [
    "Compute CVaR for `alpha  = 0.5`."
   ],
   "metadata": {}
  },
  {
   "outputs": [
    {
     "output_type": "execute_result",
     "data": {
      "text/plain": "0.03485547491800034"
     },
     "metadata": {},
     "execution_count": 147
    }
   ],
   "cell_type": "code",
   "source": [
    "r2 = calc_risk(port; rm = rm)"
   ],
   "metadata": {},
   "execution_count": 147
  },
  {
   "cell_type": "markdown",
   "source": [
    "Values are consistent."
   ],
   "metadata": {}
  },
  {
   "outputs": [
    {
     "output_type": "execute_result",
     "data": {
      "text/plain": "true"
     },
     "metadata": {},
     "execution_count": 148
    }
   ],
   "cell_type": "code",
   "source": [
    "isapprox(r2, value(port.model[:cvar_risk]))"
   ],
   "metadata": {},
   "execution_count": 148
  },
  {
   "cell_type": "markdown",
   "source": [
    "CVaR with default values."
   ],
   "metadata": {}
  },
  {
   "outputs": [
    {
     "output_type": "execute_result",
     "data": {
      "text/plain": "CVaR{Float64}(RMSettings{Float64, Float64}(true, 1.0, Inf), 0.05)"
     },
     "metadata": {},
     "execution_count": 149
    }
   ],
   "cell_type": "code",
   "source": [
    "rm = CVaR()"
   ],
   "metadata": {},
   "execution_count": 149
  },
  {
   "cell_type": "markdown",
   "source": [
    "Hierarchical optimisation, no JuMP model."
   ],
   "metadata": {}
  },
  {
   "outputs": [
    {
     "output_type": "execute_result",
     "data": {
      "text/plain": "\u001b[1m5×2 DataFrame\u001b[0m\n\u001b[1m Row \u001b[0m│\u001b[1m tickers \u001b[0m\u001b[1m weights   \u001b[0m\n     │\u001b[90m Int64   \u001b[0m\u001b[90m Float64   \u001b[0m\n─────┼────────────────────\n   1 │       1  0.179856\n   2 │       2  0.251612\n   3 │       3  0.269012\n   4 │       4  0.0620356\n   5 │       5  0.237484",
      "text/html": [
       "<div><div style = \"float: left;\"><span>5×2 DataFrame</span></div><div style = \"clear: both;\"></div></div><div class = \"data-frame\" style = \"overflow-x: scroll;\"><table class = \"data-frame\" style = \"margin-bottom: 6px;\"><thead><tr class = \"header\"><th class = \"rowNumber\" style = \"font-weight: bold; text-align: right;\">Row</th><th style = \"text-align: left;\">tickers</th><th style = \"text-align: left;\">weights</th></tr><tr class = \"subheader headerLastRow\"><th class = \"rowNumber\" style = \"font-weight: bold; text-align: right;\"></th><th title = \"Int64\" style = \"text-align: left;\">Int64</th><th title = \"Float64\" style = \"text-align: left;\">Float64</th></tr></thead><tbody><tr><td class = \"rowNumber\" style = \"font-weight: bold; text-align: right;\">1</td><td style = \"text-align: right;\">1</td><td style = \"text-align: right;\">0.179856</td></tr><tr><td class = \"rowNumber\" style = \"font-weight: bold; text-align: right;\">2</td><td style = \"text-align: right;\">2</td><td style = \"text-align: right;\">0.251612</td></tr><tr><td class = \"rowNumber\" style = \"font-weight: bold; text-align: right;\">3</td><td style = \"text-align: right;\">3</td><td style = \"text-align: right;\">0.269012</td></tr><tr><td class = \"rowNumber\" style = \"font-weight: bold; text-align: right;\">4</td><td style = \"text-align: right;\">4</td><td style = \"text-align: right;\">0.0620356</td></tr><tr><td class = \"rowNumber\" style = \"font-weight: bold; text-align: right;\">5</td><td style = \"text-align: right;\">5</td><td style = \"text-align: right;\">0.237484</td></tr></tbody></table></div>"
      ]
     },
     "metadata": {},
     "execution_count": 150
    }
   ],
   "cell_type": "code",
   "source": [
    "w3 = optimise!(port, HRP(; rm = rm))"
   ],
   "metadata": {},
   "execution_count": 150
  },
  {
   "cell_type": "markdown",
   "source": [
    "Compute the CVaR."
   ],
   "metadata": {}
  },
  {
   "outputs": [
    {
     "output_type": "execute_result",
     "data": {
      "text/plain": "0.9545750658848196"
     },
     "metadata": {},
     "execution_count": 151
    }
   ],
   "cell_type": "code",
   "source": [
    "r3 = calc_risk(port, :HRP; rm = rm)"
   ],
   "metadata": {},
   "execution_count": 151
  },
  {
   "cell_type": "markdown",
   "source": [
    "CVaR of the worst 50 % of cases."
   ],
   "metadata": {}
  },
  {
   "outputs": [
    {
     "output_type": "execute_result",
     "data": {
      "text/plain": "CVaR{Float64}(RMSettings{Float64, Float64}(true, 1.0, Inf), 0.5)"
     },
     "metadata": {},
     "execution_count": 152
    }
   ],
   "cell_type": "code",
   "source": [
    "rm = CVaR(; alpha = 0.5)"
   ],
   "metadata": {},
   "execution_count": 152
  },
  {
   "cell_type": "markdown",
   "source": [
    "Hierarchical optimisation, no JuMP model."
   ],
   "metadata": {}
  },
  {
   "outputs": [
    {
     "output_type": "execute_result",
     "data": {
      "text/plain": "\u001b[1m5×2 DataFrame\u001b[0m\n\u001b[1m Row \u001b[0m│\u001b[1m tickers \u001b[0m\u001b[1m weights  \u001b[0m\n     │\u001b[90m Int64   \u001b[0m\u001b[90m Float64  \u001b[0m\n─────┼───────────────────\n   1 │       1  0.187826\n   2 │       2  0.277756\n   3 │       3  0.237229\n   4 │       4  0.184567\n   5 │       5  0.112621",
      "text/html": [
       "<div><div style = \"float: left;\"><span>5×2 DataFrame</span></div><div style = \"clear: both;\"></div></div><div class = \"data-frame\" style = \"overflow-x: scroll;\"><table class = \"data-frame\" style = \"margin-bottom: 6px;\"><thead><tr class = \"header\"><th class = \"rowNumber\" style = \"font-weight: bold; text-align: right;\">Row</th><th style = \"text-align: left;\">tickers</th><th style = \"text-align: left;\">weights</th></tr><tr class = \"subheader headerLastRow\"><th class = \"rowNumber\" style = \"font-weight: bold; text-align: right;\"></th><th title = \"Int64\" style = \"text-align: left;\">Int64</th><th title = \"Float64\" style = \"text-align: left;\">Float64</th></tr></thead><tbody><tr><td class = \"rowNumber\" style = \"font-weight: bold; text-align: right;\">1</td><td style = \"text-align: right;\">1</td><td style = \"text-align: right;\">0.187826</td></tr><tr><td class = \"rowNumber\" style = \"font-weight: bold; text-align: right;\">2</td><td style = \"text-align: right;\">2</td><td style = \"text-align: right;\">0.277756</td></tr><tr><td class = \"rowNumber\" style = \"font-weight: bold; text-align: right;\">3</td><td style = \"text-align: right;\">3</td><td style = \"text-align: right;\">0.237229</td></tr><tr><td class = \"rowNumber\" style = \"font-weight: bold; text-align: right;\">4</td><td style = \"text-align: right;\">4</td><td style = \"text-align: right;\">0.184567</td></tr><tr><td class = \"rowNumber\" style = \"font-weight: bold; text-align: right;\">5</td><td style = \"text-align: right;\">5</td><td style = \"text-align: right;\">0.112621</td></tr></tbody></table></div>"
      ]
     },
     "metadata": {},
     "execution_count": 153
    }
   ],
   "cell_type": "code",
   "source": [
    "w4 = optimise!(port, HRP(; rm = rm))"
   ],
   "metadata": {},
   "execution_count": 153
  },
  {
   "cell_type": "markdown",
   "source": [
    "Compute the CVaR."
   ],
   "metadata": {}
  },
  {
   "outputs": [
    {
     "output_type": "execute_result",
     "data": {
      "text/plain": "0.11405037467700407"
     },
     "metadata": {},
     "execution_count": 154
    }
   ],
   "cell_type": "code",
   "source": [
    "r4 = calc_risk(port, :HRP; rm = rm)"
   ],
   "metadata": {},
   "execution_count": 154
  },
  {
   "cell_type": "markdown",
   "source": [
    "# Entropic Value at Risk, `EVaR`"
   ],
   "metadata": {}
  },
  {
   "cell_type": "markdown",
   "source": [
    "Recompute asset statistics."
   ],
   "metadata": {}
  },
  {
   "outputs": [],
   "cell_type": "code",
   "source": [
    "asset_statistics!(port)"
   ],
   "metadata": {},
   "execution_count": 155
  },
  {
   "cell_type": "markdown",
   "source": [
    "EVaR with default values."
   ],
   "metadata": {}
  },
  {
   "outputs": [
    {
     "output_type": "execute_result",
     "data": {
      "text/plain": "EVaR{Float64}(RMSettings{Float64, Float64}(true, 1.0, Inf), 0.05, nothing)"
     },
     "metadata": {},
     "execution_count": 156
    }
   ],
   "cell_type": "code",
   "source": [
    "rm = EVaR()"
   ],
   "metadata": {},
   "execution_count": 156
  },
  {
   "cell_type": "markdown",
   "source": [
    "Optimise portfolio."
   ],
   "metadata": {}
  },
  {
   "outputs": [
    {
     "output_type": "execute_result",
     "data": {
      "text/plain": "\u001b[1m5×2 DataFrame\u001b[0m\n\u001b[1m Row \u001b[0m│\u001b[1m tickers \u001b[0m\u001b[1m weights     \u001b[0m\n     │\u001b[90m Int64   \u001b[0m\u001b[90m Float64     \u001b[0m\n─────┼──────────────────────\n   1 │       1  1.80007e-10\n   2 │       2  2.53151e-10\n   3 │       3  0.432177\n   4 │       4  1.49677e-10\n   5 │       5  0.567823",
      "text/html": [
       "<div><div style = \"float: left;\"><span>5×2 DataFrame</span></div><div style = \"clear: both;\"></div></div><div class = \"data-frame\" style = \"overflow-x: scroll;\"><table class = \"data-frame\" style = \"margin-bottom: 6px;\"><thead><tr class = \"header\"><th class = \"rowNumber\" style = \"font-weight: bold; text-align: right;\">Row</th><th style = \"text-align: left;\">tickers</th><th style = \"text-align: left;\">weights</th></tr><tr class = \"subheader headerLastRow\"><th class = \"rowNumber\" style = \"font-weight: bold; text-align: right;\"></th><th title = \"Int64\" style = \"text-align: left;\">Int64</th><th title = \"Float64\" style = \"text-align: left;\">Float64</th></tr></thead><tbody><tr><td class = \"rowNumber\" style = \"font-weight: bold; text-align: right;\">1</td><td style = \"text-align: right;\">1</td><td style = \"text-align: right;\">1.80007e-10</td></tr><tr><td class = \"rowNumber\" style = \"font-weight: bold; text-align: right;\">2</td><td style = \"text-align: right;\">2</td><td style = \"text-align: right;\">2.53151e-10</td></tr><tr><td class = \"rowNumber\" style = \"font-weight: bold; text-align: right;\">3</td><td style = \"text-align: right;\">3</td><td style = \"text-align: right;\">0.432177</td></tr><tr><td class = \"rowNumber\" style = \"font-weight: bold; text-align: right;\">4</td><td style = \"text-align: right;\">4</td><td style = \"text-align: right;\">1.49677e-10</td></tr><tr><td class = \"rowNumber\" style = \"font-weight: bold; text-align: right;\">5</td><td style = \"text-align: right;\">5</td><td style = \"text-align: right;\">0.567823</td></tr></tbody></table></div>"
      ]
     },
     "metadata": {},
     "execution_count": 157
    }
   ],
   "cell_type": "code",
   "source": [
    "w1 = optimise!(port, Trad(; rm = rm, str_names = true))"
   ],
   "metadata": {},
   "execution_count": 157
  },
  {
   "cell_type": "markdown",
   "source": [
    "Compute EVaR for `alpha  = 0.05`."
   ],
   "metadata": {}
  },
  {
   "outputs": [
    {
     "output_type": "execute_result",
     "data": {
      "text/plain": "0.33531123421543"
     },
     "metadata": {},
     "execution_count": 158
    }
   ],
   "cell_type": "code",
   "source": [
    "r1 = calc_risk(port; rm = rm)"
   ],
   "metadata": {},
   "execution_count": 158
  },
  {
   "cell_type": "markdown",
   "source": [
    "As a functor, must provide the solvers."
   ],
   "metadata": {}
  },
  {
   "outputs": [
    {
     "output_type": "execute_result",
     "data": {
      "text/plain": "true"
     },
     "metadata": {},
     "execution_count": 159
    }
   ],
   "cell_type": "code",
   "source": [
    "rm.solvers = port.solvers\n",
    "r1 == rm(port.returns * w1.weights)"
   ],
   "metadata": {},
   "execution_count": 159
  },
  {
   "cell_type": "markdown",
   "source": [
    "Risk is consistent."
   ],
   "metadata": {}
  },
  {
   "outputs": [
    {
     "output_type": "execute_result",
     "data": {
      "text/plain": "true"
     },
     "metadata": {},
     "execution_count": 160
    }
   ],
   "cell_type": "code",
   "source": [
    "isapprox(r1, value(port.model[:evar_risk]))"
   ],
   "metadata": {},
   "execution_count": 160
  },
  {
   "cell_type": "markdown",
   "source": [
    "EVaR of the worst 50 % of cases."
   ],
   "metadata": {}
  },
  {
   "outputs": [
    {
     "output_type": "execute_result",
     "data": {
      "text/plain": "EVaR{Float64}(RMSettings{Float64, Float64}(true, 1.0, Inf), 0.5, nothing)"
     },
     "metadata": {},
     "execution_count": 161
    }
   ],
   "cell_type": "code",
   "source": [
    "rm = EVaR(; alpha = 0.5)"
   ],
   "metadata": {},
   "execution_count": 161
  },
  {
   "cell_type": "markdown",
   "source": [
    "Optimise portfolio."
   ],
   "metadata": {}
  },
  {
   "outputs": [
    {
     "output_type": "execute_result",
     "data": {
      "text/plain": "\u001b[1m5×2 DataFrame\u001b[0m\n\u001b[1m Row \u001b[0m│\u001b[1m tickers \u001b[0m\u001b[1m weights    \u001b[0m\n     │\u001b[90m Int64   \u001b[0m\u001b[90m Float64    \u001b[0m\n─────┼─────────────────────\n   1 │       1  0.0181213\n   2 │       2  0.018299\n   3 │       3  0.507395\n   4 │       4  1.79592e-9\n   5 │       5  0.456185",
      "text/html": [
       "<div><div style = \"float: left;\"><span>5×2 DataFrame</span></div><div style = \"clear: both;\"></div></div><div class = \"data-frame\" style = \"overflow-x: scroll;\"><table class = \"data-frame\" style = \"margin-bottom: 6px;\"><thead><tr class = \"header\"><th class = \"rowNumber\" style = \"font-weight: bold; text-align: right;\">Row</th><th style = \"text-align: left;\">tickers</th><th style = \"text-align: left;\">weights</th></tr><tr class = \"subheader headerLastRow\"><th class = \"rowNumber\" style = \"font-weight: bold; text-align: right;\"></th><th title = \"Int64\" style = \"text-align: left;\">Int64</th><th title = \"Float64\" style = \"text-align: left;\">Float64</th></tr></thead><tbody><tr><td class = \"rowNumber\" style = \"font-weight: bold; text-align: right;\">1</td><td style = \"text-align: right;\">1</td><td style = \"text-align: right;\">0.0181213</td></tr><tr><td class = \"rowNumber\" style = \"font-weight: bold; text-align: right;\">2</td><td style = \"text-align: right;\">2</td><td style = \"text-align: right;\">0.018299</td></tr><tr><td class = \"rowNumber\" style = \"font-weight: bold; text-align: right;\">3</td><td style = \"text-align: right;\">3</td><td style = \"text-align: right;\">0.507395</td></tr><tr><td class = \"rowNumber\" style = \"font-weight: bold; text-align: right;\">4</td><td style = \"text-align: right;\">4</td><td style = \"text-align: right;\">1.79592e-9</td></tr><tr><td class = \"rowNumber\" style = \"font-weight: bold; text-align: right;\">5</td><td style = \"text-align: right;\">5</td><td style = \"text-align: right;\">0.456185</td></tr></tbody></table></div>"
      ]
     },
     "metadata": {},
     "execution_count": 162
    }
   ],
   "cell_type": "code",
   "source": [
    "w2 = optimise!(port, Trad(; rm = rm, str_names = true))"
   ],
   "metadata": {},
   "execution_count": 162
  },
  {
   "cell_type": "markdown",
   "source": [
    "Compute EVaR for `alpha  = 0.5`."
   ],
   "metadata": {}
  },
  {
   "outputs": [
    {
     "output_type": "execute_result",
     "data": {
      "text/plain": "0.26782403994246134"
     },
     "metadata": {},
     "execution_count": 163
    }
   ],
   "cell_type": "code",
   "source": [
    "r2 = calc_risk(port; rm = rm)"
   ],
   "metadata": {},
   "execution_count": 163
  },
  {
   "cell_type": "markdown",
   "source": [
    "Values are consistent."
   ],
   "metadata": {}
  },
  {
   "outputs": [
    {
     "output_type": "execute_result",
     "data": {
      "text/plain": "true"
     },
     "metadata": {},
     "execution_count": 164
    }
   ],
   "cell_type": "code",
   "source": [
    "isapprox(r2, value(port.model[:evar_risk]))"
   ],
   "metadata": {},
   "execution_count": 164
  },
  {
   "cell_type": "markdown",
   "source": [
    "EVaR with default values."
   ],
   "metadata": {}
  },
  {
   "outputs": [
    {
     "output_type": "execute_result",
     "data": {
      "text/plain": "EVaR{Float64}(RMSettings{Float64, Float64}(true, 1.0, Inf), 0.05, nothing)"
     },
     "metadata": {},
     "execution_count": 165
    }
   ],
   "cell_type": "code",
   "source": [
    "rm = EVaR()"
   ],
   "metadata": {},
   "execution_count": 165
  },
  {
   "cell_type": "markdown",
   "source": [
    "Hierarchical optimisation, no JuMP model but needs solvers."
   ],
   "metadata": {}
  },
  {
   "outputs": [
    {
     "output_type": "execute_result",
     "data": {
      "text/plain": "\u001b[1m5×2 DataFrame\u001b[0m\n\u001b[1m Row \u001b[0m│\u001b[1m tickers \u001b[0m\u001b[1m weights   \u001b[0m\n     │\u001b[90m Int64   \u001b[0m\u001b[90m Float64   \u001b[0m\n─────┼────────────────────\n   1 │       1  0.179856\n   2 │       2  0.251612\n   3 │       3  0.269012\n   4 │       4  0.0620356\n   5 │       5  0.237484",
      "text/html": [
       "<div><div style = \"float: left;\"><span>5×2 DataFrame</span></div><div style = \"clear: both;\"></div></div><div class = \"data-frame\" style = \"overflow-x: scroll;\"><table class = \"data-frame\" style = \"margin-bottom: 6px;\"><thead><tr class = \"header\"><th class = \"rowNumber\" style = \"font-weight: bold; text-align: right;\">Row</th><th style = \"text-align: left;\">tickers</th><th style = \"text-align: left;\">weights</th></tr><tr class = \"subheader headerLastRow\"><th class = \"rowNumber\" style = \"font-weight: bold; text-align: right;\"></th><th title = \"Int64\" style = \"text-align: left;\">Int64</th><th title = \"Float64\" style = \"text-align: left;\">Float64</th></tr></thead><tbody><tr><td class = \"rowNumber\" style = \"font-weight: bold; text-align: right;\">1</td><td style = \"text-align: right;\">1</td><td style = \"text-align: right;\">0.179856</td></tr><tr><td class = \"rowNumber\" style = \"font-weight: bold; text-align: right;\">2</td><td style = \"text-align: right;\">2</td><td style = \"text-align: right;\">0.251612</td></tr><tr><td class = \"rowNumber\" style = \"font-weight: bold; text-align: right;\">3</td><td style = \"text-align: right;\">3</td><td style = \"text-align: right;\">0.269012</td></tr><tr><td class = \"rowNumber\" style = \"font-weight: bold; text-align: right;\">4</td><td style = \"text-align: right;\">4</td><td style = \"text-align: right;\">0.0620356</td></tr><tr><td class = \"rowNumber\" style = \"font-weight: bold; text-align: right;\">5</td><td style = \"text-align: right;\">5</td><td style = \"text-align: right;\">0.237484</td></tr></tbody></table></div>"
      ]
     },
     "metadata": {},
     "execution_count": 166
    }
   ],
   "cell_type": "code",
   "source": [
    "w3 = optimise!(port, HRP(; rm = rm))"
   ],
   "metadata": {},
   "execution_count": 166
  },
  {
   "cell_type": "markdown",
   "source": [
    "Compute the EVaR."
   ],
   "metadata": {}
  },
  {
   "outputs": [
    {
     "output_type": "execute_result",
     "data": {
      "text/plain": "0.954575073881352"
     },
     "metadata": {},
     "execution_count": 167
    }
   ],
   "cell_type": "code",
   "source": [
    "r3 = calc_risk(port, :HRP; rm = rm)"
   ],
   "metadata": {},
   "execution_count": 167
  },
  {
   "cell_type": "markdown",
   "source": [
    "EVaR of the worst 50 % of cases."
   ],
   "metadata": {}
  },
  {
   "outputs": [
    {
     "output_type": "execute_result",
     "data": {
      "text/plain": "EVaR{Float64}(RMSettings{Float64, Float64}(true, 1.0, Inf), 0.5, nothing)"
     },
     "metadata": {},
     "execution_count": 168
    }
   ],
   "cell_type": "code",
   "source": [
    "rm = EVaR(; alpha = 0.5)"
   ],
   "metadata": {},
   "execution_count": 168
  },
  {
   "cell_type": "markdown",
   "source": [
    "Hierarchical optimisation, no JuMP model."
   ],
   "metadata": {}
  },
  {
   "outputs": [
    {
     "output_type": "execute_result",
     "data": {
      "text/plain": "\u001b[1m5×2 DataFrame\u001b[0m\n\u001b[1m Row \u001b[0m│\u001b[1m tickers \u001b[0m\u001b[1m weights   \u001b[0m\n     │\u001b[90m Int64   \u001b[0m\u001b[90m Float64   \u001b[0m\n─────┼────────────────────\n   1 │       1  0.210601\n   2 │       2  0.281815\n   3 │       3  0.21888\n   4 │       4  0.0884636\n   5 │       5  0.20024",
      "text/html": [
       "<div><div style = \"float: left;\"><span>5×2 DataFrame</span></div><div style = \"clear: both;\"></div></div><div class = \"data-frame\" style = \"overflow-x: scroll;\"><table class = \"data-frame\" style = \"margin-bottom: 6px;\"><thead><tr class = \"header\"><th class = \"rowNumber\" style = \"font-weight: bold; text-align: right;\">Row</th><th style = \"text-align: left;\">tickers</th><th style = \"text-align: left;\">weights</th></tr><tr class = \"subheader headerLastRow\"><th class = \"rowNumber\" style = \"font-weight: bold; text-align: right;\"></th><th title = \"Int64\" style = \"text-align: left;\">Int64</th><th title = \"Float64\" style = \"text-align: left;\">Float64</th></tr></thead><tbody><tr><td class = \"rowNumber\" style = \"font-weight: bold; text-align: right;\">1</td><td style = \"text-align: right;\">1</td><td style = \"text-align: right;\">0.210601</td></tr><tr><td class = \"rowNumber\" style = \"font-weight: bold; text-align: right;\">2</td><td style = \"text-align: right;\">2</td><td style = \"text-align: right;\">0.281815</td></tr><tr><td class = \"rowNumber\" style = \"font-weight: bold; text-align: right;\">3</td><td style = \"text-align: right;\">3</td><td style = \"text-align: right;\">0.21888</td></tr><tr><td class = \"rowNumber\" style = \"font-weight: bold; text-align: right;\">4</td><td style = \"text-align: right;\">4</td><td style = \"text-align: right;\">0.0884636</td></tr><tr><td class = \"rowNumber\" style = \"font-weight: bold; text-align: right;\">5</td><td style = \"text-align: right;\">5</td><td style = \"text-align: right;\">0.20024</td></tr></tbody></table></div>"
      ]
     },
     "metadata": {},
     "execution_count": 169
    }
   ],
   "cell_type": "code",
   "source": [
    "w4 = optimise!(port, HRP(; rm = rm))"
   ],
   "metadata": {},
   "execution_count": 169
  },
  {
   "cell_type": "markdown",
   "source": [
    "Compute the EVaR."
   ],
   "metadata": {}
  },
  {
   "outputs": [
    {
     "output_type": "execute_result",
     "data": {
      "text/plain": "0.4995910664303083"
     },
     "metadata": {},
     "execution_count": 170
    }
   ],
   "cell_type": "code",
   "source": [
    "r4 = calc_risk(port, :HRP; rm = rm)"
   ],
   "metadata": {},
   "execution_count": 170
  },
  {
   "cell_type": "markdown",
   "source": [
    "# Relativistic Value at Risk, `RLVaR`"
   ],
   "metadata": {}
  },
  {
   "cell_type": "markdown",
   "source": [
    "Recompute asset statistics."
   ],
   "metadata": {}
  },
  {
   "outputs": [],
   "cell_type": "code",
   "source": [
    "asset_statistics!(port)"
   ],
   "metadata": {},
   "execution_count": 171
  },
  {
   "cell_type": "markdown",
   "source": [
    "RLVaR with default values."
   ],
   "metadata": {}
  },
  {
   "outputs": [
    {
     "output_type": "execute_result",
     "data": {
      "text/plain": "RLVaR{Float64, Float64}(RMSettings{Float64, Float64}(true, 1.0, Inf), 0.05, 0.3, nothing)"
     },
     "metadata": {},
     "execution_count": 172
    }
   ],
   "cell_type": "code",
   "source": [
    "rm = RLVaR()"
   ],
   "metadata": {},
   "execution_count": 172
  },
  {
   "cell_type": "markdown",
   "source": [
    "Optimise portfolio."
   ],
   "metadata": {}
  },
  {
   "outputs": [
    {
     "output_type": "execute_result",
     "data": {
      "text/plain": "\u001b[1m5×2 DataFrame\u001b[0m\n\u001b[1m Row \u001b[0m│\u001b[1m tickers \u001b[0m\u001b[1m weights     \u001b[0m\n     │\u001b[90m Int64   \u001b[0m\u001b[90m Float64     \u001b[0m\n─────┼──────────────────────\n   1 │       1  1.7216e-10\n   2 │       2  3.57343e-11\n   3 │       3  0.432177\n   4 │       4  1.98357e-10\n   5 │       5  0.567823",
      "text/html": [
       "<div><div style = \"float: left;\"><span>5×2 DataFrame</span></div><div style = \"clear: both;\"></div></div><div class = \"data-frame\" style = \"overflow-x: scroll;\"><table class = \"data-frame\" style = \"margin-bottom: 6px;\"><thead><tr class = \"header\"><th class = \"rowNumber\" style = \"font-weight: bold; text-align: right;\">Row</th><th style = \"text-align: left;\">tickers</th><th style = \"text-align: left;\">weights</th></tr><tr class = \"subheader headerLastRow\"><th class = \"rowNumber\" style = \"font-weight: bold; text-align: right;\"></th><th title = \"Int64\" style = \"text-align: left;\">Int64</th><th title = \"Float64\" style = \"text-align: left;\">Float64</th></tr></thead><tbody><tr><td class = \"rowNumber\" style = \"font-weight: bold; text-align: right;\">1</td><td style = \"text-align: right;\">1</td><td style = \"text-align: right;\">1.7216e-10</td></tr><tr><td class = \"rowNumber\" style = \"font-weight: bold; text-align: right;\">2</td><td style = \"text-align: right;\">2</td><td style = \"text-align: right;\">3.57343e-11</td></tr><tr><td class = \"rowNumber\" style = \"font-weight: bold; text-align: right;\">3</td><td style = \"text-align: right;\">3</td><td style = \"text-align: right;\">0.432177</td></tr><tr><td class = \"rowNumber\" style = \"font-weight: bold; text-align: right;\">4</td><td style = \"text-align: right;\">4</td><td style = \"text-align: right;\">1.98357e-10</td></tr><tr><td class = \"rowNumber\" style = \"font-weight: bold; text-align: right;\">5</td><td style = \"text-align: right;\">5</td><td style = \"text-align: right;\">0.567823</td></tr></tbody></table></div>"
      ]
     },
     "metadata": {},
     "execution_count": 173
    }
   ],
   "cell_type": "code",
   "source": [
    "w1 = optimise!(port, Trad(; rm = rm, str_names = true))"
   ],
   "metadata": {},
   "execution_count": 173
  },
  {
   "cell_type": "markdown",
   "source": [
    "Compute RLVaR for `alpha  = 0.05`."
   ],
   "metadata": {}
  },
  {
   "outputs": [
    {
     "output_type": "execute_result",
     "data": {
      "text/plain": "0.33531123214615577"
     },
     "metadata": {},
     "execution_count": 174
    }
   ],
   "cell_type": "code",
   "source": [
    "r1 = calc_risk(port; rm = rm)"
   ],
   "metadata": {},
   "execution_count": 174
  },
  {
   "cell_type": "markdown",
   "source": [
    "As a functor, must provide the solvers."
   ],
   "metadata": {}
  },
  {
   "outputs": [
    {
     "output_type": "execute_result",
     "data": {
      "text/plain": "true"
     },
     "metadata": {},
     "execution_count": 175
    }
   ],
   "cell_type": "code",
   "source": [
    "rm.solvers = port.solvers\n",
    "r1 == rm(port.returns * w1.weights)"
   ],
   "metadata": {},
   "execution_count": 175
  },
  {
   "cell_type": "markdown",
   "source": [
    "Risk is consistent."
   ],
   "metadata": {}
  },
  {
   "outputs": [
    {
     "output_type": "execute_result",
     "data": {
      "text/plain": "true"
     },
     "metadata": {},
     "execution_count": 176
    }
   ],
   "cell_type": "code",
   "source": [
    "isapprox(r1, value(port.model[:rlvar_risk]))"
   ],
   "metadata": {},
   "execution_count": 176
  },
  {
   "cell_type": "markdown",
   "source": [
    "RLVaR of the worst 50 % of cases."
   ],
   "metadata": {}
  },
  {
   "outputs": [
    {
     "output_type": "execute_result",
     "data": {
      "text/plain": "RLVaR{Float64, Float64}(RMSettings{Float64, Float64}(true, 1.0, Inf), 0.5, 0.3, nothing)"
     },
     "metadata": {},
     "execution_count": 177
    }
   ],
   "cell_type": "code",
   "source": [
    "rm = RLVaR(; alpha = 0.5)"
   ],
   "metadata": {},
   "execution_count": 177
  },
  {
   "cell_type": "markdown",
   "source": [
    "Optimise portfolio."
   ],
   "metadata": {}
  },
  {
   "outputs": [
    {
     "output_type": "execute_result",
     "data": {
      "text/plain": "\u001b[1m5×2 DataFrame\u001b[0m\n\u001b[1m Row \u001b[0m│\u001b[1m tickers \u001b[0m\u001b[1m weights     \u001b[0m\n     │\u001b[90m Int64   \u001b[0m\u001b[90m Float64     \u001b[0m\n─────┼──────────────────────\n   1 │       1  0.000193217\n   2 │       2  7.46254e-9\n   3 │       3  0.487596\n   4 │       4  5.06905e-10\n   5 │       5  0.512211",
      "text/html": [
       "<div><div style = \"float: left;\"><span>5×2 DataFrame</span></div><div style = \"clear: both;\"></div></div><div class = \"data-frame\" style = \"overflow-x: scroll;\"><table class = \"data-frame\" style = \"margin-bottom: 6px;\"><thead><tr class = \"header\"><th class = \"rowNumber\" style = \"font-weight: bold; text-align: right;\">Row</th><th style = \"text-align: left;\">tickers</th><th style = \"text-align: left;\">weights</th></tr><tr class = \"subheader headerLastRow\"><th class = \"rowNumber\" style = \"font-weight: bold; text-align: right;\"></th><th title = \"Int64\" style = \"text-align: left;\">Int64</th><th title = \"Float64\" style = \"text-align: left;\">Float64</th></tr></thead><tbody><tr><td class = \"rowNumber\" style = \"font-weight: bold; text-align: right;\">1</td><td style = \"text-align: right;\">1</td><td style = \"text-align: right;\">0.000193217</td></tr><tr><td class = \"rowNumber\" style = \"font-weight: bold; text-align: right;\">2</td><td style = \"text-align: right;\">2</td><td style = \"text-align: right;\">7.46254e-9</td></tr><tr><td class = \"rowNumber\" style = \"font-weight: bold; text-align: right;\">3</td><td style = \"text-align: right;\">3</td><td style = \"text-align: right;\">0.487596</td></tr><tr><td class = \"rowNumber\" style = \"font-weight: bold; text-align: right;\">4</td><td style = \"text-align: right;\">4</td><td style = \"text-align: right;\">5.06905e-10</td></tr><tr><td class = \"rowNumber\" style = \"font-weight: bold; text-align: right;\">5</td><td style = \"text-align: right;\">5</td><td style = \"text-align: right;\">0.512211</td></tr></tbody></table></div>"
      ]
     },
     "metadata": {},
     "execution_count": 178
    }
   ],
   "cell_type": "code",
   "source": [
    "w2 = optimise!(port, Trad(; rm = rm, str_names = true))"
   ],
   "metadata": {},
   "execution_count": 178
  },
  {
   "cell_type": "markdown",
   "source": [
    "Compute RLVaR for `alpha  = 0.5`."
   ],
   "metadata": {}
  },
  {
   "outputs": [
    {
     "output_type": "execute_result",
     "data": {
      "text/plain": "0.278580947684099"
     },
     "metadata": {},
     "execution_count": 179
    }
   ],
   "cell_type": "code",
   "source": [
    "r2 = calc_risk(port; rm = rm)"
   ],
   "metadata": {},
   "execution_count": 179
  },
  {
   "cell_type": "markdown",
   "source": [
    "Values are consistent."
   ],
   "metadata": {}
  },
  {
   "outputs": [
    {
     "output_type": "execute_result",
     "data": {
      "text/plain": "true"
     },
     "metadata": {},
     "execution_count": 180
    }
   ],
   "cell_type": "code",
   "source": [
    "isapprox(r2, value(port.model[:rlvar_risk]))"
   ],
   "metadata": {},
   "execution_count": 180
  },
  {
   "cell_type": "markdown",
   "source": [
    "Check the limits as `kappa → 0`, and `kappa → Inf`. We use a large value of alpha because there are very few observations, so we need it to differentiate the results of the optimisations."
   ],
   "metadata": {}
  },
  {
   "outputs": [
    {
     "output_type": "execute_result",
     "data": {
      "text/plain": "\u001b[1m5×2 DataFrame\u001b[0m\n\u001b[1m Row \u001b[0m│\u001b[1m tickers \u001b[0m\u001b[1m weights    \u001b[0m\n     │\u001b[90m Int64   \u001b[0m\u001b[90m Float64    \u001b[0m\n─────┼─────────────────────\n   1 │       1  0.0181197\n   2 │       2  0.0182987\n   3 │       3  0.507394\n   4 │       4  2.95838e-8\n   5 │       5  0.456187",
      "text/html": [
       "<div><div style = \"float: left;\"><span>5×2 DataFrame</span></div><div style = \"clear: both;\"></div></div><div class = \"data-frame\" style = \"overflow-x: scroll;\"><table class = \"data-frame\" style = \"margin-bottom: 6px;\"><thead><tr class = \"header\"><th class = \"rowNumber\" style = \"font-weight: bold; text-align: right;\">Row</th><th style = \"text-align: left;\">tickers</th><th style = \"text-align: left;\">weights</th></tr><tr class = \"subheader headerLastRow\"><th class = \"rowNumber\" style = \"font-weight: bold; text-align: right;\"></th><th title = \"Int64\" style = \"text-align: left;\">Int64</th><th title = \"Float64\" style = \"text-align: left;\">Float64</th></tr></thead><tbody><tr><td class = \"rowNumber\" style = \"font-weight: bold; text-align: right;\">1</td><td style = \"text-align: right;\">1</td><td style = \"text-align: right;\">0.0181197</td></tr><tr><td class = \"rowNumber\" style = \"font-weight: bold; text-align: right;\">2</td><td style = \"text-align: right;\">2</td><td style = \"text-align: right;\">0.0182987</td></tr><tr><td class = \"rowNumber\" style = \"font-weight: bold; text-align: right;\">3</td><td style = \"text-align: right;\">3</td><td style = \"text-align: right;\">0.507394</td></tr><tr><td class = \"rowNumber\" style = \"font-weight: bold; text-align: right;\">4</td><td style = \"text-align: right;\">4</td><td style = \"text-align: right;\">2.95838e-8</td></tr><tr><td class = \"rowNumber\" style = \"font-weight: bold; text-align: right;\">5</td><td style = \"text-align: right;\">5</td><td style = \"text-align: right;\">0.456187</td></tr></tbody></table></div>"
      ]
     },
     "metadata": {},
     "execution_count": 181
    }
   ],
   "cell_type": "code",
   "source": [
    "w3_1 = optimise!(port, Trad(; rm = RLVaR(; alpha = 0.5, kappa = 5e-5), str_names = true))"
   ],
   "metadata": {},
   "execution_count": 181
  },
  {
   "outputs": [
    {
     "output_type": "execute_result",
     "data": {
      "text/plain": "\u001b[1m5×2 DataFrame\u001b[0m\n\u001b[1m Row \u001b[0m│\u001b[1m tickers \u001b[0m\u001b[1m weights     \u001b[0m\n     │\u001b[90m Int64   \u001b[0m\u001b[90m Float64     \u001b[0m\n─────┼──────────────────────\n   1 │       1  4.13117e-14\n   2 │       2  3.08176e-14\n   3 │       3  0.432177\n   4 │       4  5.61983e-14\n   5 │       5  0.567823",
      "text/html": [
       "<div><div style = \"float: left;\"><span>5×2 DataFrame</span></div><div style = \"clear: both;\"></div></div><div class = \"data-frame\" style = \"overflow-x: scroll;\"><table class = \"data-frame\" style = \"margin-bottom: 6px;\"><thead><tr class = \"header\"><th class = \"rowNumber\" style = \"font-weight: bold; text-align: right;\">Row</th><th style = \"text-align: left;\">tickers</th><th style = \"text-align: left;\">weights</th></tr><tr class = \"subheader headerLastRow\"><th class = \"rowNumber\" style = \"font-weight: bold; text-align: right;\"></th><th title = \"Int64\" style = \"text-align: left;\">Int64</th><th title = \"Float64\" style = \"text-align: left;\">Float64</th></tr></thead><tbody><tr><td class = \"rowNumber\" style = \"font-weight: bold; text-align: right;\">1</td><td style = \"text-align: right;\">1</td><td style = \"text-align: right;\">4.13117e-14</td></tr><tr><td class = \"rowNumber\" style = \"font-weight: bold; text-align: right;\">2</td><td style = \"text-align: right;\">2</td><td style = \"text-align: right;\">3.08176e-14</td></tr><tr><td class = \"rowNumber\" style = \"font-weight: bold; text-align: right;\">3</td><td style = \"text-align: right;\">3</td><td style = \"text-align: right;\">0.432177</td></tr><tr><td class = \"rowNumber\" style = \"font-weight: bold; text-align: right;\">4</td><td style = \"text-align: right;\">4</td><td style = \"text-align: right;\">5.61983e-14</td></tr><tr><td class = \"rowNumber\" style = \"font-weight: bold; text-align: right;\">5</td><td style = \"text-align: right;\">5</td><td style = \"text-align: right;\">0.567823</td></tr></tbody></table></div>"
      ]
     },
     "metadata": {},
     "execution_count": 182
    }
   ],
   "cell_type": "code",
   "source": [
    "w3_2 = optimise!(port,\n",
    "                 Trad(; rm = RLVaR(; alpha = 0.5, kappa = 1 - 5e-5), str_names = true))"
   ],
   "metadata": {},
   "execution_count": 182
  },
  {
   "outputs": [
    {
     "output_type": "execute_result",
     "data": {
      "text/plain": "\u001b[1m5×2 DataFrame\u001b[0m\n\u001b[1m Row \u001b[0m│\u001b[1m tickers \u001b[0m\u001b[1m weights    \u001b[0m\n     │\u001b[90m Int64   \u001b[0m\u001b[90m Float64    \u001b[0m\n─────┼─────────────────────\n   1 │       1  0.0181213\n   2 │       2  0.018299\n   3 │       3  0.507395\n   4 │       4  1.79592e-9\n   5 │       5  0.456185",
      "text/html": [
       "<div><div style = \"float: left;\"><span>5×2 DataFrame</span></div><div style = \"clear: both;\"></div></div><div class = \"data-frame\" style = \"overflow-x: scroll;\"><table class = \"data-frame\" style = \"margin-bottom: 6px;\"><thead><tr class = \"header\"><th class = \"rowNumber\" style = \"font-weight: bold; text-align: right;\">Row</th><th style = \"text-align: left;\">tickers</th><th style = \"text-align: left;\">weights</th></tr><tr class = \"subheader headerLastRow\"><th class = \"rowNumber\" style = \"font-weight: bold; text-align: right;\"></th><th title = \"Int64\" style = \"text-align: left;\">Int64</th><th title = \"Float64\" style = \"text-align: left;\">Float64</th></tr></thead><tbody><tr><td class = \"rowNumber\" style = \"font-weight: bold; text-align: right;\">1</td><td style = \"text-align: right;\">1</td><td style = \"text-align: right;\">0.0181213</td></tr><tr><td class = \"rowNumber\" style = \"font-weight: bold; text-align: right;\">2</td><td style = \"text-align: right;\">2</td><td style = \"text-align: right;\">0.018299</td></tr><tr><td class = \"rowNumber\" style = \"font-weight: bold; text-align: right;\">3</td><td style = \"text-align: right;\">3</td><td style = \"text-align: right;\">0.507395</td></tr><tr><td class = \"rowNumber\" style = \"font-weight: bold; text-align: right;\">4</td><td style = \"text-align: right;\">4</td><td style = \"text-align: right;\">1.79592e-9</td></tr><tr><td class = \"rowNumber\" style = \"font-weight: bold; text-align: right;\">5</td><td style = \"text-align: right;\">5</td><td style = \"text-align: right;\">0.456185</td></tr></tbody></table></div>"
      ]
     },
     "metadata": {},
     "execution_count": 183
    }
   ],
   "cell_type": "code",
   "source": [
    "w3_3 = optimise!(port, Trad(; rm = EVaR(; alpha = 0.5), str_names = true))"
   ],
   "metadata": {},
   "execution_count": 183
  },
  {
   "outputs": [
    {
     "output_type": "execute_result",
     "data": {
      "text/plain": "\u001b[1m5×2 DataFrame\u001b[0m\n\u001b[1m Row \u001b[0m│\u001b[1m tickers \u001b[0m\u001b[1m weights     \u001b[0m\n     │\u001b[90m Int64   \u001b[0m\u001b[90m Float64     \u001b[0m\n─────┼──────────────────────\n   1 │       1  1.01823e-11\n   2 │       2  5.08671e-11\n   3 │       3  0.432177\n   4 │       4  1.88254e-11\n   5 │       5  0.567823",
      "text/html": [
       "<div><div style = \"float: left;\"><span>5×2 DataFrame</span></div><div style = \"clear: both;\"></div></div><div class = \"data-frame\" style = \"overflow-x: scroll;\"><table class = \"data-frame\" style = \"margin-bottom: 6px;\"><thead><tr class = \"header\"><th class = \"rowNumber\" style = \"font-weight: bold; text-align: right;\">Row</th><th style = \"text-align: left;\">tickers</th><th style = \"text-align: left;\">weights</th></tr><tr class = \"subheader headerLastRow\"><th class = \"rowNumber\" style = \"font-weight: bold; text-align: right;\"></th><th title = \"Int64\" style = \"text-align: left;\">Int64</th><th title = \"Float64\" style = \"text-align: left;\">Float64</th></tr></thead><tbody><tr><td class = \"rowNumber\" style = \"font-weight: bold; text-align: right;\">1</td><td style = \"text-align: right;\">1</td><td style = \"text-align: right;\">1.01823e-11</td></tr><tr><td class = \"rowNumber\" style = \"font-weight: bold; text-align: right;\">2</td><td style = \"text-align: right;\">2</td><td style = \"text-align: right;\">5.08671e-11</td></tr><tr><td class = \"rowNumber\" style = \"font-weight: bold; text-align: right;\">3</td><td style = \"text-align: right;\">3</td><td style = \"text-align: right;\">0.432177</td></tr><tr><td class = \"rowNumber\" style = \"font-weight: bold; text-align: right;\">4</td><td style = \"text-align: right;\">4</td><td style = \"text-align: right;\">1.88254e-11</td></tr><tr><td class = \"rowNumber\" style = \"font-weight: bold; text-align: right;\">5</td><td style = \"text-align: right;\">5</td><td style = \"text-align: right;\">0.567823</td></tr></tbody></table></div>"
      ]
     },
     "metadata": {},
     "execution_count": 184
    }
   ],
   "cell_type": "code",
   "source": [
    "w3_4 = optimise!(port, Trad(; rm = WR(), str_names = true))"
   ],
   "metadata": {},
   "execution_count": 184
  },
  {
   "cell_type": "markdown",
   "source": [
    "$\\\\lim\\\\limits_{\\\\kappa \\\\to 0} \\\\mathrm{RLVaR}(\\\\bm{X},\\\\, \\\\alpha,\\\\, \\\\kappa) \\\\approx \\\\mathrm{EVaR}(\\\\bm{X},\\\\, \\\\alpha)$"
   ],
   "metadata": {}
  },
  {
   "outputs": [
    {
     "output_type": "execute_result",
     "data": {
      "text/plain": "1.2142341888644785e-6"
     },
     "metadata": {},
     "execution_count": 185
    }
   ],
   "cell_type": "code",
   "source": [
    "rmsd(w3_1.weights, w3_3.weights)"
   ],
   "metadata": {},
   "execution_count": 185
  },
  {
   "cell_type": "markdown",
   "source": [
    "$\\\\lim\\\\limits_{\\\\kappa \\\\to 1} \\\\mathrm{RLVaR}(\\\\bm{X},\\\\, \\\\alpha,\\\\, \\\\kappa) \\\\approx \\\\mathrm{WR}(\\\\bm{X})$"
   ],
   "metadata": {}
  },
  {
   "outputs": [
    {
     "output_type": "execute_result",
     "data": {
      "text/plain": "4.790216951410363e-11"
     },
     "metadata": {},
     "execution_count": 186
    }
   ],
   "cell_type": "code",
   "source": [
    "rmsd(w3_2.weights, w3_4.weights)"
   ],
   "metadata": {},
   "execution_count": 186
  },
  {
   "cell_type": "markdown",
   "source": [
    "RLVaR with default values."
   ],
   "metadata": {}
  },
  {
   "outputs": [
    {
     "output_type": "execute_result",
     "data": {
      "text/plain": "RLVaR{Float64, Float64}(RMSettings{Float64, Float64}(true, 1.0, Inf), 0.05, 0.3, nothing)"
     },
     "metadata": {},
     "execution_count": 187
    }
   ],
   "cell_type": "code",
   "source": [
    "rm = RLVaR()"
   ],
   "metadata": {},
   "execution_count": 187
  },
  {
   "cell_type": "markdown",
   "source": [
    "Hierarchical optimisation, no JuMP model but needs solvers."
   ],
   "metadata": {}
  },
  {
   "outputs": [
    {
     "output_type": "execute_result",
     "data": {
      "text/plain": "\u001b[1m5×2 DataFrame\u001b[0m\n\u001b[1m Row \u001b[0m│\u001b[1m tickers \u001b[0m\u001b[1m weights   \u001b[0m\n     │\u001b[90m Int64   \u001b[0m\u001b[90m Float64   \u001b[0m\n─────┼────────────────────\n   1 │       1  0.179856\n   2 │       2  0.251612\n   3 │       3  0.269012\n   4 │       4  0.0620356\n   5 │       5  0.237484",
      "text/html": [
       "<div><div style = \"float: left;\"><span>5×2 DataFrame</span></div><div style = \"clear: both;\"></div></div><div class = \"data-frame\" style = \"overflow-x: scroll;\"><table class = \"data-frame\" style = \"margin-bottom: 6px;\"><thead><tr class = \"header\"><th class = \"rowNumber\" style = \"font-weight: bold; text-align: right;\">Row</th><th style = \"text-align: left;\">tickers</th><th style = \"text-align: left;\">weights</th></tr><tr class = \"subheader headerLastRow\"><th class = \"rowNumber\" style = \"font-weight: bold; text-align: right;\"></th><th title = \"Int64\" style = \"text-align: left;\">Int64</th><th title = \"Float64\" style = \"text-align: left;\">Float64</th></tr></thead><tbody><tr><td class = \"rowNumber\" style = \"font-weight: bold; text-align: right;\">1</td><td style = \"text-align: right;\">1</td><td style = \"text-align: right;\">0.179856</td></tr><tr><td class = \"rowNumber\" style = \"font-weight: bold; text-align: right;\">2</td><td style = \"text-align: right;\">2</td><td style = \"text-align: right;\">0.251612</td></tr><tr><td class = \"rowNumber\" style = \"font-weight: bold; text-align: right;\">3</td><td style = \"text-align: right;\">3</td><td style = \"text-align: right;\">0.269012</td></tr><tr><td class = \"rowNumber\" style = \"font-weight: bold; text-align: right;\">4</td><td style = \"text-align: right;\">4</td><td style = \"text-align: right;\">0.0620356</td></tr><tr><td class = \"rowNumber\" style = \"font-weight: bold; text-align: right;\">5</td><td style = \"text-align: right;\">5</td><td style = \"text-align: right;\">0.237484</td></tr></tbody></table></div>"
      ]
     },
     "metadata": {},
     "execution_count": 188
    }
   ],
   "cell_type": "code",
   "source": [
    "w4 = optimise!(port, HRP(; rm = rm))"
   ],
   "metadata": {},
   "execution_count": 188
  },
  {
   "cell_type": "markdown",
   "source": [
    "Compute the RLVaR."
   ],
   "metadata": {}
  },
  {
   "outputs": [
    {
     "output_type": "execute_result",
     "data": {
      "text/plain": "0.9545750670771044"
     },
     "metadata": {},
     "execution_count": 189
    }
   ],
   "cell_type": "code",
   "source": [
    "r4 = calc_risk(port, :HRP; rm = rm)"
   ],
   "metadata": {},
   "execution_count": 189
  },
  {
   "cell_type": "markdown",
   "source": [
    "RLVaR of the worst 50 % of cases."
   ],
   "metadata": {}
  },
  {
   "outputs": [
    {
     "output_type": "execute_result",
     "data": {
      "text/plain": "EVaR{Float64}(RMSettings{Float64, Float64}(true, 1.0, Inf), 0.5, nothing)"
     },
     "metadata": {},
     "execution_count": 190
    }
   ],
   "cell_type": "code",
   "source": [
    "rm = EVaR(; alpha = 0.5)"
   ],
   "metadata": {},
   "execution_count": 190
  },
  {
   "cell_type": "markdown",
   "source": [
    "Hierarchical optimisation, no JuMP model."
   ],
   "metadata": {}
  },
  {
   "outputs": [
    {
     "output_type": "execute_result",
     "data": {
      "text/plain": "\u001b[1m5×2 DataFrame\u001b[0m\n\u001b[1m Row \u001b[0m│\u001b[1m tickers \u001b[0m\u001b[1m weights   \u001b[0m\n     │\u001b[90m Int64   \u001b[0m\u001b[90m Float64   \u001b[0m\n─────┼────────────────────\n   1 │       1  0.210601\n   2 │       2  0.281815\n   3 │       3  0.21888\n   4 │       4  0.0884636\n   5 │       5  0.20024",
      "text/html": [
       "<div><div style = \"float: left;\"><span>5×2 DataFrame</span></div><div style = \"clear: both;\"></div></div><div class = \"data-frame\" style = \"overflow-x: scroll;\"><table class = \"data-frame\" style = \"margin-bottom: 6px;\"><thead><tr class = \"header\"><th class = \"rowNumber\" style = \"font-weight: bold; text-align: right;\">Row</th><th style = \"text-align: left;\">tickers</th><th style = \"text-align: left;\">weights</th></tr><tr class = \"subheader headerLastRow\"><th class = \"rowNumber\" style = \"font-weight: bold; text-align: right;\"></th><th title = \"Int64\" style = \"text-align: left;\">Int64</th><th title = \"Float64\" style = \"text-align: left;\">Float64</th></tr></thead><tbody><tr><td class = \"rowNumber\" style = \"font-weight: bold; text-align: right;\">1</td><td style = \"text-align: right;\">1</td><td style = \"text-align: right;\">0.210601</td></tr><tr><td class = \"rowNumber\" style = \"font-weight: bold; text-align: right;\">2</td><td style = \"text-align: right;\">2</td><td style = \"text-align: right;\">0.281815</td></tr><tr><td class = \"rowNumber\" style = \"font-weight: bold; text-align: right;\">3</td><td style = \"text-align: right;\">3</td><td style = \"text-align: right;\">0.21888</td></tr><tr><td class = \"rowNumber\" style = \"font-weight: bold; text-align: right;\">4</td><td style = \"text-align: right;\">4</td><td style = \"text-align: right;\">0.0884636</td></tr><tr><td class = \"rowNumber\" style = \"font-weight: bold; text-align: right;\">5</td><td style = \"text-align: right;\">5</td><td style = \"text-align: right;\">0.20024</td></tr></tbody></table></div>"
      ]
     },
     "metadata": {},
     "execution_count": 191
    }
   ],
   "cell_type": "code",
   "source": [
    "w5 = optimise!(port, HRP(; rm = rm))"
   ],
   "metadata": {},
   "execution_count": 191
  },
  {
   "cell_type": "markdown",
   "source": [
    "Compute the RLVaR."
   ],
   "metadata": {}
  },
  {
   "outputs": [
    {
     "output_type": "execute_result",
     "data": {
      "text/plain": "0.4995910664303083"
     },
     "metadata": {},
     "execution_count": 192
    }
   ],
   "cell_type": "code",
   "source": [
    "r5 = calc_risk(port, :HRP; rm = rm)"
   ],
   "metadata": {},
   "execution_count": 192
  },
  {
   "cell_type": "markdown",
   "source": [
    "# Maximum Drawdown of Uncompounded Cumulative Returns, `MDD`"
   ],
   "metadata": {}
  },
  {
   "cell_type": "markdown",
   "source": [
    "Recompute asset statistics."
   ],
   "metadata": {}
  },
  {
   "outputs": [],
   "cell_type": "code",
   "source": [
    "asset_statistics!(port)"
   ],
   "metadata": {},
   "execution_count": 193
  },
  {
   "cell_type": "markdown",
   "source": [
    "Maximum drawdown of uncompounded returns."
   ],
   "metadata": {}
  },
  {
   "outputs": [
    {
     "output_type": "execute_result",
     "data": {
      "text/plain": "MDD(RMSettings{Float64, Float64}(true, 1.0, Inf))"
     },
     "metadata": {},
     "execution_count": 194
    }
   ],
   "cell_type": "code",
   "source": [
    "rm = MDD()"
   ],
   "metadata": {},
   "execution_count": 194
  },
  {
   "cell_type": "markdown",
   "source": [
    "Optimise portfolio."
   ],
   "metadata": {}
  },
  {
   "outputs": [
    {
     "output_type": "execute_result",
     "data": {
      "text/plain": "\u001b[1m5×2 DataFrame\u001b[0m\n\u001b[1m Row \u001b[0m│\u001b[1m tickers \u001b[0m\u001b[1m weights     \u001b[0m\n     │\u001b[90m Int64   \u001b[0m\u001b[90m Float64     \u001b[0m\n─────┼──────────────────────\n   1 │       1  0.13391\n   2 │       2  1.17101e-11\n   3 │       3  0.496406\n   4 │       4  8.35795e-12\n   5 │       5  0.369684",
      "text/html": [
       "<div><div style = \"float: left;\"><span>5×2 DataFrame</span></div><div style = \"clear: both;\"></div></div><div class = \"data-frame\" style = \"overflow-x: scroll;\"><table class = \"data-frame\" style = \"margin-bottom: 6px;\"><thead><tr class = \"header\"><th class = \"rowNumber\" style = \"font-weight: bold; text-align: right;\">Row</th><th style = \"text-align: left;\">tickers</th><th style = \"text-align: left;\">weights</th></tr><tr class = \"subheader headerLastRow\"><th class = \"rowNumber\" style = \"font-weight: bold; text-align: right;\"></th><th title = \"Int64\" style = \"text-align: left;\">Int64</th><th title = \"Float64\" style = \"text-align: left;\">Float64</th></tr></thead><tbody><tr><td class = \"rowNumber\" style = \"font-weight: bold; text-align: right;\">1</td><td style = \"text-align: right;\">1</td><td style = \"text-align: right;\">0.13391</td></tr><tr><td class = \"rowNumber\" style = \"font-weight: bold; text-align: right;\">2</td><td style = \"text-align: right;\">2</td><td style = \"text-align: right;\">1.17101e-11</td></tr><tr><td class = \"rowNumber\" style = \"font-weight: bold; text-align: right;\">3</td><td style = \"text-align: right;\">3</td><td style = \"text-align: right;\">0.496406</td></tr><tr><td class = \"rowNumber\" style = \"font-weight: bold; text-align: right;\">4</td><td style = \"text-align: right;\">4</td><td style = \"text-align: right;\">8.35795e-12</td></tr><tr><td class = \"rowNumber\" style = \"font-weight: bold; text-align: right;\">5</td><td style = \"text-align: right;\">5</td><td style = \"text-align: right;\">0.369684</td></tr></tbody></table></div>"
      ]
     },
     "metadata": {},
     "execution_count": 195
    }
   ],
   "cell_type": "code",
   "source": [
    "w1 = optimise!(port, Trad(; rm = rm, str_names = true))"
   ],
   "metadata": {},
   "execution_count": 195
  },
  {
   "cell_type": "markdown",
   "source": [
    "Compute MDD."
   ],
   "metadata": {}
  },
  {
   "outputs": [
    {
     "output_type": "execute_result",
     "data": {
      "text/plain": "0.5374188549183612"
     },
     "metadata": {},
     "execution_count": 196
    }
   ],
   "cell_type": "code",
   "source": [
    "r1 = calc_risk(port; rm = rm)"
   ],
   "metadata": {},
   "execution_count": 196
  },
  {
   "cell_type": "markdown",
   "source": [
    "Values are consistent."
   ],
   "metadata": {}
  },
  {
   "outputs": [
    {
     "output_type": "execute_result",
     "data": {
      "text/plain": "true"
     },
     "metadata": {},
     "execution_count": 197
    }
   ],
   "cell_type": "code",
   "source": [
    "isapprox(r1, value(port.model[:mdd_risk]))"
   ],
   "metadata": {},
   "execution_count": 197
  },
  {
   "cell_type": "markdown",
   "source": [
    "Hierarchical optimisation, no JuMP model."
   ],
   "metadata": {}
  },
  {
   "outputs": [
    {
     "output_type": "execute_result",
     "data": {
      "text/plain": "\u001b[1m5×2 DataFrame\u001b[0m\n\u001b[1m Row \u001b[0m│\u001b[1m tickers \u001b[0m\u001b[1m weights  \u001b[0m\n     │\u001b[90m Int64   \u001b[0m\u001b[90m Float64  \u001b[0m\n─────┼───────────────────\n   1 │       1  0.340287\n   2 │       2  0.254799\n   3 │       3  0.132603\n   4 │       4  0.124343\n   5 │       5  0.147968",
      "text/html": [
       "<div><div style = \"float: left;\"><span>5×2 DataFrame</span></div><div style = \"clear: both;\"></div></div><div class = \"data-frame\" style = \"overflow-x: scroll;\"><table class = \"data-frame\" style = \"margin-bottom: 6px;\"><thead><tr class = \"header\"><th class = \"rowNumber\" style = \"font-weight: bold; text-align: right;\">Row</th><th style = \"text-align: left;\">tickers</th><th style = \"text-align: left;\">weights</th></tr><tr class = \"subheader headerLastRow\"><th class = \"rowNumber\" style = \"font-weight: bold; text-align: right;\"></th><th title = \"Int64\" style = \"text-align: left;\">Int64</th><th title = \"Float64\" style = \"text-align: left;\">Float64</th></tr></thead><tbody><tr><td class = \"rowNumber\" style = \"font-weight: bold; text-align: right;\">1</td><td style = \"text-align: right;\">1</td><td style = \"text-align: right;\">0.340287</td></tr><tr><td class = \"rowNumber\" style = \"font-weight: bold; text-align: right;\">2</td><td style = \"text-align: right;\">2</td><td style = \"text-align: right;\">0.254799</td></tr><tr><td class = \"rowNumber\" style = \"font-weight: bold; text-align: right;\">3</td><td style = \"text-align: right;\">3</td><td style = \"text-align: right;\">0.132603</td></tr><tr><td class = \"rowNumber\" style = \"font-weight: bold; text-align: right;\">4</td><td style = \"text-align: right;\">4</td><td style = \"text-align: right;\">0.124343</td></tr><tr><td class = \"rowNumber\" style = \"font-weight: bold; text-align: right;\">5</td><td style = \"text-align: right;\">5</td><td style = \"text-align: right;\">0.147968</td></tr></tbody></table></div>"
      ]
     },
     "metadata": {},
     "execution_count": 198
    }
   ],
   "cell_type": "code",
   "source": [
    "w2 = optimise!(port, HRP(; rm = rm))"
   ],
   "metadata": {},
   "execution_count": 198
  },
  {
   "cell_type": "markdown",
   "source": [
    "Compute the MDD."
   ],
   "metadata": {}
  },
  {
   "outputs": [
    {
     "output_type": "execute_result",
     "data": {
      "text/plain": "1.2557175411222494"
     },
     "metadata": {},
     "execution_count": 199
    }
   ],
   "cell_type": "code",
   "source": [
    "r2 = calc_risk(port, :HRP; rm = rm)"
   ],
   "metadata": {},
   "execution_count": 199
  },
  {
   "cell_type": "markdown",
   "source": [
    "Use it in conjunction with another, less conservative risk measure."
   ],
   "metadata": {}
  },
  {
   "outputs": [
    {
     "output_type": "execute_result",
     "data": {
      "text/plain": "\u001b[1m5×2 DataFrame\u001b[0m\n\u001b[1m Row \u001b[0m│\u001b[1m tickers \u001b[0m\u001b[1m weights    \u001b[0m\n     │\u001b[90m Int64   \u001b[0m\u001b[90m Float64    \u001b[0m\n─────┼─────────────────────\n   1 │       1  0.024221\n   2 │       2  4.10595e-9\n   3 │       3  0.520211\n   4 │       4  0.0302782\n   5 │       5  0.42529",
      "text/html": [
       "<div><div style = \"float: left;\"><span>5×2 DataFrame</span></div><div style = \"clear: both;\"></div></div><div class = \"data-frame\" style = \"overflow-x: scroll;\"><table class = \"data-frame\" style = \"margin-bottom: 6px;\"><thead><tr class = \"header\"><th class = \"rowNumber\" style = \"font-weight: bold; text-align: right;\">Row</th><th style = \"text-align: left;\">tickers</th><th style = \"text-align: left;\">weights</th></tr><tr class = \"subheader headerLastRow\"><th class = \"rowNumber\" style = \"font-weight: bold; text-align: right;\"></th><th title = \"Int64\" style = \"text-align: left;\">Int64</th><th title = \"Float64\" style = \"text-align: left;\">Float64</th></tr></thead><tbody><tr><td class = \"rowNumber\" style = \"font-weight: bold; text-align: right;\">1</td><td style = \"text-align: right;\">1</td><td style = \"text-align: right;\">0.024221</td></tr><tr><td class = \"rowNumber\" style = \"font-weight: bold; text-align: right;\">2</td><td style = \"text-align: right;\">2</td><td style = \"text-align: right;\">4.10595e-9</td></tr><tr><td class = \"rowNumber\" style = \"font-weight: bold; text-align: right;\">3</td><td style = \"text-align: right;\">3</td><td style = \"text-align: right;\">0.520211</td></tr><tr><td class = \"rowNumber\" style = \"font-weight: bold; text-align: right;\">4</td><td style = \"text-align: right;\">4</td><td style = \"text-align: right;\">0.0302782</td></tr><tr><td class = \"rowNumber\" style = \"font-weight: bold; text-align: right;\">5</td><td style = \"text-align: right;\">5</td><td style = \"text-align: right;\">0.42529</td></tr></tbody></table></div>"
      ]
     },
     "metadata": {},
     "execution_count": 200
    }
   ],
   "cell_type": "code",
   "source": [
    "rm = [MDD(; settings = RMSettings(; scale = 0.15)), Variance()]\n",
    "w3 = optimise!(port, Trad(; rm = rm, str_names = true))"
   ],
   "metadata": {},
   "execution_count": 200
  },
  {
   "cell_type": "markdown",
   "source": [
    "MDD."
   ],
   "metadata": {}
  },
  {
   "outputs": [
    {
     "output_type": "execute_result",
     "data": {
      "text/plain": "0.7055289743577166"
     },
     "metadata": {},
     "execution_count": 201
    }
   ],
   "cell_type": "code",
   "source": [
    "r3_1 = calc_risk(port; rm = MDD())"
   ],
   "metadata": {},
   "execution_count": 201
  },
  {
   "cell_type": "markdown",
   "source": [
    "Variance."
   ],
   "metadata": {}
  },
  {
   "outputs": [
    {
     "output_type": "execute_result",
     "data": {
      "text/plain": "0.13551503837607193"
     },
     "metadata": {},
     "execution_count": 202
    }
   ],
   "cell_type": "code",
   "source": [
    "r3_2 = calc_risk(port; rm = Variance())"
   ],
   "metadata": {},
   "execution_count": 202
  },
  {
   "cell_type": "markdown",
   "source": [
    "This portfolio is not optimal in either risk measure, but mixes their characteristics."
   ],
   "metadata": {}
  },
  {
   "outputs": [
    {
     "output_type": "execute_result",
     "data": {
      "text/plain": "\u001b[1m5×2 DataFrame\u001b[0m\n\u001b[1m Row \u001b[0m│\u001b[1m tickers \u001b[0m\u001b[1m weights    \u001b[0m\n     │\u001b[90m Int64   \u001b[0m\u001b[90m Float64    \u001b[0m\n─────┼─────────────────────\n   1 │       1  2.14218e-9\n   2 │       2  0.0183819\n   3 │       3  0.520499\n   4 │       4  0.0340462\n   5 │       5  0.427073",
      "text/html": [
       "<div><div style = \"float: left;\"><span>5×2 DataFrame</span></div><div style = \"clear: both;\"></div></div><div class = \"data-frame\" style = \"overflow-x: scroll;\"><table class = \"data-frame\" style = \"margin-bottom: 6px;\"><thead><tr class = \"header\"><th class = \"rowNumber\" style = \"font-weight: bold; text-align: right;\">Row</th><th style = \"text-align: left;\">tickers</th><th style = \"text-align: left;\">weights</th></tr><tr class = \"subheader headerLastRow\"><th class = \"rowNumber\" style = \"font-weight: bold; text-align: right;\"></th><th title = \"Int64\" style = \"text-align: left;\">Int64</th><th title = \"Float64\" style = \"text-align: left;\">Float64</th></tr></thead><tbody><tr><td class = \"rowNumber\" style = \"font-weight: bold; text-align: right;\">1</td><td style = \"text-align: right;\">1</td><td style = \"text-align: right;\">2.14218e-9</td></tr><tr><td class = \"rowNumber\" style = \"font-weight: bold; text-align: right;\">2</td><td style = \"text-align: right;\">2</td><td style = \"text-align: right;\">0.0183819</td></tr><tr><td class = \"rowNumber\" style = \"font-weight: bold; text-align: right;\">3</td><td style = \"text-align: right;\">3</td><td style = \"text-align: right;\">0.520499</td></tr><tr><td class = \"rowNumber\" style = \"font-weight: bold; text-align: right;\">4</td><td style = \"text-align: right;\">4</td><td style = \"text-align: right;\">0.0340462</td></tr><tr><td class = \"rowNumber\" style = \"font-weight: bold; text-align: right;\">5</td><td style = \"text-align: right;\">5</td><td style = \"text-align: right;\">0.427073</td></tr></tbody></table></div>"
      ]
     },
     "metadata": {},
     "execution_count": 203
    }
   ],
   "cell_type": "code",
   "source": [
    "w4 = optimise!(port, Trad(; rm = Variance(), str_names = true))"
   ],
   "metadata": {},
   "execution_count": 203
  },
  {
   "cell_type": "markdown",
   "source": [
    "Minimum variance portfolio."
   ],
   "metadata": {}
  },
  {
   "outputs": [
    {
     "output_type": "execute_result",
     "data": {
      "text/plain": "0.13051761827097458"
     },
     "metadata": {},
     "execution_count": 204
    }
   ],
   "cell_type": "code",
   "source": [
    "r4 = calc_risk(port; rm = Variance())"
   ],
   "metadata": {},
   "execution_count": 204
  },
  {
   "cell_type": "markdown",
   "source": [
    "MDD of mixed portfolio is higher than the minimal MDD."
   ],
   "metadata": {}
  },
  {
   "outputs": [
    {
     "output_type": "execute_result",
     "data": {
      "text/plain": "true"
     },
     "metadata": {},
     "execution_count": 205
    }
   ],
   "cell_type": "code",
   "source": [
    "r3_1 > r1"
   ],
   "metadata": {},
   "execution_count": 205
  },
  {
   "cell_type": "markdown",
   "source": [
    "Variance of mixed portfolio is higher than the minimal MDD."
   ],
   "metadata": {}
  },
  {
   "outputs": [
    {
     "output_type": "execute_result",
     "data": {
      "text/plain": "true"
     },
     "metadata": {},
     "execution_count": 206
    }
   ],
   "cell_type": "code",
   "source": [
    "r3_2 > r4"
   ],
   "metadata": {},
   "execution_count": 206
  },
  {
   "cell_type": "markdown",
   "source": [
    "---\n",
    "\n",
    "*This notebook was generated using [Literate.jl](https://github.com/fredrikekre/Literate.jl).*"
   ],
   "metadata": {}
  }
 ],
 "nbformat_minor": 3,
 "metadata": {
  "language_info": {
   "file_extension": ".jl",
   "mimetype": "application/julia",
   "name": "julia",
   "version": "1.11.3"
  },
  "kernelspec": {
   "name": "julia-1.11",
   "display_name": "Julia 1.11.3",
   "language": "julia"
  }
 },
 "nbformat": 4
}
